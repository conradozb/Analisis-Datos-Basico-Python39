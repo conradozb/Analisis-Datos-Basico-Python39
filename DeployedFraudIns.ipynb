{
 "cells": [
  {
   "cell_type": "markdown",
   "id": "a1594da7-a448-4cd4-a7e2-f0d2c9d86f60",
   "metadata": {},
   "source": [
    "<A name=\"Deploy1\"> </A> <h1>Deploy Random Forest Classifier using Streamlit</h1>"
   ]
  },
  {
   "cell_type": "markdown",
   "id": "b6eb767f-64ad-41fc-8f53-45626c107231",
   "metadata": {},
   "source": [
    "## Author: Conrado Zárate Badillo.\n",
    "### Creation date:  Tuesday October 25 2022."
   ]
  },
  {
   "cell_type": "markdown",
   "id": "4baf81ad-81f2-42f0-8937-3e7fbb685bd1",
   "metadata": {},
   "source": [
    "This short program is to simulate the deploymenyt of the Random Forest Classifier model to predict frauds on insurance claims.\n",
    "As an input source it takes the \"HIC5.csv\" which was previuosly created by the program \"InsuranceFraudsPredictionsBySML_CZB.ipynb\". \n",
    "\n",
    "The original dataset was freely obtained from the electronic supplementary material of Chapter 25 from the book ([\"Essentials of Business Analytics\"](https://link.springer.com/chapter/10.1007/978-3-319-68837-4_25)) :\n",
    "\n",
    "<https://link.springer.com/chapter/10.1007%2F978-3-319-68837-4_25>"
   ]
  },
  {
   "cell_type": "markdown",
   "id": "258acc17-c189-4c1c-bebf-0ff82cc700ea",
   "metadata": {},
   "source": [
    "The machine learning deployment as web service idea and part of the code was taken from the book: Singh, P. (2022). Deploy Machine Learning Models to Production. With Flask, Streamlit, Docker, and Kubernetes on Google Cloud Platform. Apress.\n",
    "https://link.springer.com/book/10.1007/978-1-4842-6546-8"
   ]
  },
  {
   "cell_type": "code",
   "execution_count": 1,
   "id": "224a6367-4812-41bf-ad90-5d82f6b07ff0",
   "metadata": {},
   "outputs": [],
   "source": [
    "import pandas as pd\n",
    "import numpy as np\n",
    "import joblib\n",
    "import streamlit"
   ]
  },
  {
   "cell_type": "code",
   "execution_count": 2,
   "id": "d453200f-eead-45b8-b224-7a2575f26e53",
   "metadata": {},
   "outputs": [],
   "source": [
    "HIC5=pd.read_csv(\"HIC5.csv\")"
   ]
  },
  {
   "cell_type": "code",
   "execution_count": 3,
   "id": "3091eb3e-3360-45c5-9d77-46289fc35ef4",
   "metadata": {},
   "outputs": [],
   "source": [
    "HICT10=HIC5[['fraud','member_id_fctzd', 'days_claimdt_startpolicy', \n",
    "             'days_claimdt_discharge', 'days_claimdt_endpolicy']]"
   ]
  },
  {
   "cell_type": "code",
   "execution_count": 4,
   "id": "7f65164f-91a1-4035-9620-6dfdc033fb13",
   "metadata": {},
   "outputs": [
    {
     "name": "stdout",
     "output_type": "stream",
     "text": [
      "<class 'pandas.core.frame.DataFrame'>\n",
      "RangeIndex: 99991 entries, 0 to 99990\n",
      "Data columns (total 5 columns):\n",
      " #   Column                    Non-Null Count  Dtype  \n",
      "---  ------                    --------------  -----  \n",
      " 0   fraud                     99991 non-null  int64  \n",
      " 1   member_id_fctzd           99991 non-null  int64  \n",
      " 2   days_claimdt_startpolicy  99991 non-null  float64\n",
      " 3   days_claimdt_discharge    99991 non-null  float64\n",
      " 4   days_claimdt_endpolicy    99991 non-null  float64\n",
      "dtypes: float64(3), int64(2)\n",
      "memory usage: 3.8 MB\n"
     ]
    }
   ],
   "source": [
    "HICT10.info()"
   ]
  },
  {
   "cell_type": "code",
   "execution_count": 5,
   "id": "d6c0ea52-ce64-4633-973b-0a858c0a6f1d",
   "metadata": {},
   "outputs": [
    {
     "data": {
      "text/html": [
       "<div>\n",
       "<style scoped>\n",
       "    .dataframe tbody tr th:only-of-type {\n",
       "        vertical-align: middle;\n",
       "    }\n",
       "\n",
       "    .dataframe tbody tr th {\n",
       "        vertical-align: top;\n",
       "    }\n",
       "\n",
       "    .dataframe thead th {\n",
       "        text-align: right;\n",
       "    }\n",
       "</style>\n",
       "<table border=\"1\" class=\"dataframe\">\n",
       "  <thead>\n",
       "    <tr style=\"text-align: right;\">\n",
       "      <th></th>\n",
       "      <th>fraud</th>\n",
       "      <th>member_id_fctzd</th>\n",
       "      <th>days_claimdt_startpolicy</th>\n",
       "      <th>days_claimdt_discharge</th>\n",
       "      <th>days_claimdt_endpolicy</th>\n",
       "    </tr>\n",
       "  </thead>\n",
       "  <tbody>\n",
       "    <tr>\n",
       "      <th>0</th>\n",
       "      <td>1</td>\n",
       "      <td>0</td>\n",
       "      <td>0.297848</td>\n",
       "      <td>0.276459</td>\n",
       "      <td>0.588551</td>\n",
       "    </tr>\n",
       "    <tr>\n",
       "      <th>1</th>\n",
       "      <td>0</td>\n",
       "      <td>1</td>\n",
       "      <td>0.178369</td>\n",
       "      <td>0.176395</td>\n",
       "      <td>0.670841</td>\n",
       "    </tr>\n",
       "    <tr>\n",
       "      <th>2</th>\n",
       "      <td>1</td>\n",
       "      <td>2</td>\n",
       "      <td>0.373160</td>\n",
       "      <td>0.273894</td>\n",
       "      <td>0.516995</td>\n",
       "    </tr>\n",
       "    <tr>\n",
       "      <th>3</th>\n",
       "      <td>0</td>\n",
       "      <td>2</td>\n",
       "      <td>0.373726</td>\n",
       "      <td>0.230917</td>\n",
       "      <td>0.516547</td>\n",
       "    </tr>\n",
       "    <tr>\n",
       "      <th>4</th>\n",
       "      <td>0</td>\n",
       "      <td>2</td>\n",
       "      <td>0.357871</td>\n",
       "      <td>0.272611</td>\n",
       "      <td>0.529070</td>\n",
       "    </tr>\n",
       "  </tbody>\n",
       "</table>\n",
       "</div>"
      ],
      "text/plain": [
       "   fraud  member_id_fctzd  days_claimdt_startpolicy  days_claimdt_discharge  \\\n",
       "0      1                0                  0.297848                0.276459   \n",
       "1      0                1                  0.178369                0.176395   \n",
       "2      1                2                  0.373160                0.273894   \n",
       "3      0                2                  0.373726                0.230917   \n",
       "4      0                2                  0.357871                0.272611   \n",
       "\n",
       "   days_claimdt_endpolicy  \n",
       "0                0.588551  \n",
       "1                0.670841  \n",
       "2                0.516995  \n",
       "3                0.516547  \n",
       "4                0.529070  "
      ]
     },
     "execution_count": 5,
     "metadata": {},
     "output_type": "execute_result"
    }
   ],
   "source": [
    "HICT10.head()"
   ]
  },
  {
   "cell_type": "code",
   "execution_count": 19,
   "id": "a6662426-c367-4788-a5e7-060744f927ad",
   "metadata": {},
   "outputs": [
    {
     "data": {
      "text/html": [
       "<div>\n",
       "<style scoped>\n",
       "    .dataframe tbody tr th:only-of-type {\n",
       "        vertical-align: middle;\n",
       "    }\n",
       "\n",
       "    .dataframe tbody tr th {\n",
       "        vertical-align: top;\n",
       "    }\n",
       "\n",
       "    .dataframe thead th {\n",
       "        text-align: right;\n",
       "    }\n",
       "</style>\n",
       "<table border=\"1\" class=\"dataframe\">\n",
       "  <thead>\n",
       "    <tr style=\"text-align: right;\">\n",
       "      <th></th>\n",
       "      <th>fraud</th>\n",
       "      <th>member_id_fctzd</th>\n",
       "      <th>days_claimdt_startpolicy</th>\n",
       "      <th>days_claimdt_discharge</th>\n",
       "      <th>days_claimdt_endpolicy</th>\n",
       "    </tr>\n",
       "  </thead>\n",
       "  <tbody>\n",
       "    <tr>\n",
       "      <th>99986</th>\n",
       "      <td>0</td>\n",
       "      <td>86290</td>\n",
       "      <td>0.319366</td>\n",
       "      <td>0.374599</td>\n",
       "      <td>0.571556</td>\n",
       "    </tr>\n",
       "    <tr>\n",
       "      <th>99987</th>\n",
       "      <td>1</td>\n",
       "      <td>86291</td>\n",
       "      <td>0.302378</td>\n",
       "      <td>0.318794</td>\n",
       "      <td>0.584973</td>\n",
       "    </tr>\n",
       "    <tr>\n",
       "      <th>99988</th>\n",
       "      <td>0</td>\n",
       "      <td>86292</td>\n",
       "      <td>0.368630</td>\n",
       "      <td>0.430404</td>\n",
       "      <td>0.532648</td>\n",
       "    </tr>\n",
       "    <tr>\n",
       "      <th>99989</th>\n",
       "      <td>1</td>\n",
       "      <td>86293</td>\n",
       "      <td>0.339751</td>\n",
       "      <td>0.322643</td>\n",
       "      <td>0.555456</td>\n",
       "    </tr>\n",
       "    <tr>\n",
       "      <th>99990</th>\n",
       "      <td>0</td>\n",
       "      <td>86294</td>\n",
       "      <td>0.403737</td>\n",
       "      <td>0.429763</td>\n",
       "      <td>0.504919</td>\n",
       "    </tr>\n",
       "  </tbody>\n",
       "</table>\n",
       "</div>"
      ],
      "text/plain": [
       "       fraud  member_id_fctzd  days_claimdt_startpolicy  \\\n",
       "99986      0            86290                  0.319366   \n",
       "99987      1            86291                  0.302378   \n",
       "99988      0            86292                  0.368630   \n",
       "99989      1            86293                  0.339751   \n",
       "99990      0            86294                  0.403737   \n",
       "\n",
       "       days_claimdt_discharge  days_claimdt_endpolicy  \n",
       "99986                0.374599                0.571556  \n",
       "99987                0.318794                0.584973  \n",
       "99988                0.430404                0.532648  \n",
       "99989                0.322643                0.555456  \n",
       "99990                0.429763                0.504919  "
      ]
     },
     "execution_count": 19,
     "metadata": {},
     "output_type": "execute_result"
    }
   ],
   "source": [
    "HICT10.tail()"
   ]
  },
  {
   "cell_type": "code",
   "execution_count": 4,
   "id": "7759bed5-cd8e-42d4-9e7b-94a1f7934344",
   "metadata": {},
   "outputs": [],
   "source": [
    "# separate the features and targets\n",
    "yGenT10=HICT10['fraud']  # selects the first column fraud as target\n",
    "XGenT10=HICT10.drop(['fraud'], axis=1) "
   ]
  },
  {
   "cell_type": "code",
   "execution_count": 5,
   "id": "65f75edb-cafd-4f61-bc8a-1524ef0e2ad7",
   "metadata": {},
   "outputs": [],
   "source": [
    "# train_test spliting \n",
    "from sklearn.model_selection import train_test_split\n",
    "X_trainT10, X_testT10, y_trainT10, y_testT10 = train_test_split(XGenT10, yGenT10, random_state=0)"
   ]
  },
  {
   "cell_type": "code",
   "execution_count": 6,
   "id": "467f3f90-f5d1-4992-b10f-79e89a1d0867",
   "metadata": {},
   "outputs": [],
   "source": [
    "from imblearn.over_sampling import RandomOverSampler\n",
    "rosT10 = RandomOverSampler(random_state=0)"
   ]
  },
  {
   "cell_type": "code",
   "execution_count": 7,
   "id": "a55c6569-3bb0-4284-8961-5dff784b5f2e",
   "metadata": {},
   "outputs": [],
   "source": [
    "# fit predictor and target variable\n",
    "X_train_rosT10, y_train_rosT10 = rosT10.fit_resample(XGenT10, yGenT10)"
   ]
  },
  {
   "cell_type": "code",
   "execution_count": 17,
   "id": "4f2b470b-171d-4fd7-921b-289739bda90b",
   "metadata": {},
   "outputs": [
    {
     "name": "stdout",
     "output_type": "stream",
     "text": [
      "Accuracy on training set: 0.999\n",
      "Accuracy on test set: 0.999\n",
      "[[19411    31]\n",
      " [    3  5553]]\n"
     ]
    }
   ],
   "source": [
    "from sklearn.ensemble import RandomForestClassifier\n",
    "# RandomForestClassifier  X_train_rosT10, y_train_rosT10\n",
    "RFClf = RandomForestClassifier().fit(X_train_rosT10, y_train_rosT10)\n",
    "print(\"Accuracy on training set: {:.3f}\".format(RFClf.score(X_train_rosT10, y_train_rosT10)))\n",
    "print(\"Accuracy on test set: {:.3f}\".format(RFClf.score(X_testT10, y_testT10)))\n",
    "y_pred = RFClf.predict(X_testT10)\n",
    "y_pred = np.round(y_pred)\n",
    "from sklearn.metrics import confusion_matrix\n",
    "cf_matrix = confusion_matrix(y_testT10, y_pred)\n",
    "print(cf_matrix)"
   ]
  },
  {
   "cell_type": "code",
   "execution_count": 18,
   "id": "1b13f2b4-b141-4e08-8684-765339e4a979",
   "metadata": {},
   "outputs": [
    {
     "data": {
      "text/plain": [
       "['RandomForestClassifierModel.pkl']"
      ]
     },
     "execution_count": 18,
     "metadata": {},
     "output_type": "execute_result"
    }
   ],
   "source": [
    "joblib.dump(RFClf,'RandomForestClassifierModel.pkl')"
   ]
  },
  {
   "cell_type": "markdown",
   "id": "af6f0af0-7bee-4864-9444-cc0cbd7bea64",
   "metadata": {},
   "source": [
    "# To run the deployed model\n",
    "1. open a terminal (File, New, Terminal)\n",
    "\n",
    "2. change to current working directory. For example:\n",
    "\n",
    "\"cd C:\\Users\\conza\\EssBusinessAnalytics\\Ideal_Insurance\"\n",
    "\n",
    "3. execute on a terminal:\n",
    "\n",
    "$ streamlit run WebAppFraudIns.py"
   ]
  },
  {
   "cell_type": "code",
   "execution_count": null,
   "id": "9e14398a-b4d7-48d3-95f8-ea6db45ab200",
   "metadata": {},
   "outputs": [],
   "source": []
  }
 ],
 "metadata": {
  "kernelspec": {
   "display_name": "Python 3 (ipykernel)",
   "language": "python",
   "name": "python3"
  },
  "language_info": {
   "codemirror_mode": {
    "name": "ipython",
    "version": 3
   },
   "file_extension": ".py",
   "mimetype": "text/x-python",
   "name": "python",
   "nbconvert_exporter": "python",
   "pygments_lexer": "ipython3",
   "version": "3.7.13"
  }
 },
 "nbformat": 4,
 "nbformat_minor": 5
}
