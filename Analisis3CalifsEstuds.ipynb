{
 "cells": [
  {
   "cell_type": "markdown",
   "id": "6e4a45a3",
   "metadata": {},
   "source": [
    "# ANALISIS BASICO DE DATOS (en Python) DE  \"GRADOS O CALIFICACIONES DE ESTUDIANTES\" (Borrador #3)"
   ]
  },
  {
   "cell_type": "markdown",
   "id": "f9cd4e74",
   "metadata": {},
   "source": [
    "<A name=\"TablaContenidos\"> </A> <h2> Tabla de Contenidos </h2>\n",
    "<div class=\"alert alert-block alert-info\" style=\"margin-top: 20px\">\n",
    "    <ul>\n",
    "        <li><a href=\"#entorno\">Entorno</a></li>\n",
    "        <li><a href=\"#autor\">Autor</a></li>\n",
    "        <li><a href=\"#datos\">Procedencia Datos</a></li>\n",
    "        <li><a href=\"#codigo\">Origen codigo</a></li>\n",
    "        <li><a href=\"#objetivo\">Objetivo del Analisis Basico</a></li>\n",
    "        <li><a href=\"#justificacion\">Justificacion del Analisis Basico</a></li>\n",
    "        <li><a href=\"#LoadingData\">LOADING DATA</a></li>\n",
    "        <li><a href=\"#CleaningVSVisualizing\">CLEANING VS VISUALIZING DATA</a></li>\n",
    "        <li><a href=\"#CRISP\">BUSINESS UNDERSTANDING (CRISP-DM) by means of DATA VISUALIZATION</a></li>\n",
    "        <li><a href=\"#DataPreparation\">DATA PREPARATION (DP)</a></li>\n",
    "        <li><a href=\"#RemoveOutliers\">DP. 1.Remove Outliers</a></li>\n",
    "        <li><a href=\"#Method1\">DP. 1.Remove Outliers. Method 1</a></li>\n",
    "        <li><a href=\"#Method2\">DP. 1.Remove Outliers. Method 2</a></li>\n",
    "        <li><a href=\"#MissingData\">DP. Missing Data in Pandas DataFrame</a></li>\n",
    "        <li><a href=\"#MissingData\">DP. 2.Finding missing data.</a></li>\n",
    "        <li><a href=\"#DecidingOnMissingData\">DP. 2a.Deciding on missing data.</a></li>\n",
    "        <li><a href=\"#FilteringInnapropiateValues\">DP. 3.Filtering & Remove Innapropiate Values.</a></li>\n",
    "        <li><a href=\"#FindingDuplicateRows\">DP. 4.Finding & Remove Duplicate Rows.</a></li>\n",
    "     </ul>\n",
    "\n",
    "</div>"
   ]
  },
  {
   "cell_type": "markdown",
   "id": "d9665775",
   "metadata": {},
   "source": [
    "<A name=\"entorno\"> </A> <h3> Entorno: Anaconda Navigator 2.0.4  Jupyter notebook server : 6.4.5 Python 3.9.7 </h3>"
   ]
  },
  {
   "cell_type": "markdown",
   "id": "c3057b25",
   "metadata": {},
   "source": [
    "<A name=\"autor\"> </A> <h3> Autor: Conrado Zárate Badillo. Fecha de creación: 13 Diciembre 2021.  Fecha modificación más reciente: 11 Enero 2021. </h3>"
   ]
  },
  {
   "cell_type": "markdown",
   "id": "d1865c55",
   "metadata": {},
   "source": [
    "<A name=\"datos\"> </A> <h3> Conjunto de datos obtenidos a partir de los ejemplos del libro:</h3> \n",
    "    <h4>Henley, A., & Wolf, D. (2018). ***Learn Data Analysis with Python: Lessons in Coding. Apress.*** </h4>\n",
    "</h5>En el url: https://github.com/Apress/learn-data-analysis-w-python/tree/master/datasets </h5>"
   ]
  },
  {
   "cell_type": "markdown",
   "id": "1da93c46",
   "metadata": {},
   "source": [
    "<A name=\"codigo\"> </A> <h3>  Código adecuado, adaptado y ampliado a partir del original del libro: \n",
    "***Henley, A., & Wolf, D. (2018). Learn Data Analysis with Python: Lessons in Coding. Apress.*** </h3>"
   ]
  },
  {
   "cell_type": "markdown",
   "id": "cc7a07ad",
   "metadata": {},
   "source": [
    "<A name='objetivo'> </A> <h3>OBJETIVO: Brindar una forma sencilla, compacta y rápida, de un análisis de datos con Python.</h3>"
   ]
  },
  {
   "cell_type": "markdown",
   "id": "0571c722",
   "metadata": {},
   "source": [
    "<A name='justificacion'> </A> <h3> JUSTIFICACION: </h3> <h4>En mi particular opinión considero necesaria para todos aquellos que inician el análisis de datos en Python (como yo), una vista rapida y sencilla del código (y un poco de metodología apoyada de algún marco de trabajo de referencia) en este lenguaje para esta actividad. Me ha parecido común encontrar en libros y en cursos de analisis de datos con Python y temas relacionados, \"un previo y bastante largo recorrido\" para apenas ver en acción bosquejos fraccionados de lo que se pretende en parte con el análisis datos en Python. Por otro lado, me parece que algunos lectores en México y de habla hispana, estarán más cómodos leyendo en su idioma este material, ya que en español es sumamente escaso comparado con el material en inglés.</h4>"
   ]
  },
  {
   "cell_type": "markdown",
   "id": "63bf0b45",
   "metadata": {},
   "source": [
    "#### NOTA: Una disculpa por escribir este cuaderno en español e inglés. Los motivos obedecen a que por una parte es un trabajo a modo de borrador, que voy adecuando a la par de continuar estudiando los por menores de Python. "
   ]
  },
  {
   "cell_type": "markdown",
   "id": "74123738",
   "metadata": {},
   "source": [
    "<div class=\"alert alert-block alert-info\" style=\"margin-top: 20px\">\n",
    "    <ul>\n",
    "        <li><a href=\"#TablaContenidos\">Regresar a Tabla de Contenidos</a></li>\n",
    "    </ul>\n",
    "</div>"
   ]
  },
  {
   "cell_type": "markdown",
   "id": "cb8f0b77",
   "metadata": {},
   "source": [
    "<A name='LoadingData' > </A> <h2> Loading Data from Excel File </h2>"
   ]
  },
  {
   "cell_type": "markdown",
   "id": "3b3d55d7",
   "metadata": {},
   "source": [
    "<div class=\"alert alert-block alert-info\" style=\"margin-top: 20px\">\n",
    "    <ul>\n",
    "        <li><a href=\"#TablaContenidos\">Regresar a Tabla de Contenidos</a></li>\n",
    "    </ul>\n",
    "</div>"
   ]
  },
  {
   "cell_type": "code",
   "execution_count": 58,
   "id": "e8e61245-46f4-4733-8f45-4505074fd5fe",
   "metadata": {},
   "outputs": [],
   "source": [
    "import pandas as pd"
   ]
  },
  {
   "cell_type": "markdown",
   "id": "63dfce0a-617b-4ae5-8551-4bf6e08d2b36",
   "metadata": {},
   "source": [
    "##### Python 3.4 introduced a new standard library for dealing with files and paths called pathlib"
   ]
  },
  {
   "cell_type": "code",
   "execution_count": 59,
   "id": "0f1a251c-6cec-4e52-94e6-0f04e6199cea",
   "metadata": {},
   "outputs": [],
   "source": [
    "from pathlib import Path "
   ]
  },
  {
   "cell_type": "markdown",
   "id": "60d4f3ed-9379-4eea-aa68-d0d51f9b5abe",
   "metadata": {},
   "source": [
    "##### absolute route in windows format"
   ]
  },
  {
   "cell_type": "code",
   "execution_count": 60,
   "id": "0a8fc5a4-6d46-4e5e-8da2-3f20de8dcf46",
   "metadata": {},
   "outputs": [],
   "source": [
    "data_folder = Path('C:/Users/conza/Henley/datasets')"
   ]
  },
  {
   "cell_type": "markdown",
   "id": "7b509432-6b0f-4e49-9328-9f13043e92cc",
   "metadata": {},
   "source": [
    "##### file to open attached to variable data_folder for windows absolute route"
   ]
  },
  {
   "cell_type": "code",
   "execution_count": 61,
   "id": "d4ca4d58-6209-4c5c-8b86-b8c366183601",
   "metadata": {},
   "outputs": [],
   "source": [
    "file_to_open = data_folder / \"gradedata.xlsx\" "
   ]
  },
  {
   "cell_type": "code",
   "execution_count": 62,
   "id": "c2e8b7e1-0ce0-41df-be48-e16c0298a17d",
   "metadata": {},
   "outputs": [],
   "source": [
    "df = pd.read_excel(file_to_open)"
   ]
  },
  {
   "cell_type": "code",
   "execution_count": 63,
   "id": "8d194d6b-740a-4ac8-8c16-bb77c44b3923",
   "metadata": {},
   "outputs": [
    {
     "data": {
      "text/html": [
       "<div>\n",
       "<style scoped>\n",
       "    .dataframe tbody tr th:only-of-type {\n",
       "        vertical-align: middle;\n",
       "    }\n",
       "\n",
       "    .dataframe tbody tr th {\n",
       "        vertical-align: top;\n",
       "    }\n",
       "\n",
       "    .dataframe thead th {\n",
       "        text-align: right;\n",
       "    }\n",
       "</style>\n",
       "<table border=\"1\" class=\"dataframe\">\n",
       "  <thead>\n",
       "    <tr style=\"text-align: right;\">\n",
       "      <th></th>\n",
       "      <th>fname</th>\n",
       "      <th>lname</th>\n",
       "      <th>gender</th>\n",
       "      <th>age</th>\n",
       "      <th>exercise</th>\n",
       "      <th>hours</th>\n",
       "      <th>grade</th>\n",
       "      <th>address</th>\n",
       "    </tr>\n",
       "  </thead>\n",
       "  <tbody>\n",
       "    <tr>\n",
       "      <th>0</th>\n",
       "      <td>Marcia</td>\n",
       "      <td>Pugh</td>\n",
       "      <td>female</td>\n",
       "      <td>17.0</td>\n",
       "      <td>3.0</td>\n",
       "      <td>10.0</td>\n",
       "      <td>82.4</td>\n",
       "      <td>7379 Highland Rd. , Dublin, GA 31021</td>\n",
       "    </tr>\n",
       "    <tr>\n",
       "      <th>1</th>\n",
       "      <td>Kadeem</td>\n",
       "      <td>Morrison</td>\n",
       "      <td>male</td>\n",
       "      <td>18.0</td>\n",
       "      <td>4.0</td>\n",
       "      <td>4.0</td>\n",
       "      <td>78.2</td>\n",
       "      <td>8 Bayport St. , Honolulu, HI 96815</td>\n",
       "    </tr>\n",
       "    <tr>\n",
       "      <th>2</th>\n",
       "      <td>Nash</td>\n",
       "      <td>Powell</td>\n",
       "      <td>male</td>\n",
       "      <td>18.0</td>\n",
       "      <td>5.0</td>\n",
       "      <td>9.0</td>\n",
       "      <td>79.3</td>\n",
       "      <td>Encino, CA 91316, 3 Lilac Street</td>\n",
       "    </tr>\n",
       "    <tr>\n",
       "      <th>3</th>\n",
       "      <td>Noelani</td>\n",
       "      <td>Wagner</td>\n",
       "      <td>female</td>\n",
       "      <td>14.0</td>\n",
       "      <td>2.0</td>\n",
       "      <td>7.0</td>\n",
       "      <td>83.2</td>\n",
       "      <td>Riverview, FL 33569, 9998 North Smith Dr.</td>\n",
       "    </tr>\n",
       "    <tr>\n",
       "      <th>4</th>\n",
       "      <td>Noelani</td>\n",
       "      <td>Cherry</td>\n",
       "      <td>female</td>\n",
       "      <td>18.0</td>\n",
       "      <td>4.0</td>\n",
       "      <td>15.0</td>\n",
       "      <td>87.4</td>\n",
       "      <td>97 SE. Ocean Street , Bethlehem, PA 18015</td>\n",
       "    </tr>\n",
       "  </tbody>\n",
       "</table>\n",
       "</div>"
      ],
      "text/plain": [
       "     fname     lname  gender   age  exercise  hours  grade  \\\n",
       "0   Marcia      Pugh  female  17.0       3.0   10.0   82.4   \n",
       "1   Kadeem  Morrison    male  18.0       4.0    4.0   78.2   \n",
       "2     Nash    Powell    male  18.0       5.0    9.0   79.3   \n",
       "3  Noelani    Wagner  female  14.0       2.0    7.0   83.2   \n",
       "4  Noelani    Cherry  female  18.0       4.0   15.0   87.4   \n",
       "\n",
       "                                      address  \n",
       "0        7379 Highland Rd. , Dublin, GA 31021  \n",
       "1          8 Bayport St. , Honolulu, HI 96815  \n",
       "2           Encino, CA 91316, 3 Lilac Street   \n",
       "3  Riverview, FL 33569, 9998 North Smith Dr.   \n",
       "4   97 SE. Ocean Street , Bethlehem, PA 18015  "
      ]
     },
     "execution_count": 63,
     "metadata": {},
     "output_type": "execute_result"
    }
   ],
   "source": [
    "df.head()"
   ]
  },
  {
   "cell_type": "code",
   "execution_count": 7,
   "id": "12850481",
   "metadata": {},
   "outputs": [
    {
     "data": {
      "text/html": [
       "<div>\n",
       "<style scoped>\n",
       "    .dataframe tbody tr th:only-of-type {\n",
       "        vertical-align: middle;\n",
       "    }\n",
       "\n",
       "    .dataframe tbody tr th {\n",
       "        vertical-align: top;\n",
       "    }\n",
       "\n",
       "    .dataframe thead th {\n",
       "        text-align: right;\n",
       "    }\n",
       "</style>\n",
       "<table border=\"1\" class=\"dataframe\">\n",
       "  <thead>\n",
       "    <tr style=\"text-align: right;\">\n",
       "      <th></th>\n",
       "      <th>fname</th>\n",
       "      <th>lname</th>\n",
       "      <th>gender</th>\n",
       "      <th>age</th>\n",
       "      <th>exercise</th>\n",
       "      <th>hours</th>\n",
       "      <th>grade</th>\n",
       "      <th>address</th>\n",
       "    </tr>\n",
       "  </thead>\n",
       "  <tbody>\n",
       "    <tr>\n",
       "      <th>1995</th>\n",
       "      <td>Cody</td>\n",
       "      <td>Shepherd</td>\n",
       "      <td>male</td>\n",
       "      <td>19.0</td>\n",
       "      <td>1.0</td>\n",
       "      <td>8.0</td>\n",
       "      <td>80.1</td>\n",
       "      <td>8567 Walnut Street , Piqua, OH 45356</td>\n",
       "    </tr>\n",
       "    <tr>\n",
       "      <th>1996</th>\n",
       "      <td>Geraldine</td>\n",
       "      <td>Peterson</td>\n",
       "      <td>female</td>\n",
       "      <td>16.0</td>\n",
       "      <td>4.0</td>\n",
       "      <td>18.0</td>\n",
       "      <td>100.0</td>\n",
       "      <td>Lynn, MA 01902, 66 Bridge Drive</td>\n",
       "    </tr>\n",
       "    <tr>\n",
       "      <th>1997</th>\n",
       "      <td>Mercedes</td>\n",
       "      <td>Leon</td>\n",
       "      <td>female</td>\n",
       "      <td>18.0</td>\n",
       "      <td>3.0</td>\n",
       "      <td>14.0</td>\n",
       "      <td>84.9</td>\n",
       "      <td>Loxahatchee, FL 33470, 8887 NE. Sugar Road</td>\n",
       "    </tr>\n",
       "    <tr>\n",
       "      <th>1998</th>\n",
       "      <td>Lucius</td>\n",
       "      <td>Rowland</td>\n",
       "      <td>male</td>\n",
       "      <td>16.0</td>\n",
       "      <td>1.0</td>\n",
       "      <td>7.0</td>\n",
       "      <td>69.1</td>\n",
       "      <td>8734 South Birch Hill Drive , Canfield, OH 44406</td>\n",
       "    </tr>\n",
       "    <tr>\n",
       "      <th>1999</th>\n",
       "      <td>Linus</td>\n",
       "      <td>Morris</td>\n",
       "      <td>male</td>\n",
       "      <td>19.0</td>\n",
       "      <td>4.0</td>\n",
       "      <td>10.0</td>\n",
       "      <td>79.6</td>\n",
       "      <td>21 Glen Ridge St. , Highland, IN 46322</td>\n",
       "    </tr>\n",
       "  </tbody>\n",
       "</table>\n",
       "</div>"
      ],
      "text/plain": [
       "          fname     lname  gender   age  exercise  hours  grade  \\\n",
       "1995       Cody  Shepherd    male  19.0       1.0    8.0   80.1   \n",
       "1996  Geraldine  Peterson  female  16.0       4.0   18.0  100.0   \n",
       "1997   Mercedes      Leon  female  18.0       3.0   14.0   84.9   \n",
       "1998     Lucius   Rowland    male  16.0       1.0    7.0   69.1   \n",
       "1999      Linus    Morris    male  19.0       4.0   10.0   79.6   \n",
       "\n",
       "                                               address  \n",
       "1995              8567 Walnut Street , Piqua, OH 45356  \n",
       "1996                  Lynn, MA 01902, 66 Bridge Drive   \n",
       "1997       Loxahatchee, FL 33470, 8887 NE. Sugar Road   \n",
       "1998  8734 South Birch Hill Drive , Canfield, OH 44406  \n",
       "1999            21 Glen Ridge St. , Highland, IN 46322  "
      ]
     },
     "execution_count": 7,
     "metadata": {},
     "output_type": "execute_result"
    }
   ],
   "source": [
    "df.tail()"
   ]
  },
  {
   "cell_type": "markdown",
   "id": "d27502fd",
   "metadata": {},
   "source": [
    "Muestra los nombres de las columnas del df y el numero de renglones"
   ]
  },
  {
   "cell_type": "code",
   "execution_count": 64,
   "id": "e9750ba9",
   "metadata": {},
   "outputs": [
    {
     "data": {
      "text/plain": [
       "fname       2000\n",
       "lname       2000\n",
       "gender      2000\n",
       "age         2000\n",
       "exercise    2000\n",
       "hours       2000\n",
       "grade       2000\n",
       "address     2000\n",
       "dtype: int64"
      ]
     },
     "execution_count": 64,
     "metadata": {},
     "output_type": "execute_result"
    }
   ],
   "source": [
    "df.count()"
   ]
  },
  {
   "cell_type": "markdown",
   "id": "9024e39a",
   "metadata": {},
   "source": [
    "##### Con estos datos, en principio parece valido suponer una poblacion de 2,000 personas o alumnos."
   ]
  },
  {
   "cell_type": "markdown",
   "id": "42f56f5a",
   "metadata": {},
   "source": [
    "Para obtener estadisticas basicas de los campos o columnas o variables numericas del df"
   ]
  },
  {
   "cell_type": "markdown",
   "id": "5890975a",
   "metadata": {},
   "source": [
    "Analyzes both numeric and object series, as well\n",
    "as ``DataFrame`` column sets of mixed data types. The output\n",
    "will vary depending on what is provided. "
   ]
  },
  {
   "cell_type": "markdown",
   "id": "389df871",
   "metadata": {},
   "source": [
    "DataFrame.count: Count number of non-NA/null observations."
   ]
  },
  {
   "cell_type": "code",
   "execution_count": 65,
   "id": "c741c02e",
   "metadata": {},
   "outputs": [
    {
     "data": {
      "text/html": [
       "<div>\n",
       "<style scoped>\n",
       "    .dataframe tbody tr th:only-of-type {\n",
       "        vertical-align: middle;\n",
       "    }\n",
       "\n",
       "    .dataframe tbody tr th {\n",
       "        vertical-align: top;\n",
       "    }\n",
       "\n",
       "    .dataframe thead th {\n",
       "        text-align: right;\n",
       "    }\n",
       "</style>\n",
       "<table border=\"1\" class=\"dataframe\">\n",
       "  <thead>\n",
       "    <tr style=\"text-align: right;\">\n",
       "      <th></th>\n",
       "      <th>age</th>\n",
       "      <th>exercise</th>\n",
       "      <th>hours</th>\n",
       "      <th>grade</th>\n",
       "    </tr>\n",
       "  </thead>\n",
       "  <tbody>\n",
       "    <tr>\n",
       "      <th>count</th>\n",
       "      <td>2000.000000</td>\n",
       "      <td>2000.000000</td>\n",
       "      <td>2000.000000</td>\n",
       "      <td>2000.000000</td>\n",
       "    </tr>\n",
       "    <tr>\n",
       "      <th>mean</th>\n",
       "      <td>16.578500</td>\n",
       "      <td>3.000500</td>\n",
       "      <td>10.988500</td>\n",
       "      <td>82.556050</td>\n",
       "    </tr>\n",
       "    <tr>\n",
       "      <th>std</th>\n",
       "      <td>1.696254</td>\n",
       "      <td>1.423205</td>\n",
       "      <td>4.063942</td>\n",
       "      <td>9.747593</td>\n",
       "    </tr>\n",
       "    <tr>\n",
       "      <th>min</th>\n",
       "      <td>14.000000</td>\n",
       "      <td>0.000000</td>\n",
       "      <td>0.000000</td>\n",
       "      <td>32.000000</td>\n",
       "    </tr>\n",
       "    <tr>\n",
       "      <th>25%</th>\n",
       "      <td>15.000000</td>\n",
       "      <td>2.000000</td>\n",
       "      <td>8.000000</td>\n",
       "      <td>75.575000</td>\n",
       "    </tr>\n",
       "    <tr>\n",
       "      <th>50%</th>\n",
       "      <td>17.000000</td>\n",
       "      <td>3.000000</td>\n",
       "      <td>11.000000</td>\n",
       "      <td>82.700000</td>\n",
       "    </tr>\n",
       "    <tr>\n",
       "      <th>75%</th>\n",
       "      <td>18.000000</td>\n",
       "      <td>4.000000</td>\n",
       "      <td>14.000000</td>\n",
       "      <td>89.700000</td>\n",
       "    </tr>\n",
       "    <tr>\n",
       "      <th>max</th>\n",
       "      <td>19.000000</td>\n",
       "      <td>5.000000</td>\n",
       "      <td>20.000000</td>\n",
       "      <td>100.000000</td>\n",
       "    </tr>\n",
       "  </tbody>\n",
       "</table>\n",
       "</div>"
      ],
      "text/plain": [
       "               age     exercise        hours        grade\n",
       "count  2000.000000  2000.000000  2000.000000  2000.000000\n",
       "mean     16.578500     3.000500    10.988500    82.556050\n",
       "std       1.696254     1.423205     4.063942     9.747593\n",
       "min      14.000000     0.000000     0.000000    32.000000\n",
       "25%      15.000000     2.000000     8.000000    75.575000\n",
       "50%      17.000000     3.000000    11.000000    82.700000\n",
       "75%      18.000000     4.000000    14.000000    89.700000\n",
       "max      19.000000     5.000000    20.000000   100.000000"
      ]
     },
     "execution_count": 65,
     "metadata": {},
     "output_type": "execute_result"
    }
   ],
   "source": [
    "df.describe()"
   ]
  },
  {
   "cell_type": "markdown",
   "id": "53d24ea0",
   "metadata": {},
   "source": [
    "Al parecer no hay renglones vacios para las columnas 'age', 'exercise', 'hours' y 'grade'. Pero podrian existir valores incorrectos como numeros negativos o valores fuera de escalas permitidas. Por ejemplo una calificación mayor a 100 o una edad con punto decimal. "
   ]
  },
  {
   "cell_type": "markdown",
   "id": "2bc228cd",
   "metadata": {},
   "source": [
    "Respecto a otras variables no numericas como 'fname', 'lname', 'gender', 'address', también podrían existir multiples inconsistencias o inconveniencias. Por ejemplo, nombres compuestos por fname y lname duplicados, gender diferentes a male/female y direcciones incompletas respecto a la zona postal. También podría considerarse necesaria uniformidad o estandarización para algunas variables, como por ejemplo solo minusculas para el genero."
   ]
  },
  {
   "cell_type": "markdown",
   "id": "3af04c29",
   "metadata": {},
   "source": [
    "#### La siguiente linea es para ejecutar todas las celdas anteriores un tanto similar a '#%%' en scripts .py"
   ]
  },
  {
   "cell_type": "code",
   "execution_count": 2384,
   "id": "f776ba54",
   "metadata": {},
   "outputs": [
    {
     "data": {
      "application/javascript": [
       "IPython.notebook.execute_cells_above()"
      ],
      "text/plain": [
       "<IPython.core.display.Javascript object>"
      ]
     },
     "metadata": {},
     "output_type": "display_data"
    },
    {
     "data": {
      "application/javascript": [
       "IPython.notebook.execute_cells_above()"
      ],
      "text/plain": [
       "<IPython.core.display.Javascript object>"
      ]
     },
     "metadata": {},
     "output_type": "display_data"
    }
   ],
   "source": [
    "from IPython.display import Javascript\n",
    "display(Javascript('IPython.notebook.execute_cells_above()'))"
   ]
  },
  {
   "cell_type": "markdown",
   "id": "c2efa736",
   "metadata": {},
   "source": [
    "<div class=\"alert alert-block alert-info\" style=\"margin-top: 20px\">\n",
    "    <ul>\n",
    "        <li><a href=\"#TablaContenidos\">Regresar a Tabla de Contenidos</a></li>\n",
    "    </ul>\n",
    "</div>"
   ]
  },
  {
   "cell_type": "markdown",
   "id": "8cfbdd0b",
   "metadata": {},
   "source": [
    "<A name='CleaningVSVisualizing'> </A> <h2>Cleaning VS Visualizing data </h2>"
   ]
  },
  {
   "cell_type": "markdown",
   "id": "64ed06a7",
   "metadata": {},
   "source": [
    "#### En este punto algunos autores (A.J. Henley y Dave Wolf: Learn Data Analysis with Python, 2018, Ed. Apress) y ciclos de vida de analisis de datos (Ask, Prepare, Proces, Analyze, Share, Act del curso de Google Data Analytics), sugieren primero limpiar los datos para posteriormente analizarlos. "
   ]
  },
  {
   "cell_type": "markdown",
   "id": "078e05c8",
   "metadata": {},
   "source": [
    "#### Pero también es posible primero explorar los datos mediante visualizaciones para que de manera un tanto rapida y superficial pero atractiva y facilmente entendible, poder familiarizarse mejor con la información, con el tema o problema, así como posibles identificar valores atípicos."
   ]
  },
  {
   "cell_type": "markdown",
   "id": "f49d6545",
   "metadata": {},
   "source": [
    "### La práctica anteriormente referida parece tener mucha relación con dos marcos de trabajo de mineria de datos: CRoss-Industry Standard Process for Data Mining (CRISP-DM) y Sample, Explore, Modify, Model, and Asses (SEMMA). "
   ]
  },
  {
   "cell_type": "markdown",
   "id": "9b2e3671",
   "metadata": {},
   "source": [
    "#### La siguiente imagen bosqueja tres conocidos marcos de trabajo de mineria de datos. La imagen fue obtenida del libro: ***Mastering Machine Learning with Python in Six Steps: A Practical Implementation Guide to Predictive Data Analytics Using Python, Second Edition. Manohar Swamynathan. 2019 Ed.Apress***"
   ]
  },
  {
   "attachments": {
    "image.png": {
     "image/png": "[encoded data removed]"
    }
   },
   "cell_type": "markdown",
   "id": "4fb26f36",
   "metadata": {},
   "source": [
    "![image.png](attachment:image.png)"
   ]
  },
  {
   "cell_type": "markdown",
   "id": "8c20e43a",
   "metadata": {},
   "source": [
    "#### KDD: Knowledge Discovery in Databases. CRISP: Cross-Industry Standard Process for Data Mining. SEMMA: Sample, Explore, Modify, Model, Assess."
   ]
  },
  {
   "cell_type": "markdown",
   "id": "3de55af4",
   "metadata": {},
   "source": [
    "<A name='CRISP'> </A> <h3>BUSINESS UNDERSTANDING (CRISP-DM) by means of data visualization </h3>"
   ]
  },
  {
   "cell_type": "markdown",
   "id": "dfa261cf",
   "metadata": {},
   "source": [
    "<div class=\"alert alert-block alert-info\" style=\"margin-top: 20px\">\n",
    "    <ul>\n",
    "        <li><a href=\"#TablaContenidos\">Regresar a Tabla de Contenidos</a></li>\n",
    "    </ul>\n",
    "</div>"
   ]
  },
  {
   "cell_type": "markdown",
   "id": "ed8356da",
   "metadata": {},
   "source": [
    "En lo particular prefiero visualizar primero los datos antes de limpiarlos. Entre los principales motivos para visualizar son: el dar continuidad a la estadística basica de campos numéricos (realizada en el anterior segmento \"Loading Data from Excel File\") y atraer la atención propia y de los lectores, sobre los datos expresados en imágenes o graficos. Fase: Data Understanding de CRISP-DM."
   ]
  },
  {
   "cell_type": "markdown",
   "id": "a59c9f9d",
   "metadata": {},
   "source": [
    "Otro de los motivos es gestar el interés por posibles relaciones entre variables que contribuyan a caminos de busqueda y hallazgo de pistas hacia el conocimiento y atención del asunto del análisis. Relacionado con la fase de 'Explore' del 'SEMMA'."
   ]
  },
  {
   "cell_type": "code",
   "execution_count": 66,
   "id": "6e979b76",
   "metadata": {},
   "outputs": [],
   "source": [
    "import matplotlib.pyplot as plt"
   ]
  },
  {
   "cell_type": "code",
   "execution_count": 67,
   "id": "971b42e7",
   "metadata": {},
   "outputs": [],
   "source": [
    "#para visualizar los graficos en el cuaderno"
   ]
  },
  {
   "cell_type": "code",
   "execution_count": 68,
   "id": "5fdd21c9",
   "metadata": {},
   "outputs": [],
   "source": [
    "%matplotlib inline"
   ]
  },
  {
   "cell_type": "markdown",
   "id": "ca62d349",
   "metadata": {},
   "source": [
    "#### Posiblemente uno de los primeros datos de mayor interes son los promedios de calificaciones de los alumnos. Para lo cual de forma grafica se puede apreciar con un diagrama de cajas y bigotes"
   ]
  },
  {
   "cell_type": "code",
   "execution_count": 69,
   "id": "fe53aa10",
   "metadata": {},
   "outputs": [
    {
     "data": {
      "text/plain": [
       "<AxesSubplot:>"
      ]
     },
     "execution_count": 69,
     "metadata": {},
     "output_type": "execute_result"
    },
    {
     "data": {
      "image/png": "[encoded data removed]",
      "text/plain": [
       "<Figure size 432x288 with 1 Axes>"
      ]
     },
     "metadata": {
      "needs_background": "light"
     },
     "output_type": "display_data"
    }
   ],
   "source": [
    "df.boxplot(column='grade')"
   ]
  },
  {
   "cell_type": "markdown",
   "id": "eba2df24",
   "metadata": {},
   "source": [
    "La anatomia del diagrama de cajas y bigotes o boxplot puede revisarse en  https://www.r-graph-gallery.com/boxplot.html de donde se obtiene la siguiente figura"
   ]
  },
  {
   "attachments": {
    "image.png": {
     "image/png": "[encoded data removed]"
    }
   },
   "cell_type": "markdown",
   "id": "97da5af7",
   "metadata": {},
   "source": [
    "![image.png](attachment:image.png)"
   ]
  },
  {
   "cell_type": "markdown",
   "id": "f9acf430",
   "metadata": {},
   "source": [
    "Los puntos circulares tipicamente se corresponde con los valores atipicos de la muestra o poblacion.  Q1. La linea de la base de la caja corresponde al valor del primer cuartil. Este valor de aproximadamente 75.6 es el valor debajo del cual se ubica el 25% de la poblacion. En otras palabras, aproximadamente 500 estudiantes tienen un promedio no mayor de 75.6."
   ]
  },
  {
   "cell_type": "code",
   "execution_count": 70,
   "id": "899ac433",
   "metadata": {},
   "outputs": [
    {
     "data": {
      "text/plain": [
       "82.7"
      ]
     },
     "execution_count": 70,
     "metadata": {},
     "output_type": "execute_result"
    }
   ],
   "source": [
    "MedianGrade=df.grade.median()\n",
    "MedianGrade"
   ]
  },
  {
   "cell_type": "markdown",
   "id": "a05e3bd2",
   "metadata": {},
   "source": [
    "Q2. La linea media del diagrama en color verde, es la mediana o segundo cuartil. Este valor de aproximadamente 83 es el valor debajo del cual se ubica el 50% de la poblacion. En otras palabras, aproximadamente 1,000 estudiantes tienen un promedio no mayor de 83. En este caso la mediana es muy cercana al valor medio de 82.5."
   ]
  },
  {
   "cell_type": "markdown",
   "id": "eb70e4de",
   "metadata": {},
   "source": [
    "Q3. La linea superior de la caja, es el tercer cuartil. Este valor de aproximadamente 89.7 es el valor debajo del cual se ubica el 75% de la poblacion o el valor por el cual se encuentra el 25% de la poblacion. En otras palabras, aproximadamente 500 estudiantes se encuentran con un promedio de entre 83 y 89.7 o practicamente 90. Y 500 estudiantes tendrian un promedio mayor a 90."
   ]
  },
  {
   "cell_type": "markdown",
   "id": "16847e94",
   "metadata": {},
   "source": [
    "El rango intercuartil o IQR seria 89.7 - 75.57 = 14.13. En estadística descriptiva, el rango intercuartílico (IQR) es una medida de dispersión estadística, que es la extensión de los datos. "
   ]
  },
  {
   "cell_type": "markdown",
   "id": "3215153a",
   "metadata": {},
   "source": [
    "Con el IQR el valor inferior o bigote inferior seria paproximadamente de 89.7- (1.5*14.13) = 68.5.  Este seria el valor minimo del primer cuartil. Los valores por debajo de este minimo son considerados como potenciales atipicos u outliers."
   ]
  },
  {
   "cell_type": "markdown",
   "id": "f886a1ef",
   "metadata": {},
   "source": [
    "Similarmente el valor maximo del tercer cuartil o Q3 seria 89.7 + (1.5*14.13) = 110.89. Sin embargo el valor maximo segun el boxplot es de 100 y no se presentan outliers. Por lo que en cuanto a valores maximos de promedios pareceria no existir errores o valores mayores a 100."
   ]
  },
  {
   "cell_type": "markdown",
   "id": "c8f29f67",
   "metadata": {},
   "source": [
    "#### Un siguiente paso exploratorio serian las distribuciones de frecuencias  de las variables numericas relevantes"
   ]
  },
  {
   "cell_type": "code",
   "execution_count": 71,
   "id": "010ddf13",
   "metadata": {},
   "outputs": [
    {
     "data": {
      "text/plain": [
       "array([[<AxesSubplot:title={'center':'age'}>,\n",
       "        <AxesSubplot:title={'center':'exercise'}>],\n",
       "       [<AxesSubplot:title={'center':'hours'}>,\n",
       "        <AxesSubplot:title={'center':'grade'}>]], dtype=object)"
      ]
     },
     "execution_count": 71,
     "metadata": {},
     "output_type": "execute_result"
    },
    {
     "data": {
      "image/png": "[encoded data removed]",
      "text/plain": [
       "<Figure size 432x288 with 4 Axes>"
      ]
     },
     "metadata": {
      "needs_background": "light"
     },
     "output_type": "display_data"
    }
   ],
   "source": [
    "df.hist() #muestra el histograma de frecuencias de las variables numericas"
   ]
  },
  {
   "cell_type": "markdown",
   "id": "4692327c",
   "metadata": {},
   "source": [
    "Para la variable 'age' se aprecia un promedio de 300 (seguramente personas o alumnos) para la mayoria de las edades de 14 a 19. Si tomamos 6 distintas edades de los alumnos(14,15,16,17,18,19) y 300 aluimnos por cada categoria de edad se tendria 6*300= 1,800 personas aproximadamente. Lo cual tiene sentido considerando la existencia de 2,000 renglones o registros de alumnos."
   ]
  },
  {
   "cell_type": "markdown",
   "id": "7cff04f9",
   "metadata": {},
   "source": [
    "Similarmente, para la variable 'exercise'se aprecia un una distribucion promedio de 400 para la mayoria de las edades de 14 a 19. Esta vez las horas de ejercicio van de 0 a 5 horas."
   ]
  },
  {
   "cell_type": "markdown",
   "id": "84b2ed44",
   "metadata": {},
   "source": [
    "Para la variable de 'Hours', que seguramente se refiere a las horas de estudio, la distribucion de frecuencias pareciera acercarse a una distribucion normal. Lo cual podria o deberia posteriormente verificarse. La media parece ubicarse en en 10 horas de estudio para 400 estudiantes, lo cual aproximadamente equivaldria a 1/5 de la poblacion de alumnos: 400 *5 = 2,000"
   ]
  },
  {
   "cell_type": "markdown",
   "id": "fb16dc7e",
   "metadata": {},
   "source": [
    "Pra la variable 'grade' o calificacion promedio, se observa una distribucion significativa de poco mas de 400 estudiantes entre 75 y quiza 90. Estos valores parecen corresponderse con los valores de la caja del anterio boxplot"
   ]
  },
  {
   "cell_type": "markdown",
   "id": "91359213",
   "metadata": {},
   "source": [
    "#### Debido a que grade podria considerarse como variable de respuesta dependiente de age, exercise y Hours, parece en principio conveniente explorar algunas posibles relaciones entre estas variables"
   ]
  },
  {
   "cell_type": "markdown",
   "id": "e92a4021",
   "metadata": {},
   "source": [
    "Siguiendo el anterior orden, se explora una posible relacion entre 'age'  y 'grade' mediante una grafica de dispersion"
   ]
  },
  {
   "cell_type": "code",
   "execution_count": 72,
   "id": "95f8f585",
   "metadata": {},
   "outputs": [
    {
     "data": {
      "text/plain": [
       "Text(0, 0.5, 'Obtained grade')"
      ]
     },
     "execution_count": 72,
     "metadata": {},
     "output_type": "execute_result"
    },
    {
     "data": {
      "image/png": "[encoded data removed]",
      "text/plain": [
       "<Figure size 432x288 with 1 Axes>"
      ]
     },
     "metadata": {
      "needs_background": "light"
     },
     "output_type": "display_data"
    }
   ],
   "source": [
    "plt.scatter(df.age,df.grade)\n",
    "plt.title(\"Students age VS. Obtained Grade\")\n",
    "plt.xlabel(\"Students age\")\n",
    "plt.ylabel(\"Obtained grade\")"
   ]
  },
  {
   "cell_type": "markdown",
   "id": "cba376b6",
   "metadata": {},
   "source": [
    "De la anterior grafica de dispersion se observa una ligera tendencia de disminucion del promedio de calificacion o grade a medida que aumenta la edad. Particularmente para los 19 años se observan dos valores atipicos. Por lo demas parece que los promedios de grados se encuentran en el rango de 60 a 100."
   ]
  },
  {
   "cell_type": "markdown",
   "id": "62adef26",
   "metadata": {},
   "source": [
    "age no parece tener relacion con grade"
   ]
  },
  {
   "cell_type": "markdown",
   "id": "3f709861",
   "metadata": {},
   "source": [
    "A continuacion se explora la posible relacion entre las horas de ejercicio y el grado o calificacion"
   ]
  },
  {
   "cell_type": "code",
   "execution_count": 73,
   "id": "508243e4",
   "metadata": {},
   "outputs": [
    {
     "data": {
      "text/plain": [
       "Text(0, 0.5, 'Obtained grade')"
      ]
     },
     "execution_count": 73,
     "metadata": {},
     "output_type": "execute_result"
    },
    {
     "data": {
      "image/png": "[encoded data removed]",
      "text/plain": [
       "<Figure size 432x288 with 1 Axes>"
      ]
     },
     "metadata": {
      "needs_background": "light"
     },
     "output_type": "display_data"
    }
   ],
   "source": [
    "plt.scatter(df.exercise,df.grade)\n",
    "plt.title(\"Exercise hours VS. Obtained Grade\")\n",
    "plt.xlabel(\"Exercise hours\")\n",
    "plt.ylabel(\"Obtained grade\")"
   ]
  },
  {
   "cell_type": "markdown",
   "id": "cbf2c0dd",
   "metadata": {},
   "source": [
    "Los resultados son un poco similares a la relacion age-grade. Se observa un par de valores atipicos para 2 y 4 horas respectivamente. Para 0 horas de ejercicio no se observan calificaciones menores a 60. Pero para las horas 1 a 5 se aprecian calificaciones por debajo de 60. Cabe notar que para 0 horas de ejercicio son mucho menor cantidad de registros que para el resto de las demas horas (1-5)."
   ]
  },
  {
   "cell_type": "markdown",
   "id": "d1d3ee8d",
   "metadata": {},
   "source": [
    " No parece concluyente una relacion entre horas de ejercicio y calificacion."
   ]
  },
  {
   "cell_type": "markdown",
   "id": "a2a00a56",
   "metadata": {},
   "source": [
    "Explorando ahora la posible relacion entre las horas de estudio y el grado o calificacion"
   ]
  },
  {
   "cell_type": "code",
   "execution_count": 74,
   "id": "af3fea1c",
   "metadata": {},
   "outputs": [
    {
     "data": {
      "text/plain": [
       "Text(0, 0.5, 'Obtained grade')"
      ]
     },
     "execution_count": 74,
     "metadata": {},
     "output_type": "execute_result"
    },
    {
     "data": {
      "image/png": "[encoded data removed]",
      "text/plain": [
       "<Figure size 432x288 with 1 Axes>"
      ]
     },
     "metadata": {
      "needs_background": "light"
     },
     "output_type": "display_data"
    }
   ],
   "source": [
    "plt.scatter(df.hours,df.grade)\n",
    "plt.title(\"Study hours VS. Obtained Grade\")\n",
    "plt.xlabel(\"# of study hours\")\n",
    "plt.ylabel(\"Obtained grade\")"
   ]
  },
  {
   "cell_type": "markdown",
   "id": "6e6b6bc4",
   "metadata": {},
   "source": [
    "En este caso es mas clara una tendencia o relacion lineal. A mayores horas de estudio mayor calificacion. Esto tiene mucho sentido logico. Se observa tambien algunos valores que no parecen seguir esta relacion lineal. Por ejemplo los valores con horas de estudio menores a 2.5 y calificaciones relativamente altas (entre 70 y 80), así como las calificaciones menores a 50 para las horas aproximadamente de 2.5 y 16 horas de estudio."
   ]
  },
  {
   "cell_type": "markdown",
   "id": "35f5204a",
   "metadata": {},
   "source": [
    "Por anterio es posible un grado de relacion lineal entre estas dos variables. En este caso si fuera necesario o deseado, se podría realizar una regresion lineal y determinar los valores de pendiente y ordenada al origen. "
   ]
  },
  {
   "cell_type": "markdown",
   "id": "e8c88786",
   "metadata": {},
   "source": [
    "Una exploracion más detallada de posible relacion seria respecto al genero y su calificacion obtenida. Esto en parte puede observarse mediante sus respectivos histogramas de frecuencias."
   ]
  },
  {
   "cell_type": "markdown",
   "id": "3c7d1491",
   "metadata": {},
   "source": [
    "La distribucion de frecuencias para el genero femenino se acerca a una distribucion bimodal, mientras que para el genero masculino parece acercarse mas a una distribución normal."
   ]
  },
  {
   "cell_type": "code",
   "execution_count": 75,
   "id": "b21381ee",
   "metadata": {},
   "outputs": [
    {
     "data": {
      "text/plain": [
       "Text(0, 0.5, 'Number of students by gender')"
      ]
     },
     "execution_count": 75,
     "metadata": {},
     "output_type": "execute_result"
    },
    {
     "data": {
      "image/png": "[encoded data removed]",
      "text/plain": [
       "<Figure size 432x288 with 2 Axes>"
      ]
     },
     "metadata": {
      "needs_background": "light"
     },
     "output_type": "display_data"
    }
   ],
   "source": [
    "df.hist(column=\"hours\", by=\"gender\")\n",
    "plt.grid(True)\n",
    "#plt.title(\"Study hours VS. Obtained Grade by Gender\")\n",
    "plt.xlabel(\"Study hours\")\n",
    "plt.ylabel(\"Number of students by gender\")"
   ]
  },
  {
   "cell_type": "markdown",
   "id": "df32343f",
   "metadata": {},
   "source": [
    "La distribucion de frecuencias para el genero femenino se acerca a una distribucion bimodal, mientras que para el genero masculino parece acercarse mas a una distribución normal."
   ]
  },
  {
   "cell_type": "markdown",
   "id": "f1b1a6de",
   "metadata": {},
   "source": [
    "Otra posible consideracion para el analisis de la informacion es explorar el desempenio por genero"
   ]
  },
  {
   "cell_type": "code",
   "execution_count": 76,
   "id": "db034feb",
   "metadata": {},
   "outputs": [
    {
     "data": {
      "text/plain": [
       "array([<AxesSubplot:title={'center':'female'}>,\n",
       "       <AxesSubplot:title={'center':'male'}>], dtype=object)"
      ]
     },
     "execution_count": 76,
     "metadata": {},
     "output_type": "execute_result"
    },
    {
     "data": {
      "image/png": "[encoded data removed]",
      "text/plain": [
       "<Figure size 432x288 with 2 Axes>"
      ]
     },
     "metadata": {
      "needs_background": "light"
     },
     "output_type": "display_data"
    }
   ],
   "source": [
    "df.hist(column=\"grade\", by=\"gender\")"
   ]
  },
  {
   "cell_type": "markdown",
   "id": "c3116e59",
   "metadata": {},
   "source": [
    "A groso modo pareciera que es un poco mejor el desempenio del genero femenino. "
   ]
  },
  {
   "cell_type": "code",
   "execution_count": 77,
   "id": "b7120853",
   "metadata": {},
   "outputs": [
    {
     "data": {
      "text/plain": [
       "<AxesSubplot:title={'center':'grade'}, xlabel='gender'>"
      ]
     },
     "execution_count": 77,
     "metadata": {},
     "output_type": "execute_result"
    },
    {
     "data": {
      "image/png": "[encoded data removed]",
      "text/plain": [
       "<Figure size 432x288 with 1 Axes>"
      ]
     },
     "metadata": {
      "needs_background": "light"
     },
     "output_type": "display_data"
    }
   ],
   "source": [
    "df.boxplot(by='gender', column='grade')"
   ]
  },
  {
   "cell_type": "markdown",
   "id": "ce17916d",
   "metadata": {},
   "source": [
    "Estas graficas nos han mostrado al menos un par de resultados relevantes. El primero es la relacion entre las horas de estudio y la calificacion. La segunda que el genero femenino parece tener un mejor desempenio a pesar de que parecen existir dos grupos por cantidad de horas de estudio. Un grupo que estudia entre 5 a 10 horas y otro de 10 a 20 horas."
   ]
  },
  {
   "cell_type": "markdown",
   "id": "44c734d2",
   "metadata": {},
   "source": [
    "<A name='DataPreparation'> </A> <h2>DATA PREPARATION  (CRISP-DM) </h2>"
   ]
  },
  {
   "cell_type": "markdown",
   "id": "7d0e88e1",
   "metadata": {},
   "source": [
    "<div class=\"alert alert-block alert-info\" style=\"margin-top: 20px\">\n",
    "    <ul>\n",
    "        <li><a href=\"#TablaContenidos\">Regresar a Tabla de Contenidos</a></li>\n",
    "    </ul>\n",
    "</div>"
   ]
  },
  {
   "cell_type": "markdown",
   "id": "8b78ad06",
   "metadata": {},
   "source": [
    "\n",
    "### \"Preparing Data Is Half the Battle\" (Henley & Wolf, 2018)"
   ]
  },
  {
   "cell_type": "markdown",
   "id": "64c90815",
   "metadata": {},
   "source": [
    "\n",
    "#### Entre las principales tareas que proponer Henley & Wolf (2018) para preparar los datos estan las siguientes 8:"
   ]
  },
  {
   "cell_type": "markdown",
   "id": "e422ed8c",
   "metadata": {},
   "source": [
    "#### 1. Remove outliers. 2. Finding missing data. 3. Remove inappropiate values. 4.Remove duplicates. 5. Remove punctuation. 6. Remove whitespace. 7.Standardize dates. 8. Standardaize text."
   ]
  },
  {
   "cell_type": "markdown",
   "id": "6e1c6d58",
   "metadata": {},
   "source": [
    "De acuerdo con Henley & Wolf (2018), el segundo paso del analisis de datos es limpiar los datos lo cual incluye crear nuevas variables y organizar la informacion e implica que los datos sean relevantes, consistentes y estandarizados."
   ]
  },
  {
   "cell_type": "markdown",
   "id": "0ced4b35",
   "metadata": {},
   "source": [
    "<A name='RemoveOutliers'> </A> <h3>1.Remove Outliers (find them first) </h3>"
   ]
  },
  {
   "cell_type": "markdown",
   "id": "10711936",
   "metadata": {},
   "source": [
    "#### Finding the outliers allows to remove the values that are so high or so low that they skew the overall view of the data.  There are two main ways of detecting outliers: 1) Standard Deviations and 2) Interquartile Range (IQR)."
   ]
  },
  {
   "cell_type": "markdown",
   "id": "7c35d470",
   "metadata": {},
   "source": [
    "<A name='Method1'> </A> <h3>METHOD 1 Standard Deviations to DETECTING OUTLIERS.</h3> <h4>It assumes normal distribution. </h4>"
   ]
  },
  {
   "cell_type": "markdown",
   "id": "0a3942d0",
   "metadata": {},
   "source": [
    "Si los datos estan normalmente distribuidos, entonces el 95% de los datos está dentro de 1.96 de la desviacion estándar de la media. Entonces podemos eliminar los valores por encima (TopRangeGrade = MeanGrade + StDGrade * 1.96) o por debajo de ese rango (LowRangeGrade = MeanGrade - StDGrade * 1.96)."
   ]
  },
  {
   "cell_type": "code",
   "execution_count": 78,
   "id": "463a2046",
   "metadata": {},
   "outputs": [
    {
     "data": {
      "text/plain": [
       "82.55605000000001"
      ]
     },
     "execution_count": 78,
     "metadata": {},
     "output_type": "execute_result"
    }
   ],
   "source": [
    "MeanGrade=df.grade.mean()\n",
    "MeanGrade"
   ]
  },
  {
   "cell_type": "code",
   "execution_count": 79,
   "id": "98b8c6d5",
   "metadata": {},
   "outputs": [
    {
     "data": {
      "text/plain": [
       "9.74759258371467"
      ]
     },
     "execution_count": 79,
     "metadata": {},
     "output_type": "execute_result"
    }
   ],
   "source": [
    "StDGrade = df.grade.std() #Calculates standar deviation of grade\n",
    "StDGrade"
   ]
  },
  {
   "cell_type": "code",
   "execution_count": 80,
   "id": "674c99b4",
   "metadata": {},
   "outputs": [
    {
     "data": {
      "text/plain": [
       "101.66133146408077"
      ]
     },
     "execution_count": 80,
     "metadata": {},
     "output_type": "execute_result"
    }
   ],
   "source": [
    "TopRangeGrade = MeanGrade + StDGrade * 1.96\n",
    "TopRangeGrade"
   ]
  },
  {
   "cell_type": "code",
   "execution_count": 81,
   "id": "4eacface",
   "metadata": {},
   "outputs": [
    {
     "data": {
      "text/plain": [
       "63.45076853591926"
      ]
     },
     "execution_count": 81,
     "metadata": {},
     "output_type": "execute_result"
    }
   ],
   "source": [
    "LowRangeGrade = MeanGrade - StDGrade * 1.96\n",
    "LowRangeGrade"
   ]
  },
  {
   "cell_type": "code",
   "execution_count": 82,
   "id": "676e120e",
   "metadata": {},
   "outputs": [],
   "source": [
    "FilteredDf=df #copia df original para posteriormente filtrar datos en FilteredDf"
   ]
  },
  {
   "cell_type": "markdown",
   "id": "95e78b8e",
   "metadata": {},
   "source": [
    "##### si los registros cumplen ser menores al rango bajo imprime True, en caso contrario imprime False"
   ]
  },
  {
   "cell_type": "code",
   "execution_count": 83,
   "id": "7ea84366",
   "metadata": {},
   "outputs": [
    {
     "data": {
      "text/plain": [
       "0       False\n",
       "1       False\n",
       "2       False\n",
       "3       False\n",
       "4       False\n",
       "        ...  \n",
       "1995    False\n",
       "1996    False\n",
       "1997    False\n",
       "1998    False\n",
       "1999    False\n",
       "Name: grade, Length: 2000, dtype: bool"
      ]
     },
     "execution_count": 83,
     "metadata": {},
     "output_type": "execute_result"
    }
   ],
   "source": [
    "FilteredDf.grade < LowRangeGrade"
   ]
  },
  {
   "cell_type": "markdown",
   "id": "bf9910f9",
   "metadata": {},
   "source": [
    "##### Imprime los registros que cumplen la condicion de grade < 63.45"
   ]
  },
  {
   "cell_type": "code",
   "execution_count": 28,
   "id": "33f25387",
   "metadata": {},
   "outputs": [
    {
     "data": {
      "text/html": [
       "<div>\n",
       "<style scoped>\n",
       "    .dataframe tbody tr th:only-of-type {\n",
       "        vertical-align: middle;\n",
       "    }\n",
       "\n",
       "    .dataframe tbody tr th {\n",
       "        vertical-align: top;\n",
       "    }\n",
       "\n",
       "    .dataframe thead th {\n",
       "        text-align: right;\n",
       "    }\n",
       "</style>\n",
       "<table border=\"1\" class=\"dataframe\">\n",
       "  <thead>\n",
       "    <tr style=\"text-align: right;\">\n",
       "      <th></th>\n",
       "      <th>fname</th>\n",
       "      <th>lname</th>\n",
       "      <th>gender</th>\n",
       "      <th>age</th>\n",
       "      <th>exercise</th>\n",
       "      <th>hours</th>\n",
       "      <th>grade</th>\n",
       "      <th>address</th>\n",
       "    </tr>\n",
       "  </thead>\n",
       "  <tbody>\n",
       "    <tr>\n",
       "      <th>61</th>\n",
       "      <td>Piper</td>\n",
       "      <td>Lowery</td>\n",
       "      <td>female</td>\n",
       "      <td>19.0</td>\n",
       "      <td>2.0</td>\n",
       "      <td>5.0</td>\n",
       "      <td>61.4</td>\n",
       "      <td>West Deptford, NJ 08096, 210 E. Grand St.</td>\n",
       "    </tr>\n",
       "    <tr>\n",
       "      <th>125</th>\n",
       "      <td>Violet</td>\n",
       "      <td>Jennings</td>\n",
       "      <td>female</td>\n",
       "      <td>14.0</td>\n",
       "      <td>1.0</td>\n",
       "      <td>5.0</td>\n",
       "      <td>62.6</td>\n",
       "      <td>Dalton, GA 30721, 9130 Greenrose Court</td>\n",
       "    </tr>\n",
       "    <tr>\n",
       "      <th>214</th>\n",
       "      <td>Anthony</td>\n",
       "      <td>Bishop</td>\n",
       "      <td>male</td>\n",
       "      <td>19.0</td>\n",
       "      <td>2.0</td>\n",
       "      <td>5.0</td>\n",
       "      <td>61.6</td>\n",
       "      <td>7401 Sherman Ave. , Knoxville, TN 37918</td>\n",
       "    </tr>\n",
       "    <tr>\n",
       "      <th>243</th>\n",
       "      <td>Dante</td>\n",
       "      <td>Terrell</td>\n",
       "      <td>male</td>\n",
       "      <td>14.0</td>\n",
       "      <td>4.0</td>\n",
       "      <td>4.0</td>\n",
       "      <td>63.4</td>\n",
       "      <td>5 Windsor St. , Reston, VA 20191</td>\n",
       "    </tr>\n",
       "    <tr>\n",
       "      <th>340</th>\n",
       "      <td>Abbot</td>\n",
       "      <td>Hall</td>\n",
       "      <td>male</td>\n",
       "      <td>16.0</td>\n",
       "      <td>4.0</td>\n",
       "      <td>3.0</td>\n",
       "      <td>58.9</td>\n",
       "      <td>Lewis Center, OH 43035, 279 Lake View Dr.</td>\n",
       "    </tr>\n",
       "    <tr>\n",
       "      <th>388</th>\n",
       "      <td>Colton</td>\n",
       "      <td>Ochoa</td>\n",
       "      <td>male</td>\n",
       "      <td>17.0</td>\n",
       "      <td>1.0</td>\n",
       "      <td>4.0</td>\n",
       "      <td>60.3</td>\n",
       "      <td>Dubuque, IA 52001, 43 Hamilton Road</td>\n",
       "    </tr>\n",
       "    <tr>\n",
       "      <th>393</th>\n",
       "      <td>Gabriel</td>\n",
       "      <td>Jordan</td>\n",
       "      <td>male</td>\n",
       "      <td>16.0</td>\n",
       "      <td>4.0</td>\n",
       "      <td>2.0</td>\n",
       "      <td>62.0</td>\n",
       "      <td>973 White Rd. , Englishtown, NJ 07726</td>\n",
       "    </tr>\n",
       "    <tr>\n",
       "      <th>410</th>\n",
       "      <td>Linda</td>\n",
       "      <td>Baldwin</td>\n",
       "      <td>female</td>\n",
       "      <td>16.0</td>\n",
       "      <td>5.0</td>\n",
       "      <td>2.0</td>\n",
       "      <td>59.0</td>\n",
       "      <td>7765 Bishop Dr. , Perkasie, PA 18944</td>\n",
       "    </tr>\n",
       "    <tr>\n",
       "      <th>462</th>\n",
       "      <td>Sade</td>\n",
       "      <td>Juarez</td>\n",
       "      <td>female</td>\n",
       "      <td>18.0</td>\n",
       "      <td>3.0</td>\n",
       "      <td>5.0</td>\n",
       "      <td>61.1</td>\n",
       "      <td>Barberton, OH 44203, 82 New St.</td>\n",
       "    </tr>\n",
       "    <tr>\n",
       "      <th>477</th>\n",
       "      <td>Ryan</td>\n",
       "      <td>Hodge</td>\n",
       "      <td>male</td>\n",
       "      <td>17.0</td>\n",
       "      <td>1.0</td>\n",
       "      <td>4.0</td>\n",
       "      <td>60.9</td>\n",
       "      <td>8 Oakland Dr. , Hialeah, FL 33010</td>\n",
       "    </tr>\n",
       "    <tr>\n",
       "      <th>484</th>\n",
       "      <td>Ciaran</td>\n",
       "      <td>Brady</td>\n",
       "      <td>male</td>\n",
       "      <td>19.0</td>\n",
       "      <td>3.0</td>\n",
       "      <td>3.0</td>\n",
       "      <td>62.5</td>\n",
       "      <td>9817 Winding Way Lane , Lincoln, NE 68506</td>\n",
       "    </tr>\n",
       "    <tr>\n",
       "      <th>528</th>\n",
       "      <td>Chester</td>\n",
       "      <td>Vance</td>\n",
       "      <td>male</td>\n",
       "      <td>17.0</td>\n",
       "      <td>1.0</td>\n",
       "      <td>5.0</td>\n",
       "      <td>60.1</td>\n",
       "      <td>Windermere, FL 34786, 8605 South Shady Road</td>\n",
       "    </tr>\n",
       "    <tr>\n",
       "      <th>556</th>\n",
       "      <td>Lacey</td>\n",
       "      <td>Nieves</td>\n",
       "      <td>female</td>\n",
       "      <td>18.0</td>\n",
       "      <td>1.0</td>\n",
       "      <td>2.0</td>\n",
       "      <td>57.9</td>\n",
       "      <td>175 Rockaway St. , South Richmond Hill, NY 11419</td>\n",
       "    </tr>\n",
       "    <tr>\n",
       "      <th>576</th>\n",
       "      <td>Pamela</td>\n",
       "      <td>Holder</td>\n",
       "      <td>female</td>\n",
       "      <td>16.0</td>\n",
       "      <td>4.0</td>\n",
       "      <td>4.0</td>\n",
       "      <td>61.8</td>\n",
       "      <td>303 Hartford Road , Suitland, MD 20746</td>\n",
       "    </tr>\n",
       "    <tr>\n",
       "      <th>664</th>\n",
       "      <td>Alika</td>\n",
       "      <td>Poole</td>\n",
       "      <td>female</td>\n",
       "      <td>19.0</td>\n",
       "      <td>2.0</td>\n",
       "      <td>16.0</td>\n",
       "      <td>32.0</td>\n",
       "      <td>Klamath Falls, OR 97603, 161 S. Wrangler Ave.</td>\n",
       "    </tr>\n",
       "    <tr>\n",
       "      <th>672</th>\n",
       "      <td>Ciaran</td>\n",
       "      <td>Gay</td>\n",
       "      <td>male</td>\n",
       "      <td>19.0</td>\n",
       "      <td>4.0</td>\n",
       "      <td>3.0</td>\n",
       "      <td>59.3</td>\n",
       "      <td>Oak Lawn, IL 60453, 8600 West Gonzales Avenue</td>\n",
       "    </tr>\n",
       "    <tr>\n",
       "      <th>700</th>\n",
       "      <td>Steven</td>\n",
       "      <td>Sherman</td>\n",
       "      <td>male</td>\n",
       "      <td>18.0</td>\n",
       "      <td>1.0</td>\n",
       "      <td>2.0</td>\n",
       "      <td>60.0</td>\n",
       "      <td>391 Smith Ave. , Rosedale, NY 11422</td>\n",
       "    </tr>\n",
       "    <tr>\n",
       "      <th>869</th>\n",
       "      <td>Tanek</td>\n",
       "      <td>Stephens</td>\n",
       "      <td>male</td>\n",
       "      <td>15.0</td>\n",
       "      <td>1.0</td>\n",
       "      <td>4.0</td>\n",
       "      <td>60.5</td>\n",
       "      <td>9780 Essex Street , North Bergen, NJ 07047</td>\n",
       "    </tr>\n",
       "    <tr>\n",
       "      <th>903</th>\n",
       "      <td>Lee</td>\n",
       "      <td>Barber</td>\n",
       "      <td>male</td>\n",
       "      <td>15.0</td>\n",
       "      <td>2.0</td>\n",
       "      <td>2.0</td>\n",
       "      <td>62.3</td>\n",
       "      <td>120 South Glen Ridge Street , Mechanicsburg, P...</td>\n",
       "    </tr>\n",
       "    <tr>\n",
       "      <th>951</th>\n",
       "      <td>Marshall</td>\n",
       "      <td>Sexton</td>\n",
       "      <td>male</td>\n",
       "      <td>18.0</td>\n",
       "      <td>1.0</td>\n",
       "      <td>3.0</td>\n",
       "      <td>62.6</td>\n",
       "      <td>Carmel, NY 10512, 15 W. Shirley Lane</td>\n",
       "    </tr>\n",
       "    <tr>\n",
       "      <th>972</th>\n",
       "      <td>Keegan</td>\n",
       "      <td>Rasmussen</td>\n",
       "      <td>male</td>\n",
       "      <td>19.0</td>\n",
       "      <td>4.0</td>\n",
       "      <td>3.0</td>\n",
       "      <td>43.0</td>\n",
       "      <td>994 Hill Field Ave. , Clermont, FL 34711</td>\n",
       "    </tr>\n",
       "    <tr>\n",
       "      <th>1068</th>\n",
       "      <td>Isaiah</td>\n",
       "      <td>Harrington</td>\n",
       "      <td>male</td>\n",
       "      <td>17.0</td>\n",
       "      <td>1.0</td>\n",
       "      <td>4.0</td>\n",
       "      <td>58.9</td>\n",
       "      <td>Southampton, PA 18966, 717 W. Longbranch St.</td>\n",
       "    </tr>\n",
       "    <tr>\n",
       "      <th>1077</th>\n",
       "      <td>Malcolm</td>\n",
       "      <td>White</td>\n",
       "      <td>male</td>\n",
       "      <td>16.0</td>\n",
       "      <td>2.0</td>\n",
       "      <td>5.0</td>\n",
       "      <td>62.6</td>\n",
       "      <td>8927 Cobblestone Rd. , Cambridge, MA 02138</td>\n",
       "    </tr>\n",
       "    <tr>\n",
       "      <th>1099</th>\n",
       "      <td>Tara</td>\n",
       "      <td>Gilliam</td>\n",
       "      <td>female</td>\n",
       "      <td>16.0</td>\n",
       "      <td>2.0</td>\n",
       "      <td>5.0</td>\n",
       "      <td>63.4</td>\n",
       "      <td>853 Beech Rd. , Anderson, SC 29621</td>\n",
       "    </tr>\n",
       "    <tr>\n",
       "      <th>1103</th>\n",
       "      <td>Lester</td>\n",
       "      <td>Mendoza</td>\n",
       "      <td>male</td>\n",
       "      <td>18.0</td>\n",
       "      <td>1.0</td>\n",
       "      <td>7.0</td>\n",
       "      <td>62.7</td>\n",
       "      <td>598 Mayflower Ave. , Calhoun, GA 30701</td>\n",
       "    </tr>\n",
       "    <tr>\n",
       "      <th>1111</th>\n",
       "      <td>Porter</td>\n",
       "      <td>Rowland</td>\n",
       "      <td>male</td>\n",
       "      <td>19.0</td>\n",
       "      <td>2.0</td>\n",
       "      <td>5.0</td>\n",
       "      <td>61.2</td>\n",
       "      <td>45 Ridgewood Lane , Barberton, OH 44203</td>\n",
       "    </tr>\n",
       "    <tr>\n",
       "      <th>1133</th>\n",
       "      <td>Abraham</td>\n",
       "      <td>Kent</td>\n",
       "      <td>male</td>\n",
       "      <td>19.0</td>\n",
       "      <td>2.0</td>\n",
       "      <td>5.0</td>\n",
       "      <td>62.6</td>\n",
       "      <td>Richmond Hill, NY 11418, 660 North Pennsylvani...</td>\n",
       "    </tr>\n",
       "    <tr>\n",
       "      <th>1155</th>\n",
       "      <td>Kieran</td>\n",
       "      <td>Martinez</td>\n",
       "      <td>male</td>\n",
       "      <td>14.0</td>\n",
       "      <td>3.0</td>\n",
       "      <td>4.0</td>\n",
       "      <td>60.8</td>\n",
       "      <td>9 W. 3rd Street , Lady Lake, FL 32159</td>\n",
       "    </tr>\n",
       "    <tr>\n",
       "      <th>1207</th>\n",
       "      <td>Selma</td>\n",
       "      <td>Stout</td>\n",
       "      <td>female</td>\n",
       "      <td>19.0</td>\n",
       "      <td>2.0</td>\n",
       "      <td>3.0</td>\n",
       "      <td>59.4</td>\n",
       "      <td>9755 Shipley Dr. , Canton, GA 30114</td>\n",
       "    </tr>\n",
       "    <tr>\n",
       "      <th>1218</th>\n",
       "      <td>Olivia</td>\n",
       "      <td>Craig</td>\n",
       "      <td>female</td>\n",
       "      <td>14.0</td>\n",
       "      <td>4.0</td>\n",
       "      <td>3.0</td>\n",
       "      <td>60.6</td>\n",
       "      <td>Elizabeth, NJ 07202, 984 E. Rockville Road</td>\n",
       "    </tr>\n",
       "    <tr>\n",
       "      <th>1237</th>\n",
       "      <td>Willa</td>\n",
       "      <td>Byers</td>\n",
       "      <td>female</td>\n",
       "      <td>14.0</td>\n",
       "      <td>2.0</td>\n",
       "      <td>4.0</td>\n",
       "      <td>59.2</td>\n",
       "      <td>Morgantown, WV 26508, 8253 Elmwood St.</td>\n",
       "    </tr>\n",
       "    <tr>\n",
       "      <th>1317</th>\n",
       "      <td>Kessie</td>\n",
       "      <td>Mcdonald</td>\n",
       "      <td>female</td>\n",
       "      <td>17.0</td>\n",
       "      <td>1.0</td>\n",
       "      <td>2.0</td>\n",
       "      <td>62.2</td>\n",
       "      <td>Valrico, FL 33594, 69 Princess Dr.</td>\n",
       "    </tr>\n",
       "    <tr>\n",
       "      <th>1342</th>\n",
       "      <td>Petra</td>\n",
       "      <td>Riley</td>\n",
       "      <td>female</td>\n",
       "      <td>18.0</td>\n",
       "      <td>4.0</td>\n",
       "      <td>4.0</td>\n",
       "      <td>63.3</td>\n",
       "      <td>Fredericksburg, VA 22405, 74 Ridge Road</td>\n",
       "    </tr>\n",
       "    <tr>\n",
       "      <th>1397</th>\n",
       "      <td>Beatrice</td>\n",
       "      <td>Matthews</td>\n",
       "      <td>female</td>\n",
       "      <td>14.0</td>\n",
       "      <td>1.0</td>\n",
       "      <td>4.0</td>\n",
       "      <td>61.1</td>\n",
       "      <td>Torrance, CA 90505, 7 Cherry Hill Street</td>\n",
       "    </tr>\n",
       "    <tr>\n",
       "      <th>1439</th>\n",
       "      <td>Levi</td>\n",
       "      <td>Acevedo</td>\n",
       "      <td>male</td>\n",
       "      <td>14.0</td>\n",
       "      <td>2.0</td>\n",
       "      <td>6.0</td>\n",
       "      <td>63.0</td>\n",
       "      <td>Buckeye, AZ 85326, 47 Hilldale Lane</td>\n",
       "    </tr>\n",
       "    <tr>\n",
       "      <th>1449</th>\n",
       "      <td>Gillian</td>\n",
       "      <td>Norris</td>\n",
       "      <td>female</td>\n",
       "      <td>19.0</td>\n",
       "      <td>5.0</td>\n",
       "      <td>2.0</td>\n",
       "      <td>63.4</td>\n",
       "      <td>9559 White Street , Libertyville, IL 60048</td>\n",
       "    </tr>\n",
       "    <tr>\n",
       "      <th>1494</th>\n",
       "      <td>Jenna</td>\n",
       "      <td>Wagner</td>\n",
       "      <td>female</td>\n",
       "      <td>16.0</td>\n",
       "      <td>1.0</td>\n",
       "      <td>3.0</td>\n",
       "      <td>56.3</td>\n",
       "      <td>Newington, CT 06111, 857 Boston Ave.</td>\n",
       "    </tr>\n",
       "    <tr>\n",
       "      <th>1512</th>\n",
       "      <td>Jermaine</td>\n",
       "      <td>Sims</td>\n",
       "      <td>male</td>\n",
       "      <td>16.0</td>\n",
       "      <td>2.0</td>\n",
       "      <td>3.0</td>\n",
       "      <td>60.5</td>\n",
       "      <td>7874 Union St. , Euless, TX 76039</td>\n",
       "    </tr>\n",
       "    <tr>\n",
       "      <th>1573</th>\n",
       "      <td>Linda</td>\n",
       "      <td>Moreno</td>\n",
       "      <td>female</td>\n",
       "      <td>15.0</td>\n",
       "      <td>3.0</td>\n",
       "      <td>3.0</td>\n",
       "      <td>61.7</td>\n",
       "      <td>Huntsville, AL 35803, 384 Bay Meadows Court</td>\n",
       "    </tr>\n",
       "    <tr>\n",
       "      <th>1590</th>\n",
       "      <td>Dillon</td>\n",
       "      <td>Kane</td>\n",
       "      <td>male</td>\n",
       "      <td>19.0</td>\n",
       "      <td>2.0</td>\n",
       "      <td>4.0</td>\n",
       "      <td>60.3</td>\n",
       "      <td>551 Gates Rd. , Taylors, SC 29687</td>\n",
       "    </tr>\n",
       "    <tr>\n",
       "      <th>1672</th>\n",
       "      <td>Cheyenne</td>\n",
       "      <td>Prince</td>\n",
       "      <td>female</td>\n",
       "      <td>15.0</td>\n",
       "      <td>2.0</td>\n",
       "      <td>4.0</td>\n",
       "      <td>61.3</td>\n",
       "      <td>268 Sugar Ave. , Westland, MI 48185</td>\n",
       "    </tr>\n",
       "    <tr>\n",
       "      <th>1692</th>\n",
       "      <td>Inez</td>\n",
       "      <td>Webb</td>\n",
       "      <td>female</td>\n",
       "      <td>17.0</td>\n",
       "      <td>2.0</td>\n",
       "      <td>4.0</td>\n",
       "      <td>60.9</td>\n",
       "      <td>Wilkes Barre, PA 18702, 680 Deerfield Lane</td>\n",
       "    </tr>\n",
       "    <tr>\n",
       "      <th>1712</th>\n",
       "      <td>Yuri</td>\n",
       "      <td>Joyner</td>\n",
       "      <td>female</td>\n",
       "      <td>14.0</td>\n",
       "      <td>1.0</td>\n",
       "      <td>3.0</td>\n",
       "      <td>60.8</td>\n",
       "      <td>Vernon Hills, IL 60061, 28 El Dorado Street</td>\n",
       "    </tr>\n",
       "    <tr>\n",
       "      <th>1740</th>\n",
       "      <td>Warren</td>\n",
       "      <td>Warner</td>\n",
       "      <td>male</td>\n",
       "      <td>19.0</td>\n",
       "      <td>1.0</td>\n",
       "      <td>5.0</td>\n",
       "      <td>62.6</td>\n",
       "      <td>143 Jennings Street , Delray Beach, FL 33445</td>\n",
       "    </tr>\n",
       "    <tr>\n",
       "      <th>1748</th>\n",
       "      <td>Jaden</td>\n",
       "      <td>Hayden</td>\n",
       "      <td>female</td>\n",
       "      <td>18.0</td>\n",
       "      <td>2.0</td>\n",
       "      <td>5.0</td>\n",
       "      <td>61.2</td>\n",
       "      <td>52 Williams Ave. , Muskegon, MI 49441</td>\n",
       "    </tr>\n",
       "    <tr>\n",
       "      <th>1815</th>\n",
       "      <td>Jocelyn</td>\n",
       "      <td>Quinn</td>\n",
       "      <td>female</td>\n",
       "      <td>19.0</td>\n",
       "      <td>1.0</td>\n",
       "      <td>4.0</td>\n",
       "      <td>61.1</td>\n",
       "      <td>7763 Boston Dr. , Dorchester Center, MA 02124</td>\n",
       "    </tr>\n",
       "    <tr>\n",
       "      <th>1870</th>\n",
       "      <td>Levi</td>\n",
       "      <td>Coleman</td>\n",
       "      <td>male</td>\n",
       "      <td>19.0</td>\n",
       "      <td>3.0</td>\n",
       "      <td>3.0</td>\n",
       "      <td>55.9</td>\n",
       "      <td>7109 South Ridgeview Ave. , West Bloomfield, M...</td>\n",
       "    </tr>\n",
       "    <tr>\n",
       "      <th>1882</th>\n",
       "      <td>Fitzgerald</td>\n",
       "      <td>Goff</td>\n",
       "      <td>male</td>\n",
       "      <td>18.0</td>\n",
       "      <td>1.0</td>\n",
       "      <td>4.0</td>\n",
       "      <td>59.8</td>\n",
       "      <td>85 S. Fairfield Street , Richardson, TX 75080</td>\n",
       "    </tr>\n",
       "    <tr>\n",
       "      <th>1908</th>\n",
       "      <td>Ezekiel</td>\n",
       "      <td>Wilder</td>\n",
       "      <td>male</td>\n",
       "      <td>15.0</td>\n",
       "      <td>2.0</td>\n",
       "      <td>4.0</td>\n",
       "      <td>62.8</td>\n",
       "      <td>Glenview, IL 60025, 42 Wilson Road</td>\n",
       "    </tr>\n",
       "    <tr>\n",
       "      <th>1910</th>\n",
       "      <td>Gail</td>\n",
       "      <td>Mcneil</td>\n",
       "      <td>female</td>\n",
       "      <td>17.0</td>\n",
       "      <td>2.0</td>\n",
       "      <td>3.0</td>\n",
       "      <td>56.1</td>\n",
       "      <td>Libertyville, IL 60048, 9 Longbranch Street</td>\n",
       "    </tr>\n",
       "    <tr>\n",
       "      <th>1916</th>\n",
       "      <td>Kevin</td>\n",
       "      <td>Townsend</td>\n",
       "      <td>male</td>\n",
       "      <td>14.0</td>\n",
       "      <td>5.0</td>\n",
       "      <td>2.0</td>\n",
       "      <td>60.1</td>\n",
       "      <td>Ashtabula, OH 44004, 69 Piper Rd.</td>\n",
       "    </tr>\n",
       "    <tr>\n",
       "      <th>1924</th>\n",
       "      <td>Xanthus</td>\n",
       "      <td>Mcneil</td>\n",
       "      <td>male</td>\n",
       "      <td>16.0</td>\n",
       "      <td>3.0</td>\n",
       "      <td>4.0</td>\n",
       "      <td>59.8</td>\n",
       "      <td>45 Lantern St. , Severna Park, MD 21146</td>\n",
       "    </tr>\n",
       "    <tr>\n",
       "      <th>1965</th>\n",
       "      <td>Lavinia</td>\n",
       "      <td>Carr</td>\n",
       "      <td>female</td>\n",
       "      <td>16.0</td>\n",
       "      <td>2.0</td>\n",
       "      <td>4.0</td>\n",
       "      <td>62.2</td>\n",
       "      <td>65 Beech Street , Kent, OH 44240</td>\n",
       "    </tr>\n",
       "    <tr>\n",
       "      <th>1982</th>\n",
       "      <td>Kalia</td>\n",
       "      <td>Lewis</td>\n",
       "      <td>female</td>\n",
       "      <td>18.0</td>\n",
       "      <td>1.0</td>\n",
       "      <td>6.0</td>\n",
       "      <td>61.4</td>\n",
       "      <td>Carmel, NY 10512, 332 10th St.</td>\n",
       "    </tr>\n",
       "  </tbody>\n",
       "</table>\n",
       "</div>"
      ],
      "text/plain": [
       "           fname       lname  gender   age  exercise  hours  grade  \\\n",
       "61         Piper      Lowery  female  19.0       2.0    5.0   61.4   \n",
       "125       Violet    Jennings  female  14.0       1.0    5.0   62.6   \n",
       "214      Anthony      Bishop    male  19.0       2.0    5.0   61.6   \n",
       "243        Dante     Terrell    male  14.0       4.0    4.0   63.4   \n",
       "340        Abbot        Hall    male  16.0       4.0    3.0   58.9   \n",
       "388       Colton       Ochoa    male  17.0       1.0    4.0   60.3   \n",
       "393      Gabriel      Jordan    male  16.0       4.0    2.0   62.0   \n",
       "410        Linda     Baldwin  female  16.0       5.0    2.0   59.0   \n",
       "462         Sade      Juarez  female  18.0       3.0    5.0   61.1   \n",
       "477         Ryan       Hodge    male  17.0       1.0    4.0   60.9   \n",
       "484       Ciaran       Brady    male  19.0       3.0    3.0   62.5   \n",
       "528      Chester       Vance    male  17.0       1.0    5.0   60.1   \n",
       "556        Lacey      Nieves  female  18.0       1.0    2.0   57.9   \n",
       "576       Pamela      Holder  female  16.0       4.0    4.0   61.8   \n",
       "664        Alika       Poole  female  19.0       2.0   16.0   32.0   \n",
       "672       Ciaran         Gay    male  19.0       4.0    3.0   59.3   \n",
       "700       Steven     Sherman    male  18.0       1.0    2.0   60.0   \n",
       "869        Tanek    Stephens    male  15.0       1.0    4.0   60.5   \n",
       "903          Lee      Barber    male  15.0       2.0    2.0   62.3   \n",
       "951     Marshall      Sexton    male  18.0       1.0    3.0   62.6   \n",
       "972       Keegan   Rasmussen    male  19.0       4.0    3.0   43.0   \n",
       "1068      Isaiah  Harrington    male  17.0       1.0    4.0   58.9   \n",
       "1077     Malcolm       White    male  16.0       2.0    5.0   62.6   \n",
       "1099        Tara     Gilliam  female  16.0       2.0    5.0   63.4   \n",
       "1103      Lester     Mendoza    male  18.0       1.0    7.0   62.7   \n",
       "1111      Porter     Rowland    male  19.0       2.0    5.0   61.2   \n",
       "1133     Abraham        Kent    male  19.0       2.0    5.0   62.6   \n",
       "1155      Kieran    Martinez    male  14.0       3.0    4.0   60.8   \n",
       "1207       Selma       Stout  female  19.0       2.0    3.0   59.4   \n",
       "1218      Olivia       Craig  female  14.0       4.0    3.0   60.6   \n",
       "1237       Willa       Byers  female  14.0       2.0    4.0   59.2   \n",
       "1317      Kessie    Mcdonald  female  17.0       1.0    2.0   62.2   \n",
       "1342       Petra       Riley  female  18.0       4.0    4.0   63.3   \n",
       "1397    Beatrice    Matthews  female  14.0       1.0    4.0   61.1   \n",
       "1439        Levi     Acevedo    male  14.0       2.0    6.0   63.0   \n",
       "1449     Gillian      Norris  female  19.0       5.0    2.0   63.4   \n",
       "1494       Jenna      Wagner  female  16.0       1.0    3.0   56.3   \n",
       "1512    Jermaine        Sims    male  16.0       2.0    3.0   60.5   \n",
       "1573       Linda      Moreno  female  15.0       3.0    3.0   61.7   \n",
       "1590      Dillon        Kane    male  19.0       2.0    4.0   60.3   \n",
       "1672    Cheyenne      Prince  female  15.0       2.0    4.0   61.3   \n",
       "1692        Inez        Webb  female  17.0       2.0    4.0   60.9   \n",
       "1712        Yuri      Joyner  female  14.0       1.0    3.0   60.8   \n",
       "1740      Warren      Warner    male  19.0       1.0    5.0   62.6   \n",
       "1748       Jaden      Hayden  female  18.0       2.0    5.0   61.2   \n",
       "1815     Jocelyn       Quinn  female  19.0       1.0    4.0   61.1   \n",
       "1870        Levi     Coleman    male  19.0       3.0    3.0   55.9   \n",
       "1882  Fitzgerald        Goff    male  18.0       1.0    4.0   59.8   \n",
       "1908     Ezekiel      Wilder    male  15.0       2.0    4.0   62.8   \n",
       "1910        Gail      Mcneil  female  17.0       2.0    3.0   56.1   \n",
       "1916       Kevin    Townsend    male  14.0       5.0    2.0   60.1   \n",
       "1924     Xanthus      Mcneil    male  16.0       3.0    4.0   59.8   \n",
       "1965     Lavinia        Carr  female  16.0       2.0    4.0   62.2   \n",
       "1982       Kalia       Lewis  female  18.0       1.0    6.0   61.4   \n",
       "\n",
       "                                                address  \n",
       "61           West Deptford, NJ 08096, 210 E. Grand St.   \n",
       "125             Dalton, GA 30721, 9130 Greenrose Court   \n",
       "214             7401 Sherman Ave. , Knoxville, TN 37918  \n",
       "243                    5 Windsor St. , Reston, VA 20191  \n",
       "340          Lewis Center, OH 43035, 279 Lake View Dr.   \n",
       "388                Dubuque, IA 52001, 43 Hamilton Road   \n",
       "393               973 White Rd. , Englishtown, NJ 07726  \n",
       "410                7765 Bishop Dr. , Perkasie, PA 18944  \n",
       "462                    Barberton, OH 44203, 82 New St.   \n",
       "477                   8 Oakland Dr. , Hialeah, FL 33010  \n",
       "484           9817 Winding Way Lane , Lincoln, NE 68506  \n",
       "528        Windermere, FL 34786, 8605 South Shady Road   \n",
       "556    175 Rockaway St. , South Richmond Hill, NY 11419  \n",
       "576              303 Hartford Road , Suitland, MD 20746  \n",
       "664      Klamath Falls, OR 97603, 161 S. Wrangler Ave.   \n",
       "672      Oak Lawn, IL 60453, 8600 West Gonzales Avenue   \n",
       "700                 391 Smith Ave. , Rosedale, NY 11422  \n",
       "869          9780 Essex Street , North Bergen, NJ 07047  \n",
       "903   120 South Glen Ridge Street , Mechanicsburg, P...  \n",
       "951               Carmel, NY 10512, 15 W. Shirley Lane   \n",
       "972            994 Hill Field Ave. , Clermont, FL 34711  \n",
       "1068      Southampton, PA 18966, 717 W. Longbranch St.   \n",
       "1077         8927 Cobblestone Rd. , Cambridge, MA 02138  \n",
       "1099                 853 Beech Rd. , Anderson, SC 29621  \n",
       "1103             598 Mayflower Ave. , Calhoun, GA 30701  \n",
       "1111            45 Ridgewood Lane , Barberton, OH 44203  \n",
       "1133  Richmond Hill, NY 11418, 660 North Pennsylvani...  \n",
       "1155              9 W. 3rd Street , Lady Lake, FL 32159  \n",
       "1207                9755 Shipley Dr. , Canton, GA 30114  \n",
       "1218        Elizabeth, NJ 07202, 984 E. Rockville Road   \n",
       "1237            Morgantown, WV 26508, 8253 Elmwood St.   \n",
       "1317                Valrico, FL 33594, 69 Princess Dr.   \n",
       "1342           Fredericksburg, VA 22405, 74 Ridge Road   \n",
       "1397          Torrance, CA 90505, 7 Cherry Hill Street   \n",
       "1439               Buckeye, AZ 85326, 47 Hilldale Lane   \n",
       "1449         9559 White Street , Libertyville, IL 60048  \n",
       "1494              Newington, CT 06111, 857 Boston Ave.   \n",
       "1512                  7874 Union St. , Euless, TX 76039  \n",
       "1573       Huntsville, AL 35803, 384 Bay Meadows Court   \n",
       "1590                  551 Gates Rd. , Taylors, SC 29687  \n",
       "1672                268 Sugar Ave. , Westland, MI 48185  \n",
       "1692        Wilkes Barre, PA 18702, 680 Deerfield Lane   \n",
       "1712       Vernon Hills, IL 60061, 28 El Dorado Street   \n",
       "1740       143 Jennings Street , Delray Beach, FL 33445  \n",
       "1748              52 Williams Ave. , Muskegon, MI 49441  \n",
       "1815      7763 Boston Dr. , Dorchester Center, MA 02124  \n",
       "1870  7109 South Ridgeview Ave. , West Bloomfield, M...  \n",
       "1882      85 S. Fairfield Street , Richardson, TX 75080  \n",
       "1908                Glenview, IL 60025, 42 Wilson Road   \n",
       "1910       Libertyville, IL 60048, 9 Longbranch Street   \n",
       "1916                 Ashtabula, OH 44004, 69 Piper Rd.   \n",
       "1924            45 Lantern St. , Severna Park, MD 21146  \n",
       "1965                   65 Beech Street , Kent, OH 44240  \n",
       "1982                    Carmel, NY 10512, 332 10th St.   "
      ]
     },
     "execution_count": 28,
     "metadata": {},
     "output_type": "execute_result"
    }
   ],
   "source": [
    "FilteredDf[FilteredDf.grade < LowRangeGrade]"
   ]
  },
  {
   "cell_type": "markdown",
   "id": "fbe8176b",
   "metadata": {},
   "source": [
    "##### Imprime el numero de registros (renglones) que cumplen la condicion de grade < 63.45"
   ]
  },
  {
   "cell_type": "code",
   "execution_count": 84,
   "id": "6b74201b",
   "metadata": {},
   "outputs": [
    {
     "data": {
      "text/plain": [
       "54"
      ]
     },
     "execution_count": 84,
     "metadata": {},
     "output_type": "execute_result"
    }
   ],
   "source": [
    "len(FilteredDf[FilteredDf.grade < LowRangeGrade])"
   ]
  },
  {
   "cell_type": "markdown",
   "id": "ca144861",
   "metadata": {},
   "source": [
    "##### drops the rows selected or identified by its '.index', returning those rows not droped"
   ]
  },
  {
   "cell_type": "code",
   "execution_count": 85,
   "id": "c3d0b3fa",
   "metadata": {},
   "outputs": [
    {
     "data": {
      "text/html": [
       "<div>\n",
       "<style scoped>\n",
       "    .dataframe tbody tr th:only-of-type {\n",
       "        vertical-align: middle;\n",
       "    }\n",
       "\n",
       "    .dataframe tbody tr th {\n",
       "        vertical-align: top;\n",
       "    }\n",
       "\n",
       "    .dataframe thead th {\n",
       "        text-align: right;\n",
       "    }\n",
       "</style>\n",
       "<table border=\"1\" class=\"dataframe\">\n",
       "  <thead>\n",
       "    <tr style=\"text-align: right;\">\n",
       "      <th></th>\n",
       "      <th>fname</th>\n",
       "      <th>lname</th>\n",
       "      <th>gender</th>\n",
       "      <th>age</th>\n",
       "      <th>exercise</th>\n",
       "      <th>hours</th>\n",
       "      <th>grade</th>\n",
       "      <th>address</th>\n",
       "    </tr>\n",
       "  </thead>\n",
       "  <tbody>\n",
       "    <tr>\n",
       "      <th>0</th>\n",
       "      <td>Marcia</td>\n",
       "      <td>Pugh</td>\n",
       "      <td>female</td>\n",
       "      <td>17.0</td>\n",
       "      <td>3.0</td>\n",
       "      <td>10.0</td>\n",
       "      <td>82.4</td>\n",
       "      <td>7379 Highland Rd. , Dublin, GA 31021</td>\n",
       "    </tr>\n",
       "    <tr>\n",
       "      <th>1</th>\n",
       "      <td>Kadeem</td>\n",
       "      <td>Morrison</td>\n",
       "      <td>male</td>\n",
       "      <td>18.0</td>\n",
       "      <td>4.0</td>\n",
       "      <td>4.0</td>\n",
       "      <td>78.2</td>\n",
       "      <td>8 Bayport St. , Honolulu, HI 96815</td>\n",
       "    </tr>\n",
       "    <tr>\n",
       "      <th>2</th>\n",
       "      <td>Nash</td>\n",
       "      <td>Powell</td>\n",
       "      <td>male</td>\n",
       "      <td>18.0</td>\n",
       "      <td>5.0</td>\n",
       "      <td>9.0</td>\n",
       "      <td>79.3</td>\n",
       "      <td>Encino, CA 91316, 3 Lilac Street</td>\n",
       "    </tr>\n",
       "    <tr>\n",
       "      <th>3</th>\n",
       "      <td>Noelani</td>\n",
       "      <td>Wagner</td>\n",
       "      <td>female</td>\n",
       "      <td>14.0</td>\n",
       "      <td>2.0</td>\n",
       "      <td>7.0</td>\n",
       "      <td>83.2</td>\n",
       "      <td>Riverview, FL 33569, 9998 North Smith Dr.</td>\n",
       "    </tr>\n",
       "    <tr>\n",
       "      <th>4</th>\n",
       "      <td>Noelani</td>\n",
       "      <td>Cherry</td>\n",
       "      <td>female</td>\n",
       "      <td>18.0</td>\n",
       "      <td>4.0</td>\n",
       "      <td>15.0</td>\n",
       "      <td>87.4</td>\n",
       "      <td>97 SE. Ocean Street , Bethlehem, PA 18015</td>\n",
       "    </tr>\n",
       "    <tr>\n",
       "      <th>...</th>\n",
       "      <td>...</td>\n",
       "      <td>...</td>\n",
       "      <td>...</td>\n",
       "      <td>...</td>\n",
       "      <td>...</td>\n",
       "      <td>...</td>\n",
       "      <td>...</td>\n",
       "      <td>...</td>\n",
       "    </tr>\n",
       "    <tr>\n",
       "      <th>1995</th>\n",
       "      <td>Cody</td>\n",
       "      <td>Shepherd</td>\n",
       "      <td>male</td>\n",
       "      <td>19.0</td>\n",
       "      <td>1.0</td>\n",
       "      <td>8.0</td>\n",
       "      <td>80.1</td>\n",
       "      <td>8567 Walnut Street , Piqua, OH 45356</td>\n",
       "    </tr>\n",
       "    <tr>\n",
       "      <th>1996</th>\n",
       "      <td>Geraldine</td>\n",
       "      <td>Peterson</td>\n",
       "      <td>female</td>\n",
       "      <td>16.0</td>\n",
       "      <td>4.0</td>\n",
       "      <td>18.0</td>\n",
       "      <td>100.0</td>\n",
       "      <td>Lynn, MA 01902, 66 Bridge Drive</td>\n",
       "    </tr>\n",
       "    <tr>\n",
       "      <th>1997</th>\n",
       "      <td>Mercedes</td>\n",
       "      <td>Leon</td>\n",
       "      <td>female</td>\n",
       "      <td>18.0</td>\n",
       "      <td>3.0</td>\n",
       "      <td>14.0</td>\n",
       "      <td>84.9</td>\n",
       "      <td>Loxahatchee, FL 33470, 8887 NE. Sugar Road</td>\n",
       "    </tr>\n",
       "    <tr>\n",
       "      <th>1998</th>\n",
       "      <td>Lucius</td>\n",
       "      <td>Rowland</td>\n",
       "      <td>male</td>\n",
       "      <td>16.0</td>\n",
       "      <td>1.0</td>\n",
       "      <td>7.0</td>\n",
       "      <td>69.1</td>\n",
       "      <td>8734 South Birch Hill Drive , Canfield, OH 44406</td>\n",
       "    </tr>\n",
       "    <tr>\n",
       "      <th>1999</th>\n",
       "      <td>Linus</td>\n",
       "      <td>Morris</td>\n",
       "      <td>male</td>\n",
       "      <td>19.0</td>\n",
       "      <td>4.0</td>\n",
       "      <td>10.0</td>\n",
       "      <td>79.6</td>\n",
       "      <td>21 Glen Ridge St. , Highland, IN 46322</td>\n",
       "    </tr>\n",
       "  </tbody>\n",
       "</table>\n",
       "<p>1946 rows × 8 columns</p>\n",
       "</div>"
      ],
      "text/plain": [
       "          fname     lname  gender   age  exercise  hours  grade  \\\n",
       "0        Marcia      Pugh  female  17.0       3.0   10.0   82.4   \n",
       "1        Kadeem  Morrison    male  18.0       4.0    4.0   78.2   \n",
       "2          Nash    Powell    male  18.0       5.0    9.0   79.3   \n",
       "3       Noelani    Wagner  female  14.0       2.0    7.0   83.2   \n",
       "4       Noelani    Cherry  female  18.0       4.0   15.0   87.4   \n",
       "...         ...       ...     ...   ...       ...    ...    ...   \n",
       "1995       Cody  Shepherd    male  19.0       1.0    8.0   80.1   \n",
       "1996  Geraldine  Peterson  female  16.0       4.0   18.0  100.0   \n",
       "1997   Mercedes      Leon  female  18.0       3.0   14.0   84.9   \n",
       "1998     Lucius   Rowland    male  16.0       1.0    7.0   69.1   \n",
       "1999      Linus    Morris    male  19.0       4.0   10.0   79.6   \n",
       "\n",
       "                                               address  \n",
       "0                 7379 Highland Rd. , Dublin, GA 31021  \n",
       "1                   8 Bayport St. , Honolulu, HI 96815  \n",
       "2                    Encino, CA 91316, 3 Lilac Street   \n",
       "3           Riverview, FL 33569, 9998 North Smith Dr.   \n",
       "4            97 SE. Ocean Street , Bethlehem, PA 18015  \n",
       "...                                                ...  \n",
       "1995              8567 Walnut Street , Piqua, OH 45356  \n",
       "1996                  Lynn, MA 01902, 66 Bridge Drive   \n",
       "1997       Loxahatchee, FL 33470, 8887 NE. Sugar Road   \n",
       "1998  8734 South Birch Hill Drive , Canfield, OH 44406  \n",
       "1999            21 Glen Ridge St. , Highland, IN 46322  \n",
       "\n",
       "[1946 rows x 8 columns]"
      ]
     },
     "execution_count": 85,
     "metadata": {},
     "output_type": "execute_result"
    }
   ],
   "source": [
    "FilteredDf.drop(FilteredDf[FilteredDf.grade < LowRangeGrade].index)"
   ]
  },
  {
   "cell_type": "markdown",
   "id": "5d221628",
   "metadata": {},
   "source": [
    "##### Ahora se observa que FilteredDf contiene 2000-54= 1,946 registros. Sin embargo, esta operacion debe actualizarse sobre el conjunto de datos FilteredDf. "
   ]
  },
  {
   "cell_type": "code",
   "execution_count": 89,
   "id": "e6f88617",
   "metadata": {},
   "outputs": [],
   "source": [
    "FilteredDf=FilteredDf.drop(FilteredDf[FilteredDf.grade < LowRangeGrade].index)"
   ]
  },
  {
   "cell_type": "markdown",
   "id": "ee100f3a",
   "metadata": {},
   "source": [
    "##### Obteniendo nuevamente la estadistica descriptiva de las calificaciones para el conjunto original y para el conjunto de datos filtrados, podemos en principio ver la diferencia en el valor mímo."
   ]
  },
  {
   "cell_type": "code",
   "execution_count": 99,
   "id": "f4492fea",
   "metadata": {},
   "outputs": [
    {
     "data": {
      "text/plain": [
       "count    2000.000000\n",
       "mean       82.556050\n",
       "std         9.747593\n",
       "min        32.000000\n",
       "25%        75.575000\n",
       "50%        82.700000\n",
       "75%        89.700000\n",
       "max       100.000000\n",
       "Name: grade, dtype: float64"
      ]
     },
     "execution_count": 99,
     "metadata": {},
     "output_type": "execute_result"
    }
   ],
   "source": [
    "resume1 = df.grade.describe()\n",
    "resume1"
   ]
  },
  {
   "cell_type": "code",
   "execution_count": 100,
   "id": "1c023643",
   "metadata": {},
   "outputs": [
    {
     "data": {
      "text/plain": [
       "count    1946.000000\n",
       "mean       83.180730\n",
       "std         9.084848\n",
       "min        63.700000\n",
       "25%        76.300000\n",
       "50%        83.100000\n",
       "75%        89.800000\n",
       "max       100.000000\n",
       "Name: grade, dtype: float64"
      ]
     },
     "execution_count": 100,
     "metadata": {},
     "output_type": "execute_result"
    }
   ],
   "source": [
    "resume2 = FilteredDf.grade.describe()\n",
    "resume2"
   ]
  },
  {
   "cell_type": "markdown",
   "id": "4d4b9591",
   "metadata": {},
   "source": [
    "##### Sin embargo, en este método 1, eliminar outliers bajo este criterio podría afectar las estadísticas básicas descriptivas que no son percibidas en solo resultados numéricos pero si en los gráficos."
   ]
  },
  {
   "cell_type": "code",
   "execution_count": 91,
   "id": "7dacf091",
   "metadata": {},
   "outputs": [
    {
     "data": {
      "text/plain": [
       "<AxesSubplot:>"
      ]
     },
     "execution_count": 91,
     "metadata": {},
     "output_type": "execute_result"
    },
    {
     "data": {
      "image/png": "[encoded data removed]",
      "text/plain": [
       "<Figure size 432x288 with 1 Axes>"
      ]
     },
     "metadata": {
      "needs_background": "light"
     },
     "output_type": "display_data"
    }
   ],
   "source": [
    "df.boxplot(column='grade')"
   ]
  },
  {
   "cell_type": "code",
   "execution_count": 92,
   "id": "ef9498a9",
   "metadata": {},
   "outputs": [
    {
     "data": {
      "text/plain": [
       "<AxesSubplot:>"
      ]
     },
     "execution_count": 92,
     "metadata": {},
     "output_type": "execute_result"
    },
    {
     "data": {
      "image/png": "[encoded data removed]",
      "text/plain": [
       "<Figure size 432x288 with 1 Axes>"
      ]
     },
     "metadata": {
      "needs_background": "light"
     },
     "output_type": "display_data"
    }
   ],
   "source": [
    "FilteredDf.boxplot(column='grade')"
   ]
  },
  {
   "cell_type": "markdown",
   "id": "f43a8df3",
   "metadata": {},
   "source": [
    "##### En los anteriores diagramas de cajas y bigotes, solo es posible ver principalmente que se eliminaron los outliers. Por lo que posiblemente sea necesario otro gráfico para comprobar si estos son los únicos cambios relevantes."
   ]
  },
  {
   "cell_type": "code",
   "execution_count": 95,
   "id": "ddf38adf",
   "metadata": {},
   "outputs": [
    {
     "data": {
      "text/plain": [
       "Text(0, 0.5, 'Obtained grade')"
      ]
     },
     "execution_count": 95,
     "metadata": {},
     "output_type": "execute_result"
    },
    {
     "data": {
      "image/png": "[encoded data removed]",
      "text/plain": [
       "<Figure size 432x288 with 1 Axes>"
      ]
     },
     "metadata": {
      "needs_background": "light"
     },
     "output_type": "display_data"
    }
   ],
   "source": [
    "plt.scatter(df.age,df.grade)\n",
    "plt.title(\"Students age VS. Obtained Grade\")\n",
    "plt.xlabel(\"Students age\")\n",
    "plt.ylabel(\"Obtained grade\")"
   ]
  },
  {
   "cell_type": "code",
   "execution_count": 98,
   "id": "80e0124e",
   "metadata": {},
   "outputs": [
    {
     "data": {
      "text/plain": [
       "Text(0, 0.5, 'Obtained grade')"
      ]
     },
     "execution_count": 98,
     "metadata": {},
     "output_type": "execute_result"
    },
    {
     "data": {
      "image/png": "[encoded data removed]",
      "text/plain": [
       "<Figure size 432x288 with 1 Axes>"
      ]
     },
     "metadata": {
      "needs_background": "light"
     },
     "output_type": "display_data"
    }
   ],
   "source": [
    "plt.scatter(FilteredDf.age,FilteredDf.grade)\n",
    "plt.title(\"Students age VS. Obtained Grade from FilteredDf\")\n",
    "plt.xlabel(\"Students age\")\n",
    "plt.ylabel(\"Obtained grade\")"
   ]
  },
  {
   "cell_type": "markdown",
   "id": "8f8e80ba",
   "metadata": {},
   "source": [
    "##### En los dos anteriores diagramas se puede apreciar que se eliminaron los dos registros correspondientes a edades de 19 años con calificacionespor debajo de 50."
   ]
  },
  {
   "cell_type": "code",
   "execution_count": 107,
   "id": "30723f48",
   "metadata": {},
   "outputs": [
    {
     "data": {
      "text/html": [
       "<div>\n",
       "<style scoped>\n",
       "    .dataframe tbody tr th:only-of-type {\n",
       "        vertical-align: middle;\n",
       "    }\n",
       "\n",
       "    .dataframe tbody tr th {\n",
       "        vertical-align: top;\n",
       "    }\n",
       "\n",
       "    .dataframe thead th {\n",
       "        text-align: right;\n",
       "    }\n",
       "</style>\n",
       "<table border=\"1\" class=\"dataframe\">\n",
       "  <thead>\n",
       "    <tr style=\"text-align: right;\">\n",
       "      <th></th>\n",
       "      <th>fname</th>\n",
       "      <th>lname</th>\n",
       "      <th>gender</th>\n",
       "      <th>age</th>\n",
       "      <th>exercise</th>\n",
       "      <th>hours</th>\n",
       "      <th>grade</th>\n",
       "      <th>address</th>\n",
       "    </tr>\n",
       "  </thead>\n",
       "  <tbody>\n",
       "    <tr>\n",
       "      <th>664</th>\n",
       "      <td>Alika</td>\n",
       "      <td>Poole</td>\n",
       "      <td>female</td>\n",
       "      <td>19.0</td>\n",
       "      <td>2.0</td>\n",
       "      <td>16.0</td>\n",
       "      <td>32.0</td>\n",
       "      <td>Klamath Falls, OR 97603, 161 S. Wrangler Ave.</td>\n",
       "    </tr>\n",
       "    <tr>\n",
       "      <th>972</th>\n",
       "      <td>Keegan</td>\n",
       "      <td>Rasmussen</td>\n",
       "      <td>male</td>\n",
       "      <td>19.0</td>\n",
       "      <td>4.0</td>\n",
       "      <td>3.0</td>\n",
       "      <td>43.0</td>\n",
       "      <td>994 Hill Field Ave. , Clermont, FL 34711</td>\n",
       "    </tr>\n",
       "  </tbody>\n",
       "</table>\n",
       "</div>"
      ],
      "text/plain": [
       "      fname      lname  gender   age  exercise  hours  grade  \\\n",
       "664   Alika      Poole  female  19.0       2.0   16.0   32.0   \n",
       "972  Keegan  Rasmussen    male  19.0       4.0    3.0   43.0   \n",
       "\n",
       "                                            address  \n",
       "664  Klamath Falls, OR 97603, 161 S. Wrangler Ave.   \n",
       "972        994 Hill Field Ave. , Clermont, FL 34711  "
      ]
     },
     "execution_count": 107,
     "metadata": {},
     "output_type": "execute_result"
    }
   ],
   "source": [
    "df[df.grade < 50]"
   ]
  },
  {
   "cell_type": "markdown",
   "id": "7ece549a",
   "metadata": {},
   "source": [
    "##### Los dos anteriores diagramas tampoco aportan información suficiente para determinar si el método 1 de detección y eliminación de aouliers fué el más conveniente para este conjunto de datos. Intentando ahora otro gráfico básico. Tenemos lo siguiente:"
   ]
  },
  {
   "cell_type": "code",
   "execution_count": 101,
   "id": "246f9b26",
   "metadata": {},
   "outputs": [
    {
     "data": {
      "text/plain": [
       "array([[<AxesSubplot:title={'center':'grade'}>]], dtype=object)"
      ]
     },
     "execution_count": 101,
     "metadata": {},
     "output_type": "execute_result"
    },
    {
     "data": {
      "image/png": "[encoded data removed]",
      "text/plain": [
       "<Figure size 432x288 with 1 Axes>"
      ]
     },
     "metadata": {
      "needs_background": "light"
     },
     "output_type": "display_data"
    }
   ],
   "source": [
    "df.hist('grade')"
   ]
  },
  {
   "cell_type": "code",
   "execution_count": 102,
   "id": "b62bf205",
   "metadata": {},
   "outputs": [
    {
     "data": {
      "text/plain": [
       "array([[<AxesSubplot:title={'center':'grade'}>]], dtype=object)"
      ]
     },
     "execution_count": 102,
     "metadata": {},
     "output_type": "execute_result"
    },
    {
     "data": {
      "image/png": "[encoded data removed]",
      "text/plain": [
       "<Figure size 432x288 with 1 Axes>"
      ]
     },
     "metadata": {
      "needs_background": "light"
     },
     "output_type": "display_data"
    }
   ],
   "source": [
    "FilteredDf.hist('grade')"
   ]
  },
  {
   "cell_type": "markdown",
   "id": "d0f9abba",
   "metadata": {},
   "source": [
    "##### En los dos anteriores histogramas, es ahora más claro que la distribución de la variable a cambiado notablemente. Por ejemplo, para la calificación de 90 antes se tenían aproximadamente 450 alumnos, y luego de  eliminar posibles ouliers se tienen ahora aproximadamente 200 alumnos. "
   ]
  },
  {
   "cell_type": "markdown",
   "id": "70647b4c",
   "metadata": {},
   "source": [
    "### En casos como este, sería necesario revisar con mayor detalle los motivos de este resultado, como por ejemplo un error en en algún comando o bien considerar la posibilidad  de que este método no es el más adecuado, como por ejemplo el haber considerado una distribución normal. Esto último no parece haber sido una buena decisión, ya que no se realizó la prueba y además la distribución del conjunto original no tiene la forma característica de la \"campana de gauss\" de la distribución normal."
   ]
  },
  {
   "cell_type": "markdown",
   "id": "b34e97e9",
   "metadata": {},
   "source": [
    "### Adicionalmente a la anterior consideración, aún no se han realizado los calculos para los registros por arriba del rango de la distribucion normal"
   ]
  },
  {
   "cell_type": "code",
   "execution_count": 36,
   "id": "b49a1a3a",
   "metadata": {},
   "outputs": [
    {
     "data": {
      "text/html": [
       "<div>\n",
       "<style scoped>\n",
       "    .dataframe tbody tr th:only-of-type {\n",
       "        vertical-align: middle;\n",
       "    }\n",
       "\n",
       "    .dataframe tbody tr th {\n",
       "        vertical-align: top;\n",
       "    }\n",
       "\n",
       "    .dataframe thead th {\n",
       "        text-align: right;\n",
       "    }\n",
       "</style>\n",
       "<table border=\"1\" class=\"dataframe\">\n",
       "  <thead>\n",
       "    <tr style=\"text-align: right;\">\n",
       "      <th></th>\n",
       "      <th>fname</th>\n",
       "      <th>lname</th>\n",
       "      <th>gender</th>\n",
       "      <th>age</th>\n",
       "      <th>exercise</th>\n",
       "      <th>hours</th>\n",
       "      <th>grade</th>\n",
       "      <th>address</th>\n",
       "    </tr>\n",
       "  </thead>\n",
       "  <tbody>\n",
       "  </tbody>\n",
       "</table>\n",
       "</div>"
      ],
      "text/plain": [
       "Empty DataFrame\n",
       "Columns: [fname, lname, gender, age, exercise, hours, grade, address]\n",
       "Index: []"
      ]
     },
     "execution_count": 36,
     "metadata": {},
     "output_type": "execute_result"
    }
   ],
   "source": [
    "FilteredDf[FilteredDf.grade > TopRangeGrade]"
   ]
  },
  {
   "cell_type": "markdown",
   "id": "18da80ee",
   "metadata": {},
   "source": [
    "#### Se aprecia que no hay registros por arriba del rango alto. Por lo tanto la tarea de identificar y eliminar los outliers por el método 1 ha concluido."
   ]
  },
  {
   "cell_type": "markdown",
   "id": "994152c4",
   "metadata": {},
   "source": [
    "<div class=\"alert alert-block alert-info\" style=\"margin-top: 20px\">\n",
    "    <ul>\n",
    "        <li><a href=\"#TablaContenidos\">Regresar a Tabla de Contenidos</a></li>\n",
    "    </ul>\n",
    "</div>"
   ]
  },
  {
   "cell_type": "markdown",
   "id": "575cc4c6",
   "metadata": {},
   "source": [
    "<A name='Method2'> </A>  <h3>METHOD 2 Interquartile Range (IQR) to DETECTING OUTLIERS </h3>"
   ]
  },
  {
   "cell_type": "markdown",
   "id": "be65e98f",
   "metadata": {},
   "source": [
    "##### Sobre el rango interquartil algo se habia avanzado en la seccion anterior de visualizacion de datos. Sin embargo ahora se vera con otro nivel de detalle."
   ]
  },
  {
   "cell_type": "code",
   "execution_count": 108,
   "id": "c210a019",
   "metadata": {},
   "outputs": [],
   "source": [
    "#Interquartile Range (IQR): El IQR es la diferencia entre \n",
    "#los valores de los quartiles del 25% y del 75% es decir: IQR=Q3-Q1.\n",
    "\n",
    "#Cualquier valor por debajo de  Q1 - 1.5 x IQR\n",
    "#o por arriba de  Q3 + 1.5 x IQR \n",
    "#son tratados como outliers y son eliminados."
   ]
  },
  {
   "cell_type": "markdown",
   "id": "3f6b507b",
   "metadata": {},
   "source": [
    "#### Es posible que el segundo metodo sea mas recomendable ya que al parecer no requiere de una distribucion normal de los datos."
   ]
  },
  {
   "cell_type": "code",
   "execution_count": 38,
   "id": "074b437b",
   "metadata": {},
   "outputs": [
    {
     "data": {
      "text/plain": [
       "75.57499999999999"
      ]
     },
     "execution_count": 38,
     "metadata": {},
     "output_type": "execute_result"
    }
   ],
   "source": [
    "Q1 = df.grade.quantile(.25)\n",
    "Q1"
   ]
  },
  {
   "cell_type": "code",
   "execution_count": 39,
   "id": "19509e60",
   "metadata": {},
   "outputs": [
    {
     "data": {
      "text/plain": [
       "89.7"
      ]
     },
     "execution_count": 39,
     "metadata": {},
     "output_type": "execute_result"
    }
   ],
   "source": [
    "Q3 = df.grade.quantile(.75)\n",
    "Q3"
   ]
  },
  {
   "cell_type": "code",
   "execution_count": 40,
   "id": "d73f8e98",
   "metadata": {},
   "outputs": [
    {
     "data": {
      "text/plain": [
       "14.125000000000014"
      ]
     },
     "execution_count": 40,
     "metadata": {},
     "output_type": "execute_result"
    }
   ],
   "source": [
    "IQR=Q3-Q1\n",
    "IQR"
   ]
  },
  {
   "cell_type": "code",
   "execution_count": 115,
   "id": "517bc01a",
   "metadata": {},
   "outputs": [
    {
     "data": {
      "text/plain": [
       "54.38749999999997"
      ]
     },
     "execution_count": 115,
     "metadata": {},
     "output_type": "execute_result"
    }
   ],
   "source": [
    "LowRange = Q1 - IQR * 1.5\n",
    "LowRange"
   ]
  },
  {
   "cell_type": "code",
   "execution_count": 116,
   "id": "0246dde2",
   "metadata": {},
   "outputs": [
    {
     "data": {
      "text/plain": [
       "110.88750000000002"
      ]
     },
     "execution_count": 116,
     "metadata": {},
     "output_type": "execute_result"
    }
   ],
   "source": [
    "TopRange = Q3 + IQR * 1.5\n",
    "TopRange"
   ]
  },
  {
   "cell_type": "code",
   "execution_count": 117,
   "id": "168c94ad",
   "metadata": {},
   "outputs": [],
   "source": [
    "FilteredDf2=df #copia df original para posteriormente filtrar datos"
   ]
  },
  {
   "cell_type": "markdown",
   "id": "3fcd0a17",
   "metadata": {},
   "source": [
    "##### Para mostrar los registros que cumplen la condicion de calificacion grade < 54.39"
   ]
  },
  {
   "cell_type": "code",
   "execution_count": 118,
   "id": "4e631d7d",
   "metadata": {},
   "outputs": [
    {
     "data": {
      "text/html": [
       "<div>\n",
       "<style scoped>\n",
       "    .dataframe tbody tr th:only-of-type {\n",
       "        vertical-align: middle;\n",
       "    }\n",
       "\n",
       "    .dataframe tbody tr th {\n",
       "        vertical-align: top;\n",
       "    }\n",
       "\n",
       "    .dataframe thead th {\n",
       "        text-align: right;\n",
       "    }\n",
       "</style>\n",
       "<table border=\"1\" class=\"dataframe\">\n",
       "  <thead>\n",
       "    <tr style=\"text-align: right;\">\n",
       "      <th></th>\n",
       "      <th>fname</th>\n",
       "      <th>lname</th>\n",
       "      <th>gender</th>\n",
       "      <th>age</th>\n",
       "      <th>exercise</th>\n",
       "      <th>hours</th>\n",
       "      <th>grade</th>\n",
       "      <th>address</th>\n",
       "    </tr>\n",
       "  </thead>\n",
       "  <tbody>\n",
       "    <tr>\n",
       "      <th>664</th>\n",
       "      <td>Alika</td>\n",
       "      <td>Poole</td>\n",
       "      <td>female</td>\n",
       "      <td>19.0</td>\n",
       "      <td>2.0</td>\n",
       "      <td>16.0</td>\n",
       "      <td>32.0</td>\n",
       "      <td>Klamath Falls, OR 97603, 161 S. Wrangler Ave.</td>\n",
       "    </tr>\n",
       "    <tr>\n",
       "      <th>972</th>\n",
       "      <td>Keegan</td>\n",
       "      <td>Rasmussen</td>\n",
       "      <td>male</td>\n",
       "      <td>19.0</td>\n",
       "      <td>4.0</td>\n",
       "      <td>3.0</td>\n",
       "      <td>43.0</td>\n",
       "      <td>994 Hill Field Ave. , Clermont, FL 34711</td>\n",
       "    </tr>\n",
       "  </tbody>\n",
       "</table>\n",
       "</div>"
      ],
      "text/plain": [
       "      fname      lname  gender   age  exercise  hours  grade  \\\n",
       "664   Alika      Poole  female  19.0       2.0   16.0   32.0   \n",
       "972  Keegan  Rasmussen    male  19.0       4.0    3.0   43.0   \n",
       "\n",
       "                                            address  \n",
       "664  Klamath Falls, OR 97603, 161 S. Wrangler Ave.   \n",
       "972        994 Hill Field Ave. , Clermont, FL 34711  "
      ]
     },
     "execution_count": 118,
     "metadata": {},
     "output_type": "execute_result"
    }
   ],
   "source": [
    "FilteredDf2[FilteredDf2.grade < LowRange]"
   ]
  },
  {
   "cell_type": "markdown",
   "id": "a4a10fff",
   "metadata": {},
   "source": [
    "#### Se observan dos registros que seguramente son los potenciales valores atipicos anteriormente visualizados en las graficas. En este segundo método se eliminarán solo 2 registros comparados con 54 registros del método 1."
   ]
  },
  {
   "cell_type": "code",
   "execution_count": 120,
   "id": "6e0cfbc4",
   "metadata": {},
   "outputs": [
    {
     "data": {
      "text/html": [
       "<div>\n",
       "<style scoped>\n",
       "    .dataframe tbody tr th:only-of-type {\n",
       "        vertical-align: middle;\n",
       "    }\n",
       "\n",
       "    .dataframe tbody tr th {\n",
       "        vertical-align: top;\n",
       "    }\n",
       "\n",
       "    .dataframe thead th {\n",
       "        text-align: right;\n",
       "    }\n",
       "</style>\n",
       "<table border=\"1\" class=\"dataframe\">\n",
       "  <thead>\n",
       "    <tr style=\"text-align: right;\">\n",
       "      <th></th>\n",
       "      <th>fname</th>\n",
       "      <th>lname</th>\n",
       "      <th>gender</th>\n",
       "      <th>age</th>\n",
       "      <th>exercise</th>\n",
       "      <th>hours</th>\n",
       "      <th>grade</th>\n",
       "      <th>address</th>\n",
       "    </tr>\n",
       "  </thead>\n",
       "  <tbody>\n",
       "    <tr>\n",
       "      <th>0</th>\n",
       "      <td>Marcia</td>\n",
       "      <td>Pugh</td>\n",
       "      <td>female</td>\n",
       "      <td>17.0</td>\n",
       "      <td>3.0</td>\n",
       "      <td>10.0</td>\n",
       "      <td>82.4</td>\n",
       "      <td>7379 Highland Rd. , Dublin, GA 31021</td>\n",
       "    </tr>\n",
       "    <tr>\n",
       "      <th>1</th>\n",
       "      <td>Kadeem</td>\n",
       "      <td>Morrison</td>\n",
       "      <td>male</td>\n",
       "      <td>18.0</td>\n",
       "      <td>4.0</td>\n",
       "      <td>4.0</td>\n",
       "      <td>78.2</td>\n",
       "      <td>8 Bayport St. , Honolulu, HI 96815</td>\n",
       "    </tr>\n",
       "    <tr>\n",
       "      <th>2</th>\n",
       "      <td>Nash</td>\n",
       "      <td>Powell</td>\n",
       "      <td>male</td>\n",
       "      <td>18.0</td>\n",
       "      <td>5.0</td>\n",
       "      <td>9.0</td>\n",
       "      <td>79.3</td>\n",
       "      <td>Encino, CA 91316, 3 Lilac Street</td>\n",
       "    </tr>\n",
       "    <tr>\n",
       "      <th>3</th>\n",
       "      <td>Noelani</td>\n",
       "      <td>Wagner</td>\n",
       "      <td>female</td>\n",
       "      <td>14.0</td>\n",
       "      <td>2.0</td>\n",
       "      <td>7.0</td>\n",
       "      <td>83.2</td>\n",
       "      <td>Riverview, FL 33569, 9998 North Smith Dr.</td>\n",
       "    </tr>\n",
       "    <tr>\n",
       "      <th>4</th>\n",
       "      <td>Noelani</td>\n",
       "      <td>Cherry</td>\n",
       "      <td>female</td>\n",
       "      <td>18.0</td>\n",
       "      <td>4.0</td>\n",
       "      <td>15.0</td>\n",
       "      <td>87.4</td>\n",
       "      <td>97 SE. Ocean Street , Bethlehem, PA 18015</td>\n",
       "    </tr>\n",
       "    <tr>\n",
       "      <th>...</th>\n",
       "      <td>...</td>\n",
       "      <td>...</td>\n",
       "      <td>...</td>\n",
       "      <td>...</td>\n",
       "      <td>...</td>\n",
       "      <td>...</td>\n",
       "      <td>...</td>\n",
       "      <td>...</td>\n",
       "    </tr>\n",
       "    <tr>\n",
       "      <th>1995</th>\n",
       "      <td>Cody</td>\n",
       "      <td>Shepherd</td>\n",
       "      <td>male</td>\n",
       "      <td>19.0</td>\n",
       "      <td>1.0</td>\n",
       "      <td>8.0</td>\n",
       "      <td>80.1</td>\n",
       "      <td>8567 Walnut Street , Piqua, OH 45356</td>\n",
       "    </tr>\n",
       "    <tr>\n",
       "      <th>1996</th>\n",
       "      <td>Geraldine</td>\n",
       "      <td>Peterson</td>\n",
       "      <td>female</td>\n",
       "      <td>16.0</td>\n",
       "      <td>4.0</td>\n",
       "      <td>18.0</td>\n",
       "      <td>100.0</td>\n",
       "      <td>Lynn, MA 01902, 66 Bridge Drive</td>\n",
       "    </tr>\n",
       "    <tr>\n",
       "      <th>1997</th>\n",
       "      <td>Mercedes</td>\n",
       "      <td>Leon</td>\n",
       "      <td>female</td>\n",
       "      <td>18.0</td>\n",
       "      <td>3.0</td>\n",
       "      <td>14.0</td>\n",
       "      <td>84.9</td>\n",
       "      <td>Loxahatchee, FL 33470, 8887 NE. Sugar Road</td>\n",
       "    </tr>\n",
       "    <tr>\n",
       "      <th>1998</th>\n",
       "      <td>Lucius</td>\n",
       "      <td>Rowland</td>\n",
       "      <td>male</td>\n",
       "      <td>16.0</td>\n",
       "      <td>1.0</td>\n",
       "      <td>7.0</td>\n",
       "      <td>69.1</td>\n",
       "      <td>8734 South Birch Hill Drive , Canfield, OH 44406</td>\n",
       "    </tr>\n",
       "    <tr>\n",
       "      <th>1999</th>\n",
       "      <td>Linus</td>\n",
       "      <td>Morris</td>\n",
       "      <td>male</td>\n",
       "      <td>19.0</td>\n",
       "      <td>4.0</td>\n",
       "      <td>10.0</td>\n",
       "      <td>79.6</td>\n",
       "      <td>21 Glen Ridge St. , Highland, IN 46322</td>\n",
       "    </tr>\n",
       "  </tbody>\n",
       "</table>\n",
       "<p>1998 rows × 8 columns</p>\n",
       "</div>"
      ],
      "text/plain": [
       "          fname     lname  gender   age  exercise  hours  grade  \\\n",
       "0        Marcia      Pugh  female  17.0       3.0   10.0   82.4   \n",
       "1        Kadeem  Morrison    male  18.0       4.0    4.0   78.2   \n",
       "2          Nash    Powell    male  18.0       5.0    9.0   79.3   \n",
       "3       Noelani    Wagner  female  14.0       2.0    7.0   83.2   \n",
       "4       Noelani    Cherry  female  18.0       4.0   15.0   87.4   \n",
       "...         ...       ...     ...   ...       ...    ...    ...   \n",
       "1995       Cody  Shepherd    male  19.0       1.0    8.0   80.1   \n",
       "1996  Geraldine  Peterson  female  16.0       4.0   18.0  100.0   \n",
       "1997   Mercedes      Leon  female  18.0       3.0   14.0   84.9   \n",
       "1998     Lucius   Rowland    male  16.0       1.0    7.0   69.1   \n",
       "1999      Linus    Morris    male  19.0       4.0   10.0   79.6   \n",
       "\n",
       "                                               address  \n",
       "0                 7379 Highland Rd. , Dublin, GA 31021  \n",
       "1                   8 Bayport St. , Honolulu, HI 96815  \n",
       "2                    Encino, CA 91316, 3 Lilac Street   \n",
       "3           Riverview, FL 33569, 9998 North Smith Dr.   \n",
       "4            97 SE. Ocean Street , Bethlehem, PA 18015  \n",
       "...                                                ...  \n",
       "1995              8567 Walnut Street , Piqua, OH 45356  \n",
       "1996                  Lynn, MA 01902, 66 Bridge Drive   \n",
       "1997       Loxahatchee, FL 33470, 8887 NE. Sugar Road   \n",
       "1998  8734 South Birch Hill Drive , Canfield, OH 44406  \n",
       "1999            21 Glen Ridge St. , Highland, IN 46322  \n",
       "\n",
       "[1998 rows x 8 columns]"
      ]
     },
     "execution_count": 120,
     "metadata": {},
     "output_type": "execute_result"
    }
   ],
   "source": [
    "FilteredDf2=FilteredDf2.drop(FilteredDf2[FilteredDf2.grade < LowRange].index)\n",
    "FilteredDf2"
   ]
  },
  {
   "cell_type": "markdown",
   "id": "addf995f",
   "metadata": {},
   "source": [
    "#### Buscando ahora los registros por arriba del rango alto"
   ]
  },
  {
   "cell_type": "code",
   "execution_count": 45,
   "id": "412d7311",
   "metadata": {},
   "outputs": [
    {
     "data": {
      "text/html": [
       "<div>\n",
       "<style scoped>\n",
       "    .dataframe tbody tr th:only-of-type {\n",
       "        vertical-align: middle;\n",
       "    }\n",
       "\n",
       "    .dataframe tbody tr th {\n",
       "        vertical-align: top;\n",
       "    }\n",
       "\n",
       "    .dataframe thead th {\n",
       "        text-align: right;\n",
       "    }\n",
       "</style>\n",
       "<table border=\"1\" class=\"dataframe\">\n",
       "  <thead>\n",
       "    <tr style=\"text-align: right;\">\n",
       "      <th></th>\n",
       "      <th>fname</th>\n",
       "      <th>lname</th>\n",
       "      <th>gender</th>\n",
       "      <th>age</th>\n",
       "      <th>exercise</th>\n",
       "      <th>hours</th>\n",
       "      <th>grade</th>\n",
       "      <th>address</th>\n",
       "    </tr>\n",
       "  </thead>\n",
       "  <tbody>\n",
       "  </tbody>\n",
       "</table>\n",
       "</div>"
      ],
      "text/plain": [
       "Empty DataFrame\n",
       "Columns: [fname, lname, gender, age, exercise, hours, grade, address]\n",
       "Index: []"
      ]
     },
     "execution_count": 45,
     "metadata": {},
     "output_type": "execute_result"
    }
   ],
   "source": [
    "FilteredDf2[FilteredDf2.grade > TopRange]"
   ]
  },
  {
   "cell_type": "markdown",
   "id": "0d9d5e5c",
   "metadata": {},
   "source": [
    "##### Se aprecia que no hay registros por arriba del rango alto.  Ahora se puede comparar datos de estadística básica descriptiva y gráficos a modo de simple verificación de si el método 2 es más conveniente que el método 1."
   ]
  },
  {
   "cell_type": "code",
   "execution_count": 110,
   "id": "efe7081c",
   "metadata": {},
   "outputs": [
    {
     "data": {
      "text/plain": [
       "count    2000.000000\n",
       "mean       82.556050\n",
       "std         9.747593\n",
       "min        32.000000\n",
       "25%        75.575000\n",
       "50%        82.700000\n",
       "75%        89.700000\n",
       "max       100.000000\n",
       "Name: grade, dtype: float64"
      ]
     },
     "execution_count": 110,
     "metadata": {},
     "output_type": "execute_result"
    }
   ],
   "source": [
    "resume1"
   ]
  },
  {
   "cell_type": "code",
   "execution_count": 112,
   "id": "50adf1d1",
   "metadata": {},
   "outputs": [
    {
     "data": {
      "text/plain": [
       "count    1998.000000\n",
       "mean       82.601151\n",
       "std         9.645999\n",
       "min        55.900000\n",
       "25%        75.700000\n",
       "50%        82.750000\n",
       "75%        89.700000\n",
       "max       100.000000\n",
       "Name: grade, dtype: float64"
      ]
     },
     "execution_count": 112,
     "metadata": {},
     "output_type": "execute_result"
    }
   ],
   "source": [
    "resume3 = FilteredDf2.grade.describe()\n",
    "resume3"
   ]
  },
  {
   "cell_type": "markdown",
   "id": "850df82f",
   "metadata": {},
   "source": [
    "##### Se aprecia muy poca diferencia. Solo el valor mínimo del valor mínimo es el que ha cambiado notablemente. Como en el método 1 el histograma fue donde se apreció el mayor contraste, se puede proceder otra vez para comparar el método 2 respecto al conjunto de datos original."
   ]
  },
  {
   "cell_type": "code",
   "execution_count": 113,
   "id": "064a2f0c",
   "metadata": {},
   "outputs": [
    {
     "data": {
      "text/plain": [
       "array([[<AxesSubplot:title={'center':'grade'}>]], dtype=object)"
      ]
     },
     "execution_count": 113,
     "metadata": {},
     "output_type": "execute_result"
    },
    {
     "data": {
      "image/png": "[encoded data removed]",
      "text/plain": [
       "<Figure size 432x288 with 1 Axes>"
      ]
     },
     "metadata": {
      "needs_background": "light"
     },
     "output_type": "display_data"
    }
   ],
   "source": [
    "df.hist('grade')"
   ]
  },
  {
   "cell_type": "code",
   "execution_count": 114,
   "id": "03b3813a",
   "metadata": {},
   "outputs": [
    {
     "data": {
      "text/plain": [
       "array([[<AxesSubplot:title={'center':'grade'}>]], dtype=object)"
      ]
     },
     "execution_count": 114,
     "metadata": {},
     "output_type": "execute_result"
    },
    {
     "data": {
      "image/png": "[encoded data removed]",
      "text/plain": [
       "<Figure size 432x288 with 1 Axes>"
      ]
     },
     "metadata": {
      "needs_background": "light"
     },
     "output_type": "display_data"
    }
   ],
   "source": [
    "FilteredDf2.hist('grade')"
   ]
  },
  {
   "cell_type": "markdown",
   "id": "b85c1f50",
   "metadata": {},
   "source": [
    "##### Si bien la diferencia entre ambos histogramas parece ser notable, parece ser menor que respecto al método 1. Sin embargo es de resaltar que para las calificaciones entre 90 y 100 no debería existir grandes diferencias en los histogramas. Para el conjunto original se tienen entre 300 y 400 personas con estas calificaciones. Mientras que en el segundo histograma pareciera que la cantidad es de 200 personas."
   ]
  },
  {
   "cell_type": "markdown",
   "id": "3cb70d05",
   "metadata": {},
   "source": [
    "##### Mientras se desconozca como elaborar un mejor diagrama, es posible por ejemplo comprobar la cantidad de alumnos con calificaciones mayores o iguales a 90."
   ]
  },
  {
   "cell_type": "code",
   "execution_count": 122,
   "id": "43b17957",
   "metadata": {},
   "outputs": [
    {
     "data": {
      "text/html": [
       "<div>\n",
       "<style scoped>\n",
       "    .dataframe tbody tr th:only-of-type {\n",
       "        vertical-align: middle;\n",
       "    }\n",
       "\n",
       "    .dataframe tbody tr th {\n",
       "        vertical-align: top;\n",
       "    }\n",
       "\n",
       "    .dataframe thead th {\n",
       "        text-align: right;\n",
       "    }\n",
       "</style>\n",
       "<table border=\"1\" class=\"dataframe\">\n",
       "  <thead>\n",
       "    <tr style=\"text-align: right;\">\n",
       "      <th></th>\n",
       "      <th>fname</th>\n",
       "      <th>lname</th>\n",
       "      <th>gender</th>\n",
       "      <th>age</th>\n",
       "      <th>exercise</th>\n",
       "      <th>hours</th>\n",
       "      <th>grade</th>\n",
       "      <th>address</th>\n",
       "    </tr>\n",
       "  </thead>\n",
       "  <tbody>\n",
       "    <tr>\n",
       "      <th>7</th>\n",
       "      <td>Armando</td>\n",
       "      <td>Hoffman</td>\n",
       "      <td>male</td>\n",
       "      <td>17.0</td>\n",
       "      <td>5.0</td>\n",
       "      <td>18.0</td>\n",
       "      <td>95.1</td>\n",
       "      <td>9 Old Tarkiln Hill Court , Council Bluffs, IA ...</td>\n",
       "    </tr>\n",
       "    <tr>\n",
       "      <th>17</th>\n",
       "      <td>Libby</td>\n",
       "      <td>Guzman</td>\n",
       "      <td>female</td>\n",
       "      <td>19.0</td>\n",
       "      <td>1.0</td>\n",
       "      <td>19.0</td>\n",
       "      <td>100.0</td>\n",
       "      <td>92 Williams Ave. , Burbank, IL 60459</td>\n",
       "    </tr>\n",
       "    <tr>\n",
       "      <th>21</th>\n",
       "      <td>Maggy</td>\n",
       "      <td>Whitfield</td>\n",
       "      <td>female</td>\n",
       "      <td>15.0</td>\n",
       "      <td>1.0</td>\n",
       "      <td>15.0</td>\n",
       "      <td>90.5</td>\n",
       "      <td>99 Sage Street , Bozeman, MT 59715</td>\n",
       "    </tr>\n",
       "    <tr>\n",
       "      <th>23</th>\n",
       "      <td>Lance</td>\n",
       "      <td>Benjamin</td>\n",
       "      <td>male</td>\n",
       "      <td>14.0</td>\n",
       "      <td>5.0</td>\n",
       "      <td>18.0</td>\n",
       "      <td>90.3</td>\n",
       "      <td>24 Cardinal St. , Trenton, NJ 08610</td>\n",
       "    </tr>\n",
       "    <tr>\n",
       "      <th>26</th>\n",
       "      <td>Solomon</td>\n",
       "      <td>Mcpherson</td>\n",
       "      <td>male</td>\n",
       "      <td>15.0</td>\n",
       "      <td>5.0</td>\n",
       "      <td>18.0</td>\n",
       "      <td>94.5</td>\n",
       "      <td>Groton, CT 06340, 711 Ashley Dr.</td>\n",
       "    </tr>\n",
       "    <tr>\n",
       "      <th>...</th>\n",
       "      <td>...</td>\n",
       "      <td>...</td>\n",
       "      <td>...</td>\n",
       "      <td>...</td>\n",
       "      <td>...</td>\n",
       "      <td>...</td>\n",
       "      <td>...</td>\n",
       "      <td>...</td>\n",
       "    </tr>\n",
       "    <tr>\n",
       "      <th>1981</th>\n",
       "      <td>Leah</td>\n",
       "      <td>Lawrence</td>\n",
       "      <td>female</td>\n",
       "      <td>15.0</td>\n",
       "      <td>5.0</td>\n",
       "      <td>15.0</td>\n",
       "      <td>100.0</td>\n",
       "      <td>677 Branch St. , Homestead, FL 33030</td>\n",
       "    </tr>\n",
       "    <tr>\n",
       "      <th>1983</th>\n",
       "      <td>Anthony</td>\n",
       "      <td>Palmer</td>\n",
       "      <td>male</td>\n",
       "      <td>14.0</td>\n",
       "      <td>1.0</td>\n",
       "      <td>14.0</td>\n",
       "      <td>93.1</td>\n",
       "      <td>Durham, NC 27703, 529 Cobblestone Ave.</td>\n",
       "    </tr>\n",
       "    <tr>\n",
       "      <th>1986</th>\n",
       "      <td>Indigo</td>\n",
       "      <td>Mccoy</td>\n",
       "      <td>female</td>\n",
       "      <td>19.0</td>\n",
       "      <td>2.0</td>\n",
       "      <td>14.0</td>\n",
       "      <td>91.3</td>\n",
       "      <td>9923 Maiden Street , Aberdeen, SD 57401</td>\n",
       "    </tr>\n",
       "    <tr>\n",
       "      <th>1989</th>\n",
       "      <td>John</td>\n",
       "      <td>Ford</td>\n",
       "      <td>male</td>\n",
       "      <td>14.0</td>\n",
       "      <td>2.0</td>\n",
       "      <td>14.0</td>\n",
       "      <td>91.2</td>\n",
       "      <td>9793 Beaver Ridge Street , Hernando, MS 38632</td>\n",
       "    </tr>\n",
       "    <tr>\n",
       "      <th>1996</th>\n",
       "      <td>Geraldine</td>\n",
       "      <td>Peterson</td>\n",
       "      <td>female</td>\n",
       "      <td>16.0</td>\n",
       "      <td>4.0</td>\n",
       "      <td>18.0</td>\n",
       "      <td>100.0</td>\n",
       "      <td>Lynn, MA 01902, 66 Bridge Drive</td>\n",
       "    </tr>\n",
       "  </tbody>\n",
       "</table>\n",
       "<p>478 rows × 8 columns</p>\n",
       "</div>"
      ],
      "text/plain": [
       "          fname      lname  gender   age  exercise  hours  grade  \\\n",
       "7       Armando    Hoffman    male  17.0       5.0   18.0   95.1   \n",
       "17        Libby     Guzman  female  19.0       1.0   19.0  100.0   \n",
       "21        Maggy  Whitfield  female  15.0       1.0   15.0   90.5   \n",
       "23        Lance   Benjamin    male  14.0       5.0   18.0   90.3   \n",
       "26      Solomon  Mcpherson    male  15.0       5.0   18.0   94.5   \n",
       "...         ...        ...     ...   ...       ...    ...    ...   \n",
       "1981       Leah   Lawrence  female  15.0       5.0   15.0  100.0   \n",
       "1983    Anthony     Palmer    male  14.0       1.0   14.0   93.1   \n",
       "1986     Indigo      Mccoy  female  19.0       2.0   14.0   91.3   \n",
       "1989       John       Ford    male  14.0       2.0   14.0   91.2   \n",
       "1996  Geraldine   Peterson  female  16.0       4.0   18.0  100.0   \n",
       "\n",
       "                                                address  \n",
       "7     9 Old Tarkiln Hill Court , Council Bluffs, IA ...  \n",
       "17                 92 Williams Ave. , Burbank, IL 60459  \n",
       "21                   99 Sage Street , Bozeman, MT 59715  \n",
       "23                  24 Cardinal St. , Trenton, NJ 08610  \n",
       "26                    Groton, CT 06340, 711 Ashley Dr.   \n",
       "...                                                 ...  \n",
       "1981               677 Branch St. , Homestead, FL 33030  \n",
       "1983            Durham, NC 27703, 529 Cobblestone Ave.   \n",
       "1986            9923 Maiden Street , Aberdeen, SD 57401  \n",
       "1989      9793 Beaver Ridge Street , Hernando, MS 38632  \n",
       "1996                   Lynn, MA 01902, 66 Bridge Drive   \n",
       "\n",
       "[478 rows x 8 columns]"
      ]
     },
     "execution_count": 122,
     "metadata": {},
     "output_type": "execute_result"
    }
   ],
   "source": [
    "df[df.grade >= 90]"
   ]
  },
  {
   "cell_type": "code",
   "execution_count": 121,
   "id": "9dff171b",
   "metadata": {},
   "outputs": [
    {
     "data": {
      "text/html": [
       "<div>\n",
       "<style scoped>\n",
       "    .dataframe tbody tr th:only-of-type {\n",
       "        vertical-align: middle;\n",
       "    }\n",
       "\n",
       "    .dataframe tbody tr th {\n",
       "        vertical-align: top;\n",
       "    }\n",
       "\n",
       "    .dataframe thead th {\n",
       "        text-align: right;\n",
       "    }\n",
       "</style>\n",
       "<table border=\"1\" class=\"dataframe\">\n",
       "  <thead>\n",
       "    <tr style=\"text-align: right;\">\n",
       "      <th></th>\n",
       "      <th>fname</th>\n",
       "      <th>lname</th>\n",
       "      <th>gender</th>\n",
       "      <th>age</th>\n",
       "      <th>exercise</th>\n",
       "      <th>hours</th>\n",
       "      <th>grade</th>\n",
       "      <th>address</th>\n",
       "    </tr>\n",
       "  </thead>\n",
       "  <tbody>\n",
       "    <tr>\n",
       "      <th>7</th>\n",
       "      <td>Armando</td>\n",
       "      <td>Hoffman</td>\n",
       "      <td>male</td>\n",
       "      <td>17.0</td>\n",
       "      <td>5.0</td>\n",
       "      <td>18.0</td>\n",
       "      <td>95.1</td>\n",
       "      <td>9 Old Tarkiln Hill Court , Council Bluffs, IA ...</td>\n",
       "    </tr>\n",
       "    <tr>\n",
       "      <th>17</th>\n",
       "      <td>Libby</td>\n",
       "      <td>Guzman</td>\n",
       "      <td>female</td>\n",
       "      <td>19.0</td>\n",
       "      <td>1.0</td>\n",
       "      <td>19.0</td>\n",
       "      <td>100.0</td>\n",
       "      <td>92 Williams Ave. , Burbank, IL 60459</td>\n",
       "    </tr>\n",
       "    <tr>\n",
       "      <th>21</th>\n",
       "      <td>Maggy</td>\n",
       "      <td>Whitfield</td>\n",
       "      <td>female</td>\n",
       "      <td>15.0</td>\n",
       "      <td>1.0</td>\n",
       "      <td>15.0</td>\n",
       "      <td>90.5</td>\n",
       "      <td>99 Sage Street , Bozeman, MT 59715</td>\n",
       "    </tr>\n",
       "    <tr>\n",
       "      <th>23</th>\n",
       "      <td>Lance</td>\n",
       "      <td>Benjamin</td>\n",
       "      <td>male</td>\n",
       "      <td>14.0</td>\n",
       "      <td>5.0</td>\n",
       "      <td>18.0</td>\n",
       "      <td>90.3</td>\n",
       "      <td>24 Cardinal St. , Trenton, NJ 08610</td>\n",
       "    </tr>\n",
       "    <tr>\n",
       "      <th>26</th>\n",
       "      <td>Solomon</td>\n",
       "      <td>Mcpherson</td>\n",
       "      <td>male</td>\n",
       "      <td>15.0</td>\n",
       "      <td>5.0</td>\n",
       "      <td>18.0</td>\n",
       "      <td>94.5</td>\n",
       "      <td>Groton, CT 06340, 711 Ashley Dr.</td>\n",
       "    </tr>\n",
       "    <tr>\n",
       "      <th>...</th>\n",
       "      <td>...</td>\n",
       "      <td>...</td>\n",
       "      <td>...</td>\n",
       "      <td>...</td>\n",
       "      <td>...</td>\n",
       "      <td>...</td>\n",
       "      <td>...</td>\n",
       "      <td>...</td>\n",
       "    </tr>\n",
       "    <tr>\n",
       "      <th>1981</th>\n",
       "      <td>Leah</td>\n",
       "      <td>Lawrence</td>\n",
       "      <td>female</td>\n",
       "      <td>15.0</td>\n",
       "      <td>5.0</td>\n",
       "      <td>15.0</td>\n",
       "      <td>100.0</td>\n",
       "      <td>677 Branch St. , Homestead, FL 33030</td>\n",
       "    </tr>\n",
       "    <tr>\n",
       "      <th>1983</th>\n",
       "      <td>Anthony</td>\n",
       "      <td>Palmer</td>\n",
       "      <td>male</td>\n",
       "      <td>14.0</td>\n",
       "      <td>1.0</td>\n",
       "      <td>14.0</td>\n",
       "      <td>93.1</td>\n",
       "      <td>Durham, NC 27703, 529 Cobblestone Ave.</td>\n",
       "    </tr>\n",
       "    <tr>\n",
       "      <th>1986</th>\n",
       "      <td>Indigo</td>\n",
       "      <td>Mccoy</td>\n",
       "      <td>female</td>\n",
       "      <td>19.0</td>\n",
       "      <td>2.0</td>\n",
       "      <td>14.0</td>\n",
       "      <td>91.3</td>\n",
       "      <td>9923 Maiden Street , Aberdeen, SD 57401</td>\n",
       "    </tr>\n",
       "    <tr>\n",
       "      <th>1989</th>\n",
       "      <td>John</td>\n",
       "      <td>Ford</td>\n",
       "      <td>male</td>\n",
       "      <td>14.0</td>\n",
       "      <td>2.0</td>\n",
       "      <td>14.0</td>\n",
       "      <td>91.2</td>\n",
       "      <td>9793 Beaver Ridge Street , Hernando, MS 38632</td>\n",
       "    </tr>\n",
       "    <tr>\n",
       "      <th>1996</th>\n",
       "      <td>Geraldine</td>\n",
       "      <td>Peterson</td>\n",
       "      <td>female</td>\n",
       "      <td>16.0</td>\n",
       "      <td>4.0</td>\n",
       "      <td>18.0</td>\n",
       "      <td>100.0</td>\n",
       "      <td>Lynn, MA 01902, 66 Bridge Drive</td>\n",
       "    </tr>\n",
       "  </tbody>\n",
       "</table>\n",
       "<p>478 rows × 8 columns</p>\n",
       "</div>"
      ],
      "text/plain": [
       "          fname      lname  gender   age  exercise  hours  grade  \\\n",
       "7       Armando    Hoffman    male  17.0       5.0   18.0   95.1   \n",
       "17        Libby     Guzman  female  19.0       1.0   19.0  100.0   \n",
       "21        Maggy  Whitfield  female  15.0       1.0   15.0   90.5   \n",
       "23        Lance   Benjamin    male  14.0       5.0   18.0   90.3   \n",
       "26      Solomon  Mcpherson    male  15.0       5.0   18.0   94.5   \n",
       "...         ...        ...     ...   ...       ...    ...    ...   \n",
       "1981       Leah   Lawrence  female  15.0       5.0   15.0  100.0   \n",
       "1983    Anthony     Palmer    male  14.0       1.0   14.0   93.1   \n",
       "1986     Indigo      Mccoy  female  19.0       2.0   14.0   91.3   \n",
       "1989       John       Ford    male  14.0       2.0   14.0   91.2   \n",
       "1996  Geraldine   Peterson  female  16.0       4.0   18.0  100.0   \n",
       "\n",
       "                                                address  \n",
       "7     9 Old Tarkiln Hill Court , Council Bluffs, IA ...  \n",
       "17                 92 Williams Ave. , Burbank, IL 60459  \n",
       "21                   99 Sage Street , Bozeman, MT 59715  \n",
       "23                  24 Cardinal St. , Trenton, NJ 08610  \n",
       "26                    Groton, CT 06340, 711 Ashley Dr.   \n",
       "...                                                 ...  \n",
       "1981               677 Branch St. , Homestead, FL 33030  \n",
       "1983            Durham, NC 27703, 529 Cobblestone Ave.   \n",
       "1986            9923 Maiden Street , Aberdeen, SD 57401  \n",
       "1989      9793 Beaver Ridge Street , Hernando, MS 38632  \n",
       "1996                   Lynn, MA 01902, 66 Bridge Drive   \n",
       "\n",
       "[478 rows x 8 columns]"
      ]
     },
     "execution_count": 121,
     "metadata": {},
     "output_type": "execute_result"
    }
   ],
   "source": [
    "FilteredDf2[FilteredDf2.grade >= 90]"
   ]
  },
  {
   "cell_type": "markdown",
   "id": "87e71223",
   "metadata": {},
   "source": [
    "##### Con esto se muestra que se deben de tener varias consideraciones y pruebas para detectar y eliminar posibles outliers."
   ]
  },
  {
   "cell_type": "markdown",
   "id": "c86f007f",
   "metadata": {},
   "source": [
    "#### Investigando un poco los parametros de 'df.hist()' se descubre que bins (cuyo valor por default es 10) influye en la forma del grafico, como a continuacion puede apreciarse."
   ]
  },
  {
   "cell_type": "code",
   "execution_count": 151,
   "id": "b9eaad13",
   "metadata": {},
   "outputs": [
    {
     "data": {
      "text/plain": [
       "array([[<AxesSubplot:title={'center':'grade'}>]], dtype=object)"
      ]
     },
     "execution_count": 151,
     "metadata": {},
     "output_type": "execute_result"
    },
    {
     "data": {
      "image/png": "[encoded data removed]",
      "text/plain": [
       "<Figure size 432x288 with 1 Axes>"
      ]
     },
     "metadata": {
      "needs_background": "light"
     },
     "output_type": "display_data"
    }
   ],
   "source": [
    "df.hist('grade', bins=30)"
   ]
  },
  {
   "cell_type": "code",
   "execution_count": 153,
   "id": "283b905a",
   "metadata": {},
   "outputs": [
    {
     "data": {
      "text/plain": [
       "array([[<AxesSubplot:title={'center':'grade'}>]], dtype=object)"
      ]
     },
     "execution_count": 153,
     "metadata": {},
     "output_type": "execute_result"
    },
    {
     "data": {
      "image/png": "[encoded data removed]",
      "text/plain": [
       "<Figure size 432x288 with 1 Axes>"
      ]
     },
     "metadata": {
      "needs_background": "light"
     },
     "output_type": "display_data"
    }
   ],
   "source": [
    "FilteredDf2.hist('grade', bins=20)"
   ]
  },
  {
   "cell_type": "markdown",
   "id": "e202cdcb",
   "metadata": {},
   "source": [
    "#### Con los dos anteriores histogramas, es posible apreciar una mayor similitud en las formas de las distribuciones. De manera que los valores de las alturas entre por ejemplo [80,90], [90,100] son ahora mas similares debido a los valores de bins."
   ]
  },
  {
   "cell_type": "markdown",
   "id": "9feeef60",
   "metadata": {},
   "source": [
    "#### De acuerdo con Nelli (2018): \"Un histograma consta de rectángulos adyacentes erigidos en el eje x, divididos en intervalos discretos llamados bins, y con un área proporcional a la frecuencia de las ocurrencias de ese bin. Este tipo de visualización se usa comúnmente en estudios estadísticos sobre distribución de muestras.\". Nelli, F. (2018). Python Data Analytics: With Pandas, Numpy and Matplotlib. 2nd Ed. Rome, Italy: Apress."
   ]
  },
  {
   "cell_type": "markdown",
   "id": "1f7fb0e5",
   "metadata": {},
   "source": [
    "#### Entonces, si el numero de bins es reducido, \"la resolucion sera baja\" pare el numero de la frecuencia (eje 'Y'). Similarmente  si el numero de bins es alto, \"la resolucion puede ser muy alta\" dificultando apreciar la frecuencia debido a la gran cantidad de numeros (similar a una funcion sobreajustada)."
   ]
  },
  {
   "cell_type": "markdown",
   "id": "b22d640b",
   "metadata": {},
   "source": [
    "#### \"....el argumento bins controla el número de histogramas que se muestran dentro de la población. Cuanto mayor sea el valor (de bins), más histogramas. Aunque, a veces, un valor más alto puede hacer que los datos sean menos obvios de leer, por lo que es importante encontrar un equilibrio\" (Williams, 2019). Williams, E. (2019). Python for Data Science: The ultimate beginners' guide to learning python data science step by step. Independently Published."
   ]
  },
  {
   "cell_type": "markdown",
   "id": "75858cc2",
   "metadata": {},
   "source": [
    "#### Rajagopalan (2021) comenta que Matplotlib forma la columna vertebral de la mayoría de las visualizaciones que se realizan con Python. Adicionalmente indica que existen dos interfaces en Matplotlib, \"con estado\" y \"orientada a objetos\", y brinda una tabla de ejemplos de ambas. A partir de esta informacion fue posible crear el siguiente histograma. Rajagopalan, G. (2021). A Python Data Analyst’s Toolkit: Learn Python and Python-based Libraries with Applications in Data Analysis and Statistics. Apress."
   ]
  },
  {
   "cell_type": "code",
   "execution_count": 158,
   "id": "e15e8228",
   "metadata": {},
   "outputs": [
    {
     "data": {
      "text/plain": [
       "Text(0, 0.5, 'Frecuencia en numero de alumnos')"
      ]
     },
     "execution_count": 158,
     "metadata": {},
     "output_type": "execute_result"
    },
    {
     "data": {
      "image/png": "[encoded data removed]",
      "text/plain": [
       "<Figure size 432x288 with 1 Axes>"
      ]
     },
     "metadata": {
      "needs_background": "light"
     },
     "output_type": "display_data"
    }
   ],
   "source": [
    "FilteredDf2['grade'].plot.hist(bins=20)\n",
    "plt.grid(axis='both')\n",
    "plt.title('Histograma de Frecuencias de calificaciones de alumnos')\n",
    "plt.xlabel('Calificaciones de alumnos')\n",
    "plt.ylabel('Frecuencia en numero de alumnos')"
   ]
  },
  {
   "cell_type": "markdown",
   "id": "52425768",
   "metadata": {},
   "source": [
    "#### Investigando un poco mas en internet sobre el parametro bins, en https://www.geeksforgeeks.org/bin-size-in-matplotlib-histogram/ se descubren otras formas de crear histogramas"
   ]
  },
  {
   "cell_type": "code",
   "execution_count": 168,
   "id": "762893c9",
   "metadata": {},
   "outputs": [
    {
     "data": {
      "text/plain": [
       "array([[<AxesSubplot:title={'center':'grade'}>]], dtype=object)"
      ]
     },
     "execution_count": 168,
     "metadata": {},
     "output_type": "execute_result"
    },
    {
     "data": {
      "image/png": "[encoded data removed]",
      "text/plain": [
       "<Figure size 432x288 with 1 Axes>"
      ]
     },
     "metadata": {
      "needs_background": "light"
     },
     "output_type": "display_data"
    }
   ],
   "source": [
    "binwidth = 5\n",
    "df.hist('grade', bins=range(int(df.grade.min()), int(df.grade.max()) + binwidth, binwidth),\n",
    "         edgecolor=\"yellow\", color=\"brown\")"
   ]
  },
  {
   "cell_type": "code",
   "execution_count": 172,
   "id": "71955e6e",
   "metadata": {},
   "outputs": [
    {
     "data": {
      "text/plain": [
       "array([[<AxesSubplot:title={'center':'grade'}>]], dtype=object)"
      ]
     },
     "execution_count": 172,
     "metadata": {},
     "output_type": "execute_result"
    },
    {
     "data": {
      "image/png": "[encoded data removed]",
      "text/plain": [
       "<Figure size 432x288 with 1 Axes>"
      ]
     },
     "metadata": {
      "needs_background": "light"
     },
     "output_type": "display_data"
    }
   ],
   "source": [
    "binwidth = 3\n",
    "FilteredDf2.hist('grade', bins=range(int(FilteredDf2.grade.min()), int(FilteredDf2.grade.max())+ binwidth, binwidth),\n",
    "         edgecolor=\"yellow\", color=\"brown\")"
   ]
  },
  {
   "cell_type": "markdown",
   "id": "e143bdfb",
   "metadata": {},
   "source": [
    "#### De acuerdo con https://www.geeksforgeeks.org/bin-size-in-matplotlib-histogram/  , también se puede  usar la función de rango para bins igualmente distribuidos. Dentro de range (), el punto de partida es el mínimo de datos, el punto final es el máximo de datos + el ancho del bins indicado... Como el paso está fijo en range (), obtenemos bins del mismo tamaño en el histograma."
   ]
  },
  {
   "cell_type": "markdown",
   "id": "9a70accb",
   "metadata": {},
   "source": [
    "#### De estas dos ultimas formas, es tambien necesario \"graduar el ancho de las columnas\" (variable bindwidth) para encontrar el equilibrio donde la visualizacion de los datos sea de utilidad."
   ]
  },
  {
   "cell_type": "markdown",
   "id": "7b5ccaf3",
   "metadata": {},
   "source": [
    "### No obstante que para el segundo metodo se realizaron mucho mas visualizaciones de datos, este metodo de busqueda y eliminacion de outliers parece mas conveniente que el primero. Lo anterio debido a que por una parte se eliminaron solo los outliers mas potenciales (2 registros), y por otro lado a que no se asumió tener una distribución normal.  Adicionalmente una calificación por debajo de 50 posiblmente no debería ser registrada y considerarse más como un error que una calificacion reprobatoria."
   ]
  },
  {
   "cell_type": "code",
   "execution_count": 126,
   "id": "d56f170b",
   "metadata": {},
   "outputs": [],
   "source": [
    "#Para ejecutar todas las celdas anteriores un tanto similar a '#%%' en scripts .py"
   ]
  },
  {
   "cell_type": "code",
   "execution_count": 50,
   "id": "560e7bef",
   "metadata": {},
   "outputs": [
    {
     "data": {
      "application/javascript": [
       "IPython.notebook.execute_cells_above()"
      ],
      "text/plain": [
       "<IPython.core.display.Javascript object>"
      ]
     },
     "metadata": {},
     "output_type": "display_data"
    },
    {
     "data": {
      "application/javascript": [
       "IPython.notebook.execute_cells_above()"
      ],
      "text/plain": [
       "<IPython.core.display.Javascript object>"
      ]
     },
     "metadata": {},
     "output_type": "display_data"
    }
   ],
   "source": [
    "from IPython.display import Javascript #ejecuta todas las celdas por arriba de la presente\n",
    "display(Javascript('IPython.notebook.execute_cells_above()'))"
   ]
  },
  {
   "cell_type": "markdown",
   "id": "94b80463",
   "metadata": {},
   "source": [
    "<A name='MissingData'> </A> <h2>MISSING DATA IN PANDAS DATAFRAMES </h2>"
   ]
  },
  {
   "cell_type": "markdown",
   "id": "48cd0175",
   "metadata": {},
   "source": [
    "<div class=\"alert alert-block alert-info\" style=\"margin-top: 20px\">\n",
    "    <ul>\n",
    "        <li><a href=\"#TablaContenidos\">Regresar a Tabla de Contenidos</a></li>\n",
    "    </ul>\n",
    "</div>"
   ]
  },
  {
   "cell_type": "markdown",
   "id": "bc59f4e3",
   "metadata": {},
   "source": [
    "<A name='FindingMissingData'> </A> <h3> 2.Finding missing data.</h3>"
   ]
  },
  {
   "cell_type": "markdown",
   "id": "a8549aa3",
   "metadata": {},
   "source": [
    "#### axis=0 are panda rows, axis=1 columns"
   ]
  },
  {
   "cell_type": "markdown",
   "id": "adc68b2b",
   "metadata": {},
   "source": [
    "#### To display rows with at least one True per row or missing data.This can done using \"any axis=1\" , then filter with boolean indexing \"df.isnull\""
   ]
  },
  {
   "cell_type": "code",
   "execution_count": 2395,
   "id": "3f1a9ad7",
   "metadata": {},
   "outputs": [
    {
     "data": {
      "text/html": [
       "<div>\n",
       "<style scoped>\n",
       "    .dataframe tbody tr th:only-of-type {\n",
       "        vertical-align: middle;\n",
       "    }\n",
       "\n",
       "    .dataframe tbody tr th {\n",
       "        vertical-align: top;\n",
       "    }\n",
       "\n",
       "    .dataframe thead th {\n",
       "        text-align: right;\n",
       "    }\n",
       "</style>\n",
       "<table border=\"1\" class=\"dataframe\">\n",
       "  <thead>\n",
       "    <tr style=\"text-align: right;\">\n",
       "      <th></th>\n",
       "      <th>fname</th>\n",
       "      <th>lname</th>\n",
       "      <th>gender</th>\n",
       "      <th>age</th>\n",
       "      <th>exercise</th>\n",
       "      <th>hours</th>\n",
       "      <th>grade</th>\n",
       "      <th>address</th>\n",
       "    </tr>\n",
       "  </thead>\n",
       "  <tbody>\n",
       "  </tbody>\n",
       "</table>\n",
       "</div>"
      ],
      "text/plain": [
       "Empty DataFrame\n",
       "Columns: [fname, lname, gender, age, exercise, hours, grade, address]\n",
       "Index: []"
      ]
     },
     "execution_count": 2395,
     "metadata": {},
     "output_type": "execute_result"
    }
   ],
   "source": [
    "null_data = df[df.isnull().any(axis=1)]\n",
    "null_data"
   ]
  },
  {
   "cell_type": "markdown",
   "id": "498206cd",
   "metadata": {},
   "source": [
    "##### Parece no existir renglones con valores nulos o vacios"
   ]
  },
  {
   "cell_type": "markdown",
   "id": "1ffce78c",
   "metadata": {},
   "source": [
    "#### De forma complementaria al resultado anterior, para mostrar el numero de renglones con un campo faltante en cualquiera de las columnas"
   ]
  },
  {
   "cell_type": "code",
   "execution_count": 2396,
   "id": "2d044f1d",
   "metadata": {},
   "outputs": [
    {
     "data": {
      "text/plain": [
       "fname       0\n",
       "lname       0\n",
       "gender      0\n",
       "age         0\n",
       "exercise    0\n",
       "hours       0\n",
       "grade       0\n",
       "address     0\n",
       "dtype: int64"
      ]
     },
     "execution_count": 2396,
     "metadata": {},
     "output_type": "execute_result"
    }
   ],
   "source": [
    "null_data.count()"
   ]
  },
  {
   "cell_type": "markdown",
   "id": "07a4a6d7",
   "metadata": {},
   "source": [
    "### En Henley & Wolf (2018) se ejemplifican ejercicios de datos faltantes con otro conjunto de datos (gradedatamissing.csv). Sin embargo este conjunto de datos no se encuentra en la url especificada por Henley & Wolf (2018). Afortunadamente \"gradedatamissing.csv\" se encuentra en: https://github.com/SpiderWeb13/DataAnalyticsBootcampMC_Dec2018. En este URL tambien se encuentran otros conjuntos de datos utilizados en este libro de (Henley & Wolf , 2018), así como buena parte del codigo de ejercicios de este libro."
   ]
  },
  {
   "cell_type": "markdown",
   "id": "fe4b6627",
   "metadata": {},
   "source": [
    "#### Para ejemplificar los resultados de datos faltantes se utilizara el conjunto de datos \"gradedatamissing.csv\""
   ]
  },
  {
   "cell_type": "markdown",
   "id": "0c892af7",
   "metadata": {},
   "source": [
    "##### otra vez creamos una variable que apunta a una ruta absoluta en formato de  windows "
   ]
  },
  {
   "cell_type": "code",
   "execution_count": 3,
   "id": "a59132da",
   "metadata": {},
   "outputs": [],
   "source": [
    "data_folder = Path('C:/Users/conza/Henley/datasets')"
   ]
  },
  {
   "cell_type": "markdown",
   "id": "c0d30b9a",
   "metadata": {},
   "source": [
    "##### y procedemos a crear otra variable que indica el archivo a ser abierto"
   ]
  },
  {
   "cell_type": "code",
   "execution_count": 4,
   "id": "2d0cd727",
   "metadata": {},
   "outputs": [],
   "source": [
    "file_to_open = data_folder / \"gradedatamissing.csv\" "
   ]
  },
  {
   "cell_type": "markdown",
   "id": "7d2f68f5",
   "metadata": {},
   "source": [
    "##### tenemos así el panda dataframe que contiene algunos renglones con datos faltantes para alguna de las variables o campos o columnas"
   ]
  },
  {
   "cell_type": "code",
   "execution_count": 18,
   "id": "4135eeea",
   "metadata": {},
   "outputs": [],
   "source": [
    "df_missing_gds = pd.read_csv(file_to_open)"
   ]
  },
  {
   "cell_type": "code",
   "execution_count": 6,
   "id": "c4163d4e",
   "metadata": {},
   "outputs": [
    {
     "data": {
      "text/html": [
       "<div>\n",
       "<style scoped>\n",
       "    .dataframe tbody tr th:only-of-type {\n",
       "        vertical-align: middle;\n",
       "    }\n",
       "\n",
       "    .dataframe tbody tr th {\n",
       "        vertical-align: top;\n",
       "    }\n",
       "\n",
       "    .dataframe thead th {\n",
       "        text-align: right;\n",
       "    }\n",
       "</style>\n",
       "<table border=\"1\" class=\"dataframe\">\n",
       "  <thead>\n",
       "    <tr style=\"text-align: right;\">\n",
       "      <th></th>\n",
       "      <th>fname</th>\n",
       "      <th>lname</th>\n",
       "      <th>gender</th>\n",
       "      <th>age</th>\n",
       "      <th>exercise</th>\n",
       "      <th>hours</th>\n",
       "      <th>grade</th>\n",
       "      <th>address</th>\n",
       "    </tr>\n",
       "  </thead>\n",
       "  <tbody>\n",
       "    <tr>\n",
       "      <th>0</th>\n",
       "      <td>Marcia</td>\n",
       "      <td>Pugh</td>\n",
       "      <td>female</td>\n",
       "      <td>17.0</td>\n",
       "      <td>3.0</td>\n",
       "      <td>10.0</td>\n",
       "      <td>82.4</td>\n",
       "      <td>9253 Richardson Road, Matawan, NJ 07747</td>\n",
       "    </tr>\n",
       "    <tr>\n",
       "      <th>1</th>\n",
       "      <td>Kadeem</td>\n",
       "      <td>Morrison</td>\n",
       "      <td>male</td>\n",
       "      <td>18.0</td>\n",
       "      <td>4.0</td>\n",
       "      <td>4.0</td>\n",
       "      <td>78.2</td>\n",
       "      <td>33 Spring Dr., Taunton, MA 02780</td>\n",
       "    </tr>\n",
       "    <tr>\n",
       "      <th>2</th>\n",
       "      <td>Nash</td>\n",
       "      <td>Powell</td>\n",
       "      <td>male</td>\n",
       "      <td>18.0</td>\n",
       "      <td>5.0</td>\n",
       "      <td>9.0</td>\n",
       "      <td>79.3</td>\n",
       "      <td>41 Hill Avenue, Mentor, OH 44060</td>\n",
       "    </tr>\n",
       "    <tr>\n",
       "      <th>3</th>\n",
       "      <td>Noelani</td>\n",
       "      <td>Wagner</td>\n",
       "      <td>female</td>\n",
       "      <td>14.0</td>\n",
       "      <td>2.0</td>\n",
       "      <td>7.0</td>\n",
       "      <td>83.2</td>\n",
       "      <td>8839 Marshall St., Miami, FL 33125</td>\n",
       "    </tr>\n",
       "    <tr>\n",
       "      <th>4</th>\n",
       "      <td>Noelani</td>\n",
       "      <td>Cherry</td>\n",
       "      <td>female</td>\n",
       "      <td>18.0</td>\n",
       "      <td>4.0</td>\n",
       "      <td>15.0</td>\n",
       "      <td>87.4</td>\n",
       "      <td>8304 Charles Rd., Lewis Center, OH 43035</td>\n",
       "    </tr>\n",
       "  </tbody>\n",
       "</table>\n",
       "</div>"
      ],
      "text/plain": [
       "     fname     lname  gender   age  exercise  hours  grade  \\\n",
       "0   Marcia      Pugh  female  17.0       3.0   10.0   82.4   \n",
       "1   Kadeem  Morrison    male  18.0       4.0    4.0   78.2   \n",
       "2     Nash    Powell    male  18.0       5.0    9.0   79.3   \n",
       "3  Noelani    Wagner  female  14.0       2.0    7.0   83.2   \n",
       "4  Noelani    Cherry  female  18.0       4.0   15.0   87.4   \n",
       "\n",
       "                                    address  \n",
       "0   9253 Richardson Road, Matawan, NJ 07747  \n",
       "1          33 Spring Dr., Taunton, MA 02780  \n",
       "2          41 Hill Avenue, Mentor, OH 44060  \n",
       "3        8839 Marshall St., Miami, FL 33125  \n",
       "4  8304 Charles Rd., Lewis Center, OH 43035  "
      ]
     },
     "execution_count": 6,
     "metadata": {},
     "output_type": "execute_result"
    }
   ],
   "source": [
    "df_missing_gds.head()"
   ]
  },
  {
   "cell_type": "markdown",
   "id": "367a4768",
   "metadata": {},
   "source": [
    "#### muestra renglones con por lo menos un dato faltante (NaN). Se cre un df para contener los registros con algun dato faltante"
   ]
  },
  {
   "cell_type": "code",
   "execution_count": 19,
   "id": "d682973b",
   "metadata": {},
   "outputs": [
    {
     "data": {
      "text/html": [
       "<div>\n",
       "<style scoped>\n",
       "    .dataframe tbody tr th:only-of-type {\n",
       "        vertical-align: middle;\n",
       "    }\n",
       "\n",
       "    .dataframe tbody tr th {\n",
       "        vertical-align: top;\n",
       "    }\n",
       "\n",
       "    .dataframe thead th {\n",
       "        text-align: right;\n",
       "    }\n",
       "</style>\n",
       "<table border=\"1\" class=\"dataframe\">\n",
       "  <thead>\n",
       "    <tr style=\"text-align: right;\">\n",
       "      <th></th>\n",
       "      <th>fname</th>\n",
       "      <th>lname</th>\n",
       "      <th>gender</th>\n",
       "      <th>age</th>\n",
       "      <th>exercise</th>\n",
       "      <th>hours</th>\n",
       "      <th>grade</th>\n",
       "      <th>address</th>\n",
       "    </tr>\n",
       "  </thead>\n",
       "  <tbody>\n",
       "    <tr>\n",
       "      <th>588</th>\n",
       "      <td>Kiona</td>\n",
       "      <td>Collier</td>\n",
       "      <td>female</td>\n",
       "      <td>14.0</td>\n",
       "      <td>4.0</td>\n",
       "      <td>NaN</td>\n",
       "      <td>84.0</td>\n",
       "      <td>827 Rockledge Rd., New Port Richey, FL 34653</td>\n",
       "    </tr>\n",
       "    <tr>\n",
       "      <th>592</th>\n",
       "      <td>Mark</td>\n",
       "      <td>Hankerson</td>\n",
       "      <td>male</td>\n",
       "      <td>16.0</td>\n",
       "      <td>NaN</td>\n",
       "      <td>17.0</td>\n",
       "      <td>92.1</td>\n",
       "      <td>3351 Hibiscus St. Miami, Fl 33133</td>\n",
       "    </tr>\n",
       "    <tr>\n",
       "      <th>599</th>\n",
       "      <td>Nasim</td>\n",
       "      <td>Fernandez</td>\n",
       "      <td>male</td>\n",
       "      <td>NaN</td>\n",
       "      <td>2.0</td>\n",
       "      <td>14.0</td>\n",
       "      <td>83.8</td>\n",
       "      <td>2 10th St., Snohomish, WA 98290</td>\n",
       "    </tr>\n",
       "    <tr>\n",
       "      <th>668</th>\n",
       "      <td>Hakeem</td>\n",
       "      <td>Dorsey</td>\n",
       "      <td>male</td>\n",
       "      <td>NaN</td>\n",
       "      <td>2.0</td>\n",
       "      <td>5.0</td>\n",
       "      <td>74.7</td>\n",
       "      <td>9761 Wagon St., Villa Rica, GA 30180</td>\n",
       "    </tr>\n",
       "    <tr>\n",
       "      <th>673</th>\n",
       "      <td>Jeremy</td>\n",
       "      <td>Rowe</td>\n",
       "      <td>male</td>\n",
       "      <td>19.0</td>\n",
       "      <td>NaN</td>\n",
       "      <td>10.0</td>\n",
       "      <td>83.4</td>\n",
       "      <td>6 Madison St., Fall River, MA 02720</td>\n",
       "    </tr>\n",
       "    <tr>\n",
       "      <th>680</th>\n",
       "      <td>Callum</td>\n",
       "      <td>Whitley</td>\n",
       "      <td>male</td>\n",
       "      <td>16.0</td>\n",
       "      <td>5.0</td>\n",
       "      <td>NaN</td>\n",
       "      <td>80.2</td>\n",
       "      <td>649 Liberty Street, Piedmont, SC 29673</td>\n",
       "    </tr>\n",
       "    <tr>\n",
       "      <th>683</th>\n",
       "      <td>Kalia</td>\n",
       "      <td>Moss</td>\n",
       "      <td>female</td>\n",
       "      <td>NaN</td>\n",
       "      <td>NaN</td>\n",
       "      <td>NaN</td>\n",
       "      <td>NaN</td>\n",
       "      <td>760 East Stillwater St., Rosedale, NY 11422</td>\n",
       "    </tr>\n",
       "    <tr>\n",
       "      <th>699</th>\n",
       "      <td>Gretchen</td>\n",
       "      <td>Haynes</td>\n",
       "      <td>female</td>\n",
       "      <td>NaN</td>\n",
       "      <td>NaN</td>\n",
       "      <td>NaN</td>\n",
       "      <td>77.2</td>\n",
       "      <td>500 Border St., New Lenox, IL 60451</td>\n",
       "    </tr>\n",
       "    <tr>\n",
       "      <th>700</th>\n",
       "      <td>Ruth</td>\n",
       "      <td>Bowman</td>\n",
       "      <td>female</td>\n",
       "      <td>NaN</td>\n",
       "      <td>NaN</td>\n",
       "      <td>NaN</td>\n",
       "      <td>100.0</td>\n",
       "      <td>8621 Shub Farm Ave., Ocean Springs, MS 39564</td>\n",
       "    </tr>\n",
       "    <tr>\n",
       "      <th>701</th>\n",
       "      <td>Eric</td>\n",
       "      <td>Walter</td>\n",
       "      <td>male</td>\n",
       "      <td>NaN</td>\n",
       "      <td>NaN</td>\n",
       "      <td>NaN</td>\n",
       "      <td>93.2</td>\n",
       "      <td>416 Glendale Ave., Green Cove Springs, FL 32043</td>\n",
       "    </tr>\n",
       "    <tr>\n",
       "      <th>884</th>\n",
       "      <td>Dara</td>\n",
       "      <td>Giles</td>\n",
       "      <td>female</td>\n",
       "      <td>15.0</td>\n",
       "      <td>NaN</td>\n",
       "      <td>17.0</td>\n",
       "      <td>88.4</td>\n",
       "      <td>164 Shore Street, Wadsworth, OH 44281</td>\n",
       "    </tr>\n",
       "    <tr>\n",
       "      <th>888</th>\n",
       "      <td>Charles</td>\n",
       "      <td>Gray</td>\n",
       "      <td>male</td>\n",
       "      <td>NaN</td>\n",
       "      <td>3.0</td>\n",
       "      <td>7.0</td>\n",
       "      <td>79.1</td>\n",
       "      <td>342 State Lane, Elkhart, IN 46514</td>\n",
       "    </tr>\n",
       "    <tr>\n",
       "      <th>893</th>\n",
       "      <td>Mufutau</td>\n",
       "      <td>Beck</td>\n",
       "      <td>male</td>\n",
       "      <td>18.0</td>\n",
       "      <td>5.0</td>\n",
       "      <td>NaN</td>\n",
       "      <td>82.9</td>\n",
       "      <td>673 Mulberry Lane, Bloomington, IN 47401</td>\n",
       "    </tr>\n",
       "    <tr>\n",
       "      <th>981</th>\n",
       "      <td>Fitzgerald</td>\n",
       "      <td>Barry</td>\n",
       "      <td>male</td>\n",
       "      <td>15.0</td>\n",
       "      <td>NaN</td>\n",
       "      <td>10.0</td>\n",
       "      <td>69.6</td>\n",
       "      <td>836 N. Miles St., Oak Park, MI 48237</td>\n",
       "    </tr>\n",
       "    <tr>\n",
       "      <th>987</th>\n",
       "      <td>Fleur</td>\n",
       "      <td>Pearson</td>\n",
       "      <td>female</td>\n",
       "      <td>14.0</td>\n",
       "      <td>3.0</td>\n",
       "      <td>NaN</td>\n",
       "      <td>84.8</td>\n",
       "      <td>8229 Glen Creek St., Hobart, IN 46342</td>\n",
       "    </tr>\n",
       "    <tr>\n",
       "      <th>990</th>\n",
       "      <td>Lydia</td>\n",
       "      <td>Benjamin</td>\n",
       "      <td>NaN</td>\n",
       "      <td>19.0</td>\n",
       "      <td>1.0</td>\n",
       "      <td>14.0</td>\n",
       "      <td>86.4</td>\n",
       "      <td>626 Griffin Ave., Greensboro, NC 27405</td>\n",
       "    </tr>\n",
       "    <tr>\n",
       "      <th>1081</th>\n",
       "      <td>Maisie</td>\n",
       "      <td>Barton</td>\n",
       "      <td>NaN</td>\n",
       "      <td>16.0</td>\n",
       "      <td>2.0</td>\n",
       "      <td>13.0</td>\n",
       "      <td>81.4</td>\n",
       "      <td>9042 East Canal St., Pensacola, FL 32503</td>\n",
       "    </tr>\n",
       "    <tr>\n",
       "      <th>1083</th>\n",
       "      <td>Garth</td>\n",
       "      <td>Battle</td>\n",
       "      <td>male</td>\n",
       "      <td>16.0</td>\n",
       "      <td>4.0</td>\n",
       "      <td>12.0</td>\n",
       "      <td>NaN</td>\n",
       "      <td>435 Cedar Street, West Orange, NJ 07052</td>\n",
       "    </tr>\n",
       "  </tbody>\n",
       "</table>\n",
       "</div>"
      ],
      "text/plain": [
       "           fname      lname  gender   age  exercise  hours  grade  \\\n",
       "588        Kiona    Collier  female  14.0       4.0    NaN   84.0   \n",
       "592         Mark  Hankerson    male  16.0       NaN   17.0   92.1   \n",
       "599        Nasim  Fernandez    male   NaN       2.0   14.0   83.8   \n",
       "668       Hakeem     Dorsey    male   NaN       2.0    5.0   74.7   \n",
       "673       Jeremy       Rowe    male  19.0       NaN   10.0   83.4   \n",
       "680       Callum    Whitley    male  16.0       5.0    NaN   80.2   \n",
       "683        Kalia       Moss  female   NaN       NaN    NaN    NaN   \n",
       "699     Gretchen     Haynes  female   NaN       NaN    NaN   77.2   \n",
       "700         Ruth     Bowman  female   NaN       NaN    NaN  100.0   \n",
       "701         Eric     Walter    male   NaN       NaN    NaN   93.2   \n",
       "884         Dara      Giles  female  15.0       NaN   17.0   88.4   \n",
       "888      Charles       Gray    male   NaN       3.0    7.0   79.1   \n",
       "893      Mufutau       Beck    male  18.0       5.0    NaN   82.9   \n",
       "981   Fitzgerald      Barry    male  15.0       NaN   10.0   69.6   \n",
       "987        Fleur    Pearson  female  14.0       3.0    NaN   84.8   \n",
       "990        Lydia   Benjamin     NaN  19.0       1.0   14.0   86.4   \n",
       "1081      Maisie     Barton     NaN  16.0       2.0   13.0   81.4   \n",
       "1083       Garth     Battle    male  16.0       4.0   12.0    NaN   \n",
       "\n",
       "                                              address  \n",
       "588      827 Rockledge Rd., New Port Richey, FL 34653  \n",
       "592                 3351 Hibiscus St. Miami, Fl 33133  \n",
       "599                   2 10th St., Snohomish, WA 98290  \n",
       "668              9761 Wagon St., Villa Rica, GA 30180  \n",
       "673               6 Madison St., Fall River, MA 02720  \n",
       "680            649 Liberty Street, Piedmont, SC 29673  \n",
       "683       760 East Stillwater St., Rosedale, NY 11422  \n",
       "699               500 Border St., New Lenox, IL 60451  \n",
       "700      8621 Shub Farm Ave., Ocean Springs, MS 39564  \n",
       "701   416 Glendale Ave., Green Cove Springs, FL 32043  \n",
       "884             164 Shore Street, Wadsworth, OH 44281  \n",
       "888                 342 State Lane, Elkhart, IN 46514  \n",
       "893          673 Mulberry Lane, Bloomington, IN 47401  \n",
       "981              836 N. Miles St., Oak Park, MI 48237  \n",
       "987             8229 Glen Creek St., Hobart, IN 46342  \n",
       "990            626 Griffin Ave., Greensboro, NC 27405  \n",
       "1081         9042 East Canal St., Pensacola, FL 32503  \n",
       "1083          435 Cedar Street, West Orange, NJ 07052  "
      ]
     },
     "execution_count": 19,
     "metadata": {},
     "output_type": "execute_result"
    }
   ],
   "source": [
    "null_data_df_missing_gds = df_missing_gds[df_missing_gds.isnull().any(axis=1)]\n",
    "null_data_df_missing_gds"
   ]
  },
  {
   "cell_type": "code",
   "execution_count": 80,
   "id": "d6e8b42e",
   "metadata": {},
   "outputs": [],
   "source": [
    "#cantidad de registros con algun dato faltante (NaN)"
   ]
  },
  {
   "cell_type": "code",
   "execution_count": 20,
   "id": "afd5c5e2",
   "metadata": {},
   "outputs": [
    {
     "data": {
      "text/plain": [
       "18"
      ]
     },
     "execution_count": 20,
     "metadata": {},
     "output_type": "execute_result"
    }
   ],
   "source": [
    "len(null_data_df_missing_gds[null_data_df_missing_gds.isnull().any(axis=1)]) "
   ]
  },
  {
   "cell_type": "code",
   "execution_count": 21,
   "id": "611cf910",
   "metadata": {},
   "outputs": [
    {
     "data": {
      "text/plain": [
       "fname       18\n",
       "lname       18\n",
       "gender      16\n",
       "age         11\n",
       "exercise    10\n",
       "hours       10\n",
       "grade       16\n",
       "address     18\n",
       "dtype: int64"
      ]
     },
     "execution_count": 21,
     "metadata": {},
     "output_type": "execute_result"
    }
   ],
   "source": [
    "null_data_df_missing_gds.count() #muestra la cantidad de campos con datos faltantes (18-x)"
   ]
  },
  {
   "cell_type": "markdown",
   "id": "b320c2e8",
   "metadata": {},
   "source": [
    "#### Existen 18 renglones con algun dato faltante. De ellos las columnas donde faltan los valores es la diferencia 18 -x. Por ejemplo para \"gender\" faltan 18-16=2. Es decir hay 2 renglones donde falta el dato de gender"
   ]
  },
  {
   "cell_type": "markdown",
   "id": "5f6921b7",
   "metadata": {},
   "source": [
    "#### Otra forma mas directa de conocer los campos o columnas donde faltan datos es:"
   ]
  },
  {
   "cell_type": "code",
   "execution_count": 22,
   "id": "d45e2adc",
   "metadata": {},
   "outputs": [
    {
     "data": {
      "text/plain": [
       "fname       0\n",
       "lname       0\n",
       "gender      2\n",
       "age         7\n",
       "exercise    8\n",
       "hours       8\n",
       "grade       2\n",
       "address     0\n",
       "dtype: int64"
      ]
     },
     "execution_count": 22,
     "metadata": {},
     "output_type": "execute_result"
    }
   ],
   "source": [
    "null_data_df_missing_gds.isnull().sum() #muestra la cantidad de campos con datos faltantes"
   ]
  },
  {
   "cell_type": "markdown",
   "id": "74aef2fa",
   "metadata": {},
   "source": [
    "##### Para visualizar renglones especificos donde falten datos"
   ]
  },
  {
   "cell_type": "code",
   "execution_count": 23,
   "id": "82fdfb90",
   "metadata": {},
   "outputs": [],
   "source": [
    "missing_gender = null_data_df_missing_gds['gender'].isnull()"
   ]
  },
  {
   "cell_type": "code",
   "execution_count": 14,
   "id": "2d74cce3",
   "metadata": {},
   "outputs": [],
   "source": [
    "#missing_gender almacena el numero o indice de los registros que cumplen la condicion (True)"
   ]
  },
  {
   "cell_type": "code",
   "execution_count": 24,
   "id": "871e2731",
   "metadata": {},
   "outputs": [
    {
     "data": {
      "text/plain": [
       "pandas.core.series.Series"
      ]
     },
     "execution_count": 24,
     "metadata": {},
     "output_type": "execute_result"
    }
   ],
   "source": [
    "type(missing_gender) #missing_gender es una serie"
   ]
  },
  {
   "cell_type": "code",
   "execution_count": 16,
   "id": "9fbb3172",
   "metadata": {},
   "outputs": [],
   "source": [
    "#.loc muestra los renglones del dataset donde falta el gender"
   ]
  },
  {
   "cell_type": "code",
   "execution_count": 25,
   "id": "06546994",
   "metadata": {},
   "outputs": [
    {
     "data": {
      "text/html": [
       "<div>\n",
       "<style scoped>\n",
       "    .dataframe tbody tr th:only-of-type {\n",
       "        vertical-align: middle;\n",
       "    }\n",
       "\n",
       "    .dataframe tbody tr th {\n",
       "        vertical-align: top;\n",
       "    }\n",
       "\n",
       "    .dataframe thead th {\n",
       "        text-align: right;\n",
       "    }\n",
       "</style>\n",
       "<table border=\"1\" class=\"dataframe\">\n",
       "  <thead>\n",
       "    <tr style=\"text-align: right;\">\n",
       "      <th></th>\n",
       "      <th>fname</th>\n",
       "      <th>lname</th>\n",
       "      <th>gender</th>\n",
       "      <th>age</th>\n",
       "      <th>exercise</th>\n",
       "      <th>hours</th>\n",
       "      <th>grade</th>\n",
       "      <th>address</th>\n",
       "    </tr>\n",
       "  </thead>\n",
       "  <tbody>\n",
       "    <tr>\n",
       "      <th>990</th>\n",
       "      <td>Lydia</td>\n",
       "      <td>Benjamin</td>\n",
       "      <td>NaN</td>\n",
       "      <td>19.0</td>\n",
       "      <td>1.0</td>\n",
       "      <td>14.0</td>\n",
       "      <td>86.4</td>\n",
       "      <td>626 Griffin Ave., Greensboro, NC 27405</td>\n",
       "    </tr>\n",
       "    <tr>\n",
       "      <th>1081</th>\n",
       "      <td>Maisie</td>\n",
       "      <td>Barton</td>\n",
       "      <td>NaN</td>\n",
       "      <td>16.0</td>\n",
       "      <td>2.0</td>\n",
       "      <td>13.0</td>\n",
       "      <td>81.4</td>\n",
       "      <td>9042 East Canal St., Pensacola, FL 32503</td>\n",
       "    </tr>\n",
       "  </tbody>\n",
       "</table>\n",
       "</div>"
      ],
      "text/plain": [
       "       fname     lname gender   age  exercise  hours  grade  \\\n",
       "990    Lydia  Benjamin    NaN  19.0       1.0   14.0   86.4   \n",
       "1081  Maisie    Barton    NaN  16.0       2.0   13.0   81.4   \n",
       "\n",
       "                                       address  \n",
       "990     626 Griffin Ave., Greensboro, NC 27405  \n",
       "1081  9042 East Canal St., Pensacola, FL 32503  "
      ]
     },
     "execution_count": 25,
     "metadata": {},
     "output_type": "execute_result"
    }
   ],
   "source": [
    "null_data_df_missing_gds.loc[missing_gender]"
   ]
  },
  {
   "cell_type": "markdown",
   "id": "e722c1f2",
   "metadata": {},
   "source": [
    "<A name='DecidingOnMissingData'> <h3> 2a.Deciding on missing data. </h3>"
   ]
  },
  {
   "cell_type": "markdown",
   "id": "654836e3",
   "metadata": {},
   "source": [
    "<div class=\"alert alert-block alert-info\" style=\"margin-top: 20px\">\n",
    "    <ul>\n",
    "        <li><a href=\"#TablaContenidos\">Regresar a Tabla de Contenidos</a></li>\n",
    "    </ul>\n",
    "</div>"
   ]
  },
  {
   "cell_type": "markdown",
   "id": "5c7332e6",
   "metadata": {},
   "source": [
    "### Es posible que en alguna de estas decisiones, implique perdida de datos importante, ya que algunos de estos datos pudieran ser potenciales outliers o conducir a hallazgos relevantes."
   ]
  },
  {
   "cell_type": "markdown",
   "id": "3bd2e11f",
   "metadata": {},
   "source": [
    "#### Una vez identificados los renglones con datos faltantes se debe decidir que hacer con ellos."
   ]
  },
  {
   "cell_type": "markdown",
   "id": "6ca36f87",
   "metadata": {},
   "source": [
    "### OPCION 1: Una primera opción es simplemente eliminar los renglones con datos faltantes."
   ]
  },
  {
   "cell_type": "markdown",
   "id": "11c9d59e",
   "metadata": {},
   "source": [
    "##### Para mostrar primero la efectividad del método \"dropna()\", podemos trabajar con el conjunto de datos nulos"
   ]
  },
  {
   "cell_type": "code",
   "execution_count": 26,
   "id": "e1b04642",
   "metadata": {},
   "outputs": [
    {
     "data": {
      "text/html": [
       "<div>\n",
       "<style scoped>\n",
       "    .dataframe tbody tr th:only-of-type {\n",
       "        vertical-align: middle;\n",
       "    }\n",
       "\n",
       "    .dataframe tbody tr th {\n",
       "        vertical-align: top;\n",
       "    }\n",
       "\n",
       "    .dataframe thead th {\n",
       "        text-align: right;\n",
       "    }\n",
       "</style>\n",
       "<table border=\"1\" class=\"dataframe\">\n",
       "  <thead>\n",
       "    <tr style=\"text-align: right;\">\n",
       "      <th></th>\n",
       "      <th>fname</th>\n",
       "      <th>lname</th>\n",
       "      <th>gender</th>\n",
       "      <th>age</th>\n",
       "      <th>exercise</th>\n",
       "      <th>hours</th>\n",
       "      <th>grade</th>\n",
       "      <th>address</th>\n",
       "    </tr>\n",
       "  </thead>\n",
       "  <tbody>\n",
       "  </tbody>\n",
       "</table>\n",
       "</div>"
      ],
      "text/plain": [
       "Empty DataFrame\n",
       "Columns: [fname, lname, gender, age, exercise, hours, grade, address]\n",
       "Index: []"
      ]
     },
     "execution_count": 26,
     "metadata": {},
     "output_type": "execute_result"
    }
   ],
   "source": [
    "null_data_df_missing_gds.dropna()"
   ]
  },
  {
   "cell_type": "markdown",
   "id": "e513c86a",
   "metadata": {},
   "source": [
    "##### La salida muestra que se eliminaron todos los registros de null_data_df_missing_gds. Sin embargo no se actualizó este conjunto de datos. "
   ]
  },
  {
   "cell_type": "code",
   "execution_count": 28,
   "id": "2360ed91",
   "metadata": {},
   "outputs": [
    {
     "data": {
      "text/plain": [
       "18"
      ]
     },
     "execution_count": 28,
     "metadata": {},
     "output_type": "execute_result"
    }
   ],
   "source": [
    "len (null_data_df_missing_gds)"
   ]
  },
  {
   "cell_type": "markdown",
   "id": "28492f4a",
   "metadata": {},
   "source": [
    "##### Para actualizar el conjunto de datos, se debe asignar la salida al mismo conjunto de datos, es decir: "
   ]
  },
  {
   "cell_type": "code",
   "execution_count": 30,
   "id": "974d05fe",
   "metadata": {},
   "outputs": [
    {
     "data": {
      "text/plain": [
       "0"
      ]
     },
     "execution_count": 30,
     "metadata": {},
     "output_type": "execute_result"
    }
   ],
   "source": [
    "null_data_df_missing_gds=null_data_df_missing_gds.dropna()\n",
    "len (null_data_df_missing_gds)"
   ]
  },
  {
   "cell_type": "markdown",
   "id": "fe6339a5",
   "metadata": {},
   "source": [
    "#### Entonces la actualizacion debe realizarse sobre el conjunto de datos con el que se quiera o deba trabajar sin datos faltantes."
   ]
  },
  {
   "cell_type": "markdown",
   "id": "00f98122",
   "metadata": {},
   "source": [
    "### OPCION 2: Eliminar selectivamente los renglones con algun dato faltante"
   ]
  },
  {
   "cell_type": "code",
   "execution_count": 31,
   "id": "baf760cf",
   "metadata": {},
   "outputs": [
    {
     "data": {
      "text/plain": [
       "0       False\n",
       "1       False\n",
       "2       False\n",
       "3       False\n",
       "4       False\n",
       "        ...  \n",
       "1997    False\n",
       "1998    False\n",
       "1999    False\n",
       "2000    False\n",
       "2001    False\n",
       "Length: 2002, dtype: bool"
      ]
     },
     "execution_count": 31,
     "metadata": {},
     "output_type": "execute_result"
    }
   ],
   "source": [
    "df_missing_gds['age'].isnull() & df_missing_gds['gender'].isnull()"
   ]
  },
  {
   "cell_type": "markdown",
   "id": "8bed93ed",
   "metadata": {},
   "source": [
    "###  OPCION 3: Excluir los renglones con datos faltantes para alguna operacion en particular."
   ]
  },
  {
   "cell_type": "markdown",
   "id": "2b7987e5",
   "metadata": {},
   "source": [
    "###  OPCION 4: Remplazar el dato faltante.  "
   ]
  },
  {
   "cell_type": "markdown",
   "id": "93c67887",
   "metadata": {},
   "source": [
    "####  OPCION 4a: Por ejemplo para los renglones faltantes de datos de \"genero\", es posible decidir el genero con base al nombre."
   ]
  },
  {
   "cell_type": "code",
   "execution_count": 11,
   "id": "bb7094e4",
   "metadata": {},
   "outputs": [
    {
     "data": {
      "text/html": [
       "<div>\n",
       "<style scoped>\n",
       "    .dataframe tbody tr th:only-of-type {\n",
       "        vertical-align: middle;\n",
       "    }\n",
       "\n",
       "    .dataframe tbody tr th {\n",
       "        vertical-align: top;\n",
       "    }\n",
       "\n",
       "    .dataframe thead th {\n",
       "        text-align: right;\n",
       "    }\n",
       "</style>\n",
       "<table border=\"1\" class=\"dataframe\">\n",
       "  <thead>\n",
       "    <tr style=\"text-align: right;\">\n",
       "      <th></th>\n",
       "      <th>fname</th>\n",
       "      <th>lname</th>\n",
       "      <th>gender</th>\n",
       "      <th>age</th>\n",
       "      <th>exercise</th>\n",
       "      <th>hours</th>\n",
       "      <th>grade</th>\n",
       "      <th>address</th>\n",
       "    </tr>\n",
       "  </thead>\n",
       "  <tbody>\n",
       "    <tr>\n",
       "      <th>990</th>\n",
       "      <td>Lydia</td>\n",
       "      <td>Benjamin</td>\n",
       "      <td>NaN</td>\n",
       "      <td>19.0</td>\n",
       "      <td>1.0</td>\n",
       "      <td>14.0</td>\n",
       "      <td>86.4</td>\n",
       "      <td>626 Griffin Ave., Greensboro, NC 27405</td>\n",
       "    </tr>\n",
       "    <tr>\n",
       "      <th>1081</th>\n",
       "      <td>Maisie</td>\n",
       "      <td>Barton</td>\n",
       "      <td>NaN</td>\n",
       "      <td>16.0</td>\n",
       "      <td>2.0</td>\n",
       "      <td>13.0</td>\n",
       "      <td>81.4</td>\n",
       "      <td>9042 East Canal St., Pensacola, FL 32503</td>\n",
       "    </tr>\n",
       "  </tbody>\n",
       "</table>\n",
       "</div>"
      ],
      "text/plain": [
       "       fname     lname gender   age  exercise  hours  grade  \\\n",
       "990    Lydia  Benjamin    NaN  19.0       1.0   14.0   86.4   \n",
       "1081  Maisie    Barton    NaN  16.0       2.0   13.0   81.4   \n",
       "\n",
       "                                       address  \n",
       "990     626 Griffin Ave., Greensboro, NC 27405  \n",
       "1081  9042 East Canal St., Pensacola, FL 32503  "
      ]
     },
     "execution_count": 11,
     "metadata": {},
     "output_type": "execute_result"
    }
   ],
   "source": [
    "df_missing_gds.iloc[[990,1081]]"
   ]
  },
  {
   "cell_type": "code",
   "execution_count": 12,
   "id": "ddda1875",
   "metadata": {},
   "outputs": [],
   "source": [
    "#mostramos el genero en este par de números de renglon "
   ]
  },
  {
   "cell_type": "code",
   "execution_count": 13,
   "id": "d7feecb1",
   "metadata": {},
   "outputs": [
    {
     "data": {
      "text/plain": [
       "990     NaN\n",
       "1081    NaN\n",
       "Name: gender, dtype: object"
      ]
     },
     "execution_count": 13,
     "metadata": {},
     "output_type": "execute_result"
    }
   ],
   "source": [
    "df_missing_gds.iloc[[990,1081]].gender"
   ]
  },
  {
   "cell_type": "code",
   "execution_count": 16,
   "id": "0d535cf2",
   "metadata": {},
   "outputs": [],
   "source": [
    "# y procedemos asignarles el genero con base al nombre "
   ]
  },
  {
   "cell_type": "code",
   "execution_count": 14,
   "id": "741851aa",
   "metadata": {},
   "outputs": [],
   "source": [
    "df_missing_gds.loc[[990,1081],'gender']=\"female\""
   ]
  },
  {
   "cell_type": "code",
   "execution_count": 15,
   "id": "e232d5ce",
   "metadata": {},
   "outputs": [
    {
     "data": {
      "text/html": [
       "<div>\n",
       "<style scoped>\n",
       "    .dataframe tbody tr th:only-of-type {\n",
       "        vertical-align: middle;\n",
       "    }\n",
       "\n",
       "    .dataframe tbody tr th {\n",
       "        vertical-align: top;\n",
       "    }\n",
       "\n",
       "    .dataframe thead th {\n",
       "        text-align: right;\n",
       "    }\n",
       "</style>\n",
       "<table border=\"1\" class=\"dataframe\">\n",
       "  <thead>\n",
       "    <tr style=\"text-align: right;\">\n",
       "      <th></th>\n",
       "      <th>fname</th>\n",
       "      <th>lname</th>\n",
       "      <th>gender</th>\n",
       "      <th>age</th>\n",
       "      <th>exercise</th>\n",
       "      <th>hours</th>\n",
       "      <th>grade</th>\n",
       "      <th>address</th>\n",
       "    </tr>\n",
       "  </thead>\n",
       "  <tbody>\n",
       "    <tr>\n",
       "      <th>990</th>\n",
       "      <td>Lydia</td>\n",
       "      <td>Benjamin</td>\n",
       "      <td>female</td>\n",
       "      <td>19.0</td>\n",
       "      <td>1.0</td>\n",
       "      <td>14.0</td>\n",
       "      <td>86.4</td>\n",
       "      <td>626 Griffin Ave., Greensboro, NC 27405</td>\n",
       "    </tr>\n",
       "    <tr>\n",
       "      <th>1081</th>\n",
       "      <td>Maisie</td>\n",
       "      <td>Barton</td>\n",
       "      <td>female</td>\n",
       "      <td>16.0</td>\n",
       "      <td>2.0</td>\n",
       "      <td>13.0</td>\n",
       "      <td>81.4</td>\n",
       "      <td>9042 East Canal St., Pensacola, FL 32503</td>\n",
       "    </tr>\n",
       "  </tbody>\n",
       "</table>\n",
       "</div>"
      ],
      "text/plain": [
       "       fname     lname  gender   age  exercise  hours  grade  \\\n",
       "990    Lydia  Benjamin  female  19.0       1.0   14.0   86.4   \n",
       "1081  Maisie    Barton  female  16.0       2.0   13.0   81.4   \n",
       "\n",
       "                                       address  \n",
       "990     626 Griffin Ave., Greensboro, NC 27405  \n",
       "1081  9042 East Canal St., Pensacola, FL 32503  "
      ]
     },
     "execution_count": 15,
     "metadata": {},
     "output_type": "execute_result"
    }
   ],
   "source": [
    "df_missing_gds.iloc[[990,1081]]"
   ]
  },
  {
   "cell_type": "markdown",
   "id": "27a061dc",
   "metadata": {},
   "source": [
    "####  OPCION 4b: Por ejemplo para los renglones faltantes de datos numericos, es posible decidir sobre ellos con base al valor promedio."
   ]
  },
  {
   "cell_type": "markdown",
   "id": "31c57f39",
   "metadata": {},
   "source": [
    "<A name='FilteringInnapropiateValues'> </A> <h3>Filtering & Removing Inapropiate Values</h3>"
   ]
  },
  {
   "cell_type": "markdown",
   "id": "4d68e71e",
   "metadata": {},
   "source": [
    "<div class=\"alert alert-block alert-info\" style=\"margin-top: 20px\">\n",
    "    <ul>\n",
    "        <li><a href=\"#TablaContenidos\">Regresar a Tabla de Contenidos</a></li>\n",
    "    </ul>\n",
    "</div>"
   ]
  },
  {
   "cell_type": "code",
   "execution_count": null,
   "id": "27ce73a9",
   "metadata": {},
   "outputs": [],
   "source": [
    "3. Remove inappropiate values"
   ]
  },
  {
   "cell_type": "markdown",
   "id": "afe2e4bd",
   "metadata": {},
   "source": [
    "<A name='FindingDuplicateRows'> </A> <h3> Finding Duplicate Rows </h3>"
   ]
  },
  {
   "cell_type": "markdown",
   "id": "d61eb6a9",
   "metadata": {},
   "source": [
    "<div class=\"alert alert-block alert-info\" style=\"margin-top: 20px\">\n",
    "    <ul>\n",
    "        <li><a href=\"#TablaContenidos\">Regresar a Tabla de Contenidos</a></li>\n",
    "    </ul>\n",
    "</div>"
   ]
  },
  {
   "cell_type": "code",
   "execution_count": 121,
   "id": "614a1a0f",
   "metadata": {},
   "outputs": [
    {
     "data": {
      "text/plain": [
       "0       False\n",
       "1       False\n",
       "2       False\n",
       "3       False\n",
       "4       False\n",
       "        ...  \n",
       "1995    False\n",
       "1996    False\n",
       "1997    False\n",
       "1998    False\n",
       "1999    False\n",
       "Length: 2000, dtype: bool"
      ]
     },
     "execution_count": 121,
     "metadata": {},
     "output_type": "execute_result"
    }
   ],
   "source": [
    "df.duplicated()"
   ]
  },
  {
   "cell_type": "code",
   "execution_count": 122,
   "id": "1ee15cc8",
   "metadata": {},
   "outputs": [
    {
     "name": "stdout",
     "output_type": "stream",
     "text": [
      "no hay renglones duplicados\n"
     ]
    }
   ],
   "source": [
    "if any(df.duplicated()):\n",
    "    print(\"existe renglon duplicado\")\n",
    "else:\n",
    "    print(\"no hay renglones duplicados\")"
   ]
  },
  {
   "cell_type": "markdown",
   "id": "809fc5c9",
   "metadata": {},
   "source": [
    "## Removing Punctuation from Column Contents"
   ]
  },
  {
   "cell_type": "markdown",
   "id": "45e09468",
   "metadata": {},
   "source": [
    "<div class=\"alert alert-block alert-info\" style=\"margin-top: 20px\">\n",
    "    <ul>\n",
    "        <li><a href=\"#TablaContenidos\">Regresar a Tabla de Contenidos</a></li>\n",
    "    </ul>\n",
    "</div>"
   ]
  },
  {
   "cell_type": "code",
   "execution_count": null,
   "id": "4f3e0e9b",
   "metadata": {},
   "outputs": [],
   "source": []
  }
 ],
 "metadata": {
  "kernelspec": {
   "display_name": "Python 3 (ipykernel)",
   "language": "python",
   "name": "python3"
  },
  "language_info": {
   "codemirror_mode": {
    "name": "ipython",
    "version": 3
   },
   "file_extension": ".py",
   "mimetype": "text/x-python",
   "name": "python",
   "nbconvert_exporter": "python",
   "pygments_lexer": "ipython3",
   "version": "3.9.7"
  },
  "toc-showtags": false
 },
 "nbformat": 4,
 "nbformat_minor": 5
}
